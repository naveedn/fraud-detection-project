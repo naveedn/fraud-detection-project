{
 "cells": [
  {
   "cell_type": "code",
   "execution_count": 1,
   "metadata": {},
   "outputs": [],
   "source": [
    "%matplotlib inline"
   ]
  },
  {
   "cell_type": "code",
   "execution_count": 2,
   "metadata": {},
   "outputs": [],
   "source": [
    "# HACK: needed to manually import sys.path from ipython repl, for some reason it doesn't work on my host otherwise\n",
    "import sys\n",
    "sys.path = ['', '/Users/naveed/scratch/fraud_detection_project/venv/bin', '/Users/naveed/scratch/fraud_detection_project/venv/lib/python27.zip', '/Users/naveed/scratch/fraud_detection_project/venv/lib/python2.7', '/Users/naveed/scratch/fraud_detection_project/venv/lib/python2.7/plat-darwin', '/Users/naveed/scratch/fraud_detection_project/venv/lib/python2.7/plat-mac', '/Users/naveed/scratch/fraud_detection_project/venv/lib/python2.7/plat-mac/lib-scriptpackages', '/Users/naveed/scratch/fraud_detection_project/venv/lib/python2.7/lib-tk', '/Users/naveed/scratch/fraud_detection_project/venv/lib/python2.7/lib-old', '/Users/naveed/scratch/fraud_detection_project/venv/lib/python2.7/lib-dynload', '/Users/naveed/anaconda2/lib/python2.7', '/Users/naveed/anaconda2/lib/python2.7/plat-darwin', '/Users/naveed/anaconda2/lib/python2.7/lib-tk', '/Users/naveed/anaconda2/lib/python2.7/plat-mac', '/Users/naveed/anaconda2/lib/python2.7/plat-mac/lib-scriptpackages', '/Users/naveed/scratch/fraud_detection_project/venv/lib/python2.7/site-packages', '/Users/naveed/scratch/fraud_detection_project/venv/lib/python2.7/site-packages/IPython/extensions', '/Users/naveed/.ipython']"
   ]
  },
  {
   "cell_type": "code",
   "execution_count": 3,
   "metadata": {},
   "outputs": [
    {
     "data": {
      "text/plain": [
       "<matplotlib.figure.Figure at 0x112082f50>"
      ]
     },
     "metadata": {},
     "output_type": "display_data"
    }
   ],
   "source": [
    "%load_ext autoreload\n",
    "%autoreload 2\n",
    "\n",
    "import pandas as pd\n",
    "import numpy as np\n",
    "import matplotlib.pyplot as plt\n",
    "\n",
    "plt.figure(figsize=(8,6))\n",
    "\n",
    "from sklearn.preprocessing import normalize\n",
    "from sklearn.model_selection import train_test_split\n",
    "\n",
    "from sklearn import metrics\n",
    "from sklearn.metrics import confusion_matrix\n",
    "from sklearn.metrics import classification_report\n",
    "\n",
    "pd.set_option('max_colwidth', -1)"
   ]
  },
  {
   "cell_type": "code",
   "execution_count": 4,
   "metadata": {},
   "outputs": [],
   "source": [
    "import xgboost"
   ]
  },
  {
   "cell_type": "code",
   "execution_count": 5,
   "metadata": {},
   "outputs": [],
   "source": [
    "pdf = pd.read_csv('./creditcard.csv')"
   ]
  },
  {
   "cell_type": "markdown",
   "metadata": {},
   "source": [
    "# Notes:\n",
    " - Reduced FeatureSet: 28 Features determined from prior PCA analysis. Original features were scrubbed for user anonymity\n",
    " - Time & Amount are the only two original features\n",
    " - Total Samples in DataSet: 284,807. Number of Fraudalent transactions: 492 (0.172%) of all transactions. Represented by \"Class\" Feature\n",
    " \n",
    "# Goal:\n",
    " - with the highly imbalanced data set, normalize the data by normalizing  underfitting the data\n",
    " - compare different models and estimate which ones perform better\n",
    " - go back and use some oversampling method to see how the models change with the availability of more data\n",
    " - "
   ]
  },
  {
   "cell_type": "code",
   "execution_count": 6,
   "metadata": {},
   "outputs": [],
   "source": [
    "numerical_features_only = sorted(list(set(pdf.columns.tolist()) - set(['Time', 'Amount', 'Class'])), key=lambda x: int(x[1:]))"
   ]
  },
  {
   "cell_type": "markdown",
   "metadata": {},
   "source": [
    "## Fraud Class EDA"
   ]
  },
  {
   "cell_type": "code",
   "execution_count": 7,
   "metadata": {},
   "outputs": [],
   "source": [
    "fraud_df = pdf.loc[pdf.Class == 1]"
   ]
  },
  {
   "cell_type": "code",
   "execution_count": 51,
   "metadata": {},
   "outputs": [
    {
     "data": {
      "text/html": [
       "<div>\n",
       "<style scoped>\n",
       "    .dataframe tbody tr th:only-of-type {\n",
       "        vertical-align: middle;\n",
       "    }\n",
       "\n",
       "    .dataframe tbody tr th {\n",
       "        vertical-align: top;\n",
       "    }\n",
       "\n",
       "    .dataframe thead th {\n",
       "        text-align: right;\n",
       "    }\n",
       "</style>\n",
       "<table border=\"1\" class=\"dataframe\">\n",
       "  <thead>\n",
       "    <tr style=\"text-align: right;\">\n",
       "      <th></th>\n",
       "      <th>Amount</th>\n",
       "    </tr>\n",
       "  </thead>\n",
       "  <tbody>\n",
       "    <tr>\n",
       "      <th>count</th>\n",
       "      <td>492.000000</td>\n",
       "    </tr>\n",
       "    <tr>\n",
       "      <th>mean</th>\n",
       "      <td>122.211321</td>\n",
       "    </tr>\n",
       "    <tr>\n",
       "      <th>std</th>\n",
       "      <td>256.683288</td>\n",
       "    </tr>\n",
       "    <tr>\n",
       "      <th>min</th>\n",
       "      <td>0.000000</td>\n",
       "    </tr>\n",
       "    <tr>\n",
       "      <th>25%</th>\n",
       "      <td>1.000000</td>\n",
       "    </tr>\n",
       "    <tr>\n",
       "      <th>50%</th>\n",
       "      <td>9.250000</td>\n",
       "    </tr>\n",
       "    <tr>\n",
       "      <th>75%</th>\n",
       "      <td>105.890000</td>\n",
       "    </tr>\n",
       "    <tr>\n",
       "      <th>max</th>\n",
       "      <td>2125.870000</td>\n",
       "    </tr>\n",
       "  </tbody>\n",
       "</table>\n",
       "</div>"
      ],
      "text/plain": [
       "            Amount\n",
       "count  492.000000 \n",
       "mean   122.211321 \n",
       "std    256.683288 \n",
       "min    0.000000   \n",
       "25%    1.000000   \n",
       "50%    9.250000   \n",
       "75%    105.890000 \n",
       "max    2125.870000"
      ]
     },
     "execution_count": 51,
     "metadata": {},
     "output_type": "execute_result"
    }
   ],
   "source": [
    "fraud_df.describe()[['Amount']]"
   ]
  },
  {
   "cell_type": "markdown",
   "metadata": {},
   "source": [
    "## Notes:\n",
    "- using just the numerical variables, it seems that positive correlations exist between (8x9, 15-17), neg corr: (1-3, 18x15-17)"
   ]
  },
  {
   "cell_type": "code",
   "execution_count": 9,
   "metadata": {},
   "outputs": [
    {
     "data": {
      "text/plain": [
       "<matplotlib.colorbar.Colorbar at 0x1108462d0>"
      ]
     },
     "execution_count": 9,
     "metadata": {},
     "output_type": "execute_result"
    },
    {
     "data": {
      "image/png": "[encoded data removed]",
      "text/plain": [
       "<matplotlib.figure.Figure at 0x121f70550>"
      ]
     },
     "metadata": {},
     "output_type": "display_data"
    }
   ],
   "source": [
    "fig = plt.figure(figsize=(20,10))\n",
    "cax = plt.matshow(fraud_df[numerical_features_only].corr(), fignum=1)\n",
    "fig.colorbar(cax)"
   ]
  },
  {
   "cell_type": "code",
   "execution_count": 10,
   "metadata": {},
   "outputs": [
    {
     "data": {
      "image/png": "[encoded data removed]",
      "text/plain": [
       "<matplotlib.figure.Figure at 0x110917910>"
      ]
     },
     "metadata": {},
     "output_type": "display_data"
    }
   ],
   "source": [
    "y = fraud_df[['Time']].hist(bins=50, color='red')"
   ]
  },
  {
   "cell_type": "code",
   "execution_count": 11,
   "metadata": {},
   "outputs": [
    {
     "data": {
      "text/plain": [
       "array([[<matplotlib.axes._subplots.AxesSubplot object at 0x12054eb50>]],\n",
       "      dtype=object)"
      ]
     },
     "execution_count": 11,
     "metadata": {},
     "output_type": "execute_result"
    },
    {
     "data": {
      "image/png": "[encoded data removed]",
      "text/plain": [
       "<matplotlib.figure.Figure at 0x1205721d0>"
      ]
     },
     "metadata": {},
     "output_type": "display_data"
    }
   ],
   "source": [
    "pdf[['Time']].hist(bins=50)"
   ]
  },
  {
   "cell_type": "code",
   "execution_count": 12,
   "metadata": {},
   "outputs": [
    {
     "data": {
      "text/plain": [
       "array([[<matplotlib.axes._subplots.AxesSubplot object at 0x1205fe390>]],\n",
       "      dtype=object)"
      ]
     },
     "execution_count": 12,
     "metadata": {},
     "output_type": "execute_result"
    },
    {
     "data": {
      "image/png": "[encoded data removed]",
      "text/plain": [
       "<matplotlib.figure.Figure at 0x11df9a350>"
      ]
     },
     "metadata": {},
     "output_type": "display_data"
    }
   ],
   "source": [
    "fraud_df[['Amount']].hist(bins=50)"
   ]
  },
  {
   "cell_type": "code",
   "execution_count": 13,
   "metadata": {},
   "outputs": [
    {
     "data": {
      "text/plain": [
       "array([[<matplotlib.axes._subplots.AxesSubplot object at 0x11e0efd50>]],\n",
       "      dtype=object)"
      ]
     },
     "execution_count": 13,
     "metadata": {},
     "output_type": "execute_result"
    },
    {
     "data": {
      "image/png": "[encoded data removed]",
      "text/plain": [
       "<matplotlib.figure.Figure at 0x11e0a5d50>"
      ]
     },
     "metadata": {},
     "output_type": "display_data"
    }
   ],
   "source": [
    "pdf[['Amount']].hist(bins=50)"
   ]
  },
  {
   "cell_type": "markdown",
   "metadata": {},
   "source": [
    "## Data Preparation\n",
    "- Dealing with imbalanced data seems to be a concern here because of the disparity of fraudalent data\n",
    "    - Oversampling — SMOTE\n",
    "    - Undersampling — RandomUnderSampler\n",
    "    - Combined Class Methods — SMOTE + ENN\n",
    "- Outlier Detection & Removal\n",
    "- Dimensionality Reduction"
   ]
  },
  {
   "cell_type": "code",
   "execution_count": 14,
   "metadata": {},
   "outputs": [],
   "source": [
    "def normalize(series):\n",
    "    return (series - series.min()) / (series.max() - series.min())\n",
    "\n",
    "pdf['time_normalized'] = normalize(pdf.Time)\n",
    "pdf['amount_normalized'] = normalize(pdf.Amount)"
   ]
  },
  {
   "cell_type": "code",
   "execution_count": 15,
   "metadata": {},
   "outputs": [],
   "source": [
    "def undersample(df):\n",
    "    discriminant_feature = df.loc[df.Class == 1]\n",
    "    cnt = len(discriminant_feature)\n",
    "    other_set = df.loc[df.Class == 0].sample(n=cnt)\n",
    "    \n",
    "    together = pd.concat([discriminant_feature,other_set])\n",
    "    return together.sample(frac=1)\n",
    "    \n",
    "\n",
    "balanced_df = undersample(pdf[numerical_features_only + ['time_normalized', 'amount_normalized', 'Class']])"
   ]
  },
  {
   "cell_type": "markdown",
   "metadata": {},
   "source": [
    "### Split dataset into training / test"
   ]
  },
  {
   "cell_type": "code",
   "execution_count": 16,
   "metadata": {},
   "outputs": [],
   "source": [
    "features = [x for x in balanced_df.columns.tolist() if x != 'Class']\n",
    "\n",
    "X = balanced_df[features]\n",
    "y = balanced_df.Class\n",
    "\n",
    "X_train, X_test, y_train, y_test = train_test_split(X, y, test_size=0.8, random_state=0)"
   ]
  },
  {
   "cell_type": "code",
   "execution_count": 17,
   "metadata": {},
   "outputs": [],
   "source": [
    "results = pd.DataFrame()\n",
    "\n",
    "col_order = ['false_negative', 'false_positive', 'true_negative', 'true_positive', 'fraud_f1-score', 'fraud_precision', 'fraud_recall', 'not_fraud_f1-score', 'not_fraud_precision', 'not_fraud_recall']"
   ]
  },
  {
   "cell_type": "markdown",
   "metadata": {},
   "source": [
    "## Helper methods for model creation"
   ]
  },
  {
   "cell_type": "code",
   "execution_count": 18,
   "metadata": {},
   "outputs": [],
   "source": [
    "def train_model(model, model_name, X_train, X_test, y_train, y_test):\n",
    "    model.fit(X_train, y_train)\n",
    "    y_pred = model.predict(X_test)\n",
    "    print('Accuracy of {model_name} on test set: {accuracy:.2f}'.format(model_name=model_name, accuracy=model.score(X_test, y_test)))\n",
    "    \n",
    "    return y_pred\n",
    "\n",
    "def flatten(report):\n",
    "    \"used to flatten confusion matrix and classification report \"\n",
    "    final_dict = {}\n",
    "    for k, v in report.items():\n",
    "        for k2, v2 in v.items():\n",
    "            if k2 in ['precision', 'recall', 'f1-score'] and k in ['not_fraud', 'fraud']:\n",
    "                final_dict[k + '_' +k2] =  v2\n",
    "    \n",
    "    return final_dict\n",
    "\n",
    "def analyze_model_stats(model, model_name, X_train, X_test, y_train, y_test, y_pred, results_df):\n",
    "    cfmx = confusion_matrix(y_test, y_pred)\n",
    "    report = classification_report(y_test, y_pred, target_names=['not_fraud', 'fraud'], output_dict=True)\n",
    "    \n",
    "    print 'CONFUSION MATRIX:\\n',\n",
    "    print(cfmx)\n",
    "    print\n",
    "    print 'CLASSIFICATION REPORT:'\n",
    "    print(classification_report(y_test, y_pred, target_names=['not_fraud', 'fraud']))\n",
    "        \n",
    "    data = dict({\n",
    "        'name': model_name,\n",
    "        'true_positive': cfmx[0,0],\n",
    "        'false_negative': cfmx[0,1],\n",
    "        'false_positive': cfmx[1,0],\n",
    "        'true_negative': cfmx[1,1],\n",
    "    }, **flatten(report))\n",
    "    \n",
    "    return [data]\n",
    "    \n",
    "def train_and_analyze(model, model_name, X_train, X_test, y_train, y_test, results_df):\n",
    "    y_pred = train_model(model, model_name, X_train, X_test, y_train, y_test)\n",
    "    return analyze_model_stats(model, model_name, X_train, X_test, y_train, y_test, y_pred, results_df)"
   ]
  },
  {
   "cell_type": "markdown",
   "metadata": {},
   "source": [
    "## ML Models to try out\n",
    "- [**DONE**] Logistic Regression\n",
    "- [**DONE**] Linear Discriminant Analysis\n",
    "- [**DONE**] K Nearest Neighbors (KNN)\n",
    "- [**DONE**] Classification Trees (Decision Tree, Random Forest)\n",
    "- [**DONE**]Support Vector Classifier\n",
    "- [**DONE**] Random Forest Classifier\n",
    "- [**DONE**] XGBoost Classifier (could not get this thing to compile -- try again later)"
   ]
  },
  {
   "cell_type": "markdown",
   "metadata": {},
   "source": [
    "## Logistic Regression"
   ]
  },
  {
   "cell_type": "code",
   "execution_count": 19,
   "metadata": {},
   "outputs": [
    {
     "name": "stdout",
     "output_type": "stream",
     "text": [
      "Accuracy of logistic regression on test set: 0.93\n",
      "CONFUSION MATRIX:\n",
      "[[372  23]\n",
      " [ 29 364]]\n",
      "\n",
      "CLASSIFICATION REPORT:\n",
      "              precision    recall  f1-score   support\n",
      "\n",
      "   not_fraud       0.93      0.94      0.93       395\n",
      "       fraud       0.94      0.93      0.93       393\n",
      "\n",
      "   micro avg       0.93      0.93      0.93       788\n",
      "   macro avg       0.93      0.93      0.93       788\n",
      "weighted avg       0.93      0.93      0.93       788\n",
      "\n"
     ]
    },
    {
     "name": "stderr",
     "output_type": "stream",
     "text": [
      "/Users/naveed/scratch/fraud_detection_project/venv/lib/python2.7/site-packages/sklearn/linear_model/logistic.py:433: FutureWarning: Default solver will be changed to 'lbfgs' in 0.22. Specify a solver to silence this warning.\n",
      "  FutureWarning)\n"
     ]
    }
   ],
   "source": [
    "from sklearn.linear_model import LogisticRegression\n",
    "\n",
    "logreg = LogisticRegression()\n",
    "results = results.append(train_and_analyze(logreg, 'logistic regression', X_train, X_test, y_train, y_test, results))"
   ]
  },
  {
   "cell_type": "code",
   "execution_count": 20,
   "metadata": {},
   "outputs": [
    {
     "data": {
      "text/html": [
       "<div>\n",
       "<style scoped>\n",
       "    .dataframe tbody tr th:only-of-type {\n",
       "        vertical-align: middle;\n",
       "    }\n",
       "\n",
       "    .dataframe tbody tr th {\n",
       "        vertical-align: top;\n",
       "    }\n",
       "\n",
       "    .dataframe thead th {\n",
       "        text-align: right;\n",
       "    }\n",
       "</style>\n",
       "<table border=\"1\" class=\"dataframe\">\n",
       "  <thead>\n",
       "    <tr style=\"text-align: right;\">\n",
       "      <th></th>\n",
       "      <th>false_negative</th>\n",
       "      <th>false_positive</th>\n",
       "      <th>true_negative</th>\n",
       "      <th>true_positive</th>\n",
       "      <th>fraud_f1-score</th>\n",
       "      <th>fraud_precision</th>\n",
       "      <th>fraud_recall</th>\n",
       "      <th>not_fraud_f1-score</th>\n",
       "      <th>not_fraud_precision</th>\n",
       "      <th>not_fraud_recall</th>\n",
       "    </tr>\n",
       "    <tr>\n",
       "      <th>name</th>\n",
       "      <th></th>\n",
       "      <th></th>\n",
       "      <th></th>\n",
       "      <th></th>\n",
       "      <th></th>\n",
       "      <th></th>\n",
       "      <th></th>\n",
       "      <th></th>\n",
       "      <th></th>\n",
       "      <th></th>\n",
       "    </tr>\n",
       "  </thead>\n",
       "  <tbody>\n",
       "    <tr>\n",
       "      <th>logistic regression</th>\n",
       "      <td>23</td>\n",
       "      <td>29</td>\n",
       "      <td>364</td>\n",
       "      <td>372</td>\n",
       "      <td>0.933333</td>\n",
       "      <td>0.940568</td>\n",
       "      <td>0.926209</td>\n",
       "      <td>0.934673</td>\n",
       "      <td>0.927681</td>\n",
       "      <td>0.941772</td>\n",
       "    </tr>\n",
       "  </tbody>\n",
       "</table>\n",
       "</div>"
      ],
      "text/plain": [
       "                     false_negative  false_positive  true_negative  \\\n",
       "name                                                                 \n",
       "logistic regression  23              29              364             \n",
       "\n",
       "                     true_positive  fraud_f1-score  fraud_precision  \\\n",
       "name                                                                  \n",
       "logistic regression  372            0.933333        0.940568          \n",
       "\n",
       "                     fraud_recall  not_fraud_f1-score  not_fraud_precision  \\\n",
       "name                                                                         \n",
       "logistic regression  0.926209      0.934673            0.927681              \n",
       "\n",
       "                     not_fraud_recall  \n",
       "name                                   \n",
       "logistic regression  0.941772          "
      ]
     },
     "execution_count": 20,
     "metadata": {},
     "output_type": "execute_result"
    }
   ],
   "source": [
    "results.set_index('name', inplace=False)[col_order]"
   ]
  },
  {
   "cell_type": "markdown",
   "metadata": {},
   "source": [
    "## Linear Discriminant Analysis"
   ]
  },
  {
   "cell_type": "code",
   "execution_count": 21,
   "metadata": {},
   "outputs": [],
   "source": [
    "from sklearn.discriminant_analysis import LinearDiscriminantAnalysis"
   ]
  },
  {
   "cell_type": "code",
   "execution_count": 22,
   "metadata": {},
   "outputs": [
    {
     "name": "stdout",
     "output_type": "stream",
     "text": [
      "Accuracy of linear discriminant on test set: 0.90\n",
      "CONFUSION MATRIX:\n",
      "[[372  23]\n",
      " [ 56 337]]\n",
      "\n",
      "CLASSIFICATION REPORT:\n",
      "              precision    recall  f1-score   support\n",
      "\n",
      "   not_fraud       0.87      0.94      0.90       395\n",
      "       fraud       0.94      0.86      0.90       393\n",
      "\n",
      "   micro avg       0.90      0.90      0.90       788\n",
      "   macro avg       0.90      0.90      0.90       788\n",
      "weighted avg       0.90      0.90      0.90       788\n",
      "\n"
     ]
    }
   ],
   "source": [
    "lindisc = LinearDiscriminantAnalysis()\n",
    "results = results.append(train_and_analyze(lindisc, 'linear discriminant', X_train, X_test, y_train, y_test, results))"
   ]
  },
  {
   "cell_type": "code",
   "execution_count": 23,
   "metadata": {},
   "outputs": [
    {
     "data": {
      "text/html": [
       "<div>\n",
       "<style scoped>\n",
       "    .dataframe tbody tr th:only-of-type {\n",
       "        vertical-align: middle;\n",
       "    }\n",
       "\n",
       "    .dataframe tbody tr th {\n",
       "        vertical-align: top;\n",
       "    }\n",
       "\n",
       "    .dataframe thead th {\n",
       "        text-align: right;\n",
       "    }\n",
       "</style>\n",
       "<table border=\"1\" class=\"dataframe\">\n",
       "  <thead>\n",
       "    <tr style=\"text-align: right;\">\n",
       "      <th></th>\n",
       "      <th>false_negative</th>\n",
       "      <th>false_positive</th>\n",
       "      <th>true_negative</th>\n",
       "      <th>true_positive</th>\n",
       "      <th>fraud_f1-score</th>\n",
       "      <th>fraud_precision</th>\n",
       "      <th>fraud_recall</th>\n",
       "      <th>not_fraud_f1-score</th>\n",
       "      <th>not_fraud_precision</th>\n",
       "      <th>not_fraud_recall</th>\n",
       "    </tr>\n",
       "    <tr>\n",
       "      <th>name</th>\n",
       "      <th></th>\n",
       "      <th></th>\n",
       "      <th></th>\n",
       "      <th></th>\n",
       "      <th></th>\n",
       "      <th></th>\n",
       "      <th></th>\n",
       "      <th></th>\n",
       "      <th></th>\n",
       "      <th></th>\n",
       "    </tr>\n",
       "  </thead>\n",
       "  <tbody>\n",
       "    <tr>\n",
       "      <th>logistic regression</th>\n",
       "      <td>23</td>\n",
       "      <td>29</td>\n",
       "      <td>364</td>\n",
       "      <td>372</td>\n",
       "      <td>0.933333</td>\n",
       "      <td>0.940568</td>\n",
       "      <td>0.926209</td>\n",
       "      <td>0.934673</td>\n",
       "      <td>0.927681</td>\n",
       "      <td>0.941772</td>\n",
       "    </tr>\n",
       "    <tr>\n",
       "      <th>linear discriminant</th>\n",
       "      <td>23</td>\n",
       "      <td>56</td>\n",
       "      <td>337</td>\n",
       "      <td>372</td>\n",
       "      <td>0.895086</td>\n",
       "      <td>0.936111</td>\n",
       "      <td>0.857506</td>\n",
       "      <td>0.904010</td>\n",
       "      <td>0.869159</td>\n",
       "      <td>0.941772</td>\n",
       "    </tr>\n",
       "  </tbody>\n",
       "</table>\n",
       "</div>"
      ],
      "text/plain": [
       "                     false_negative  false_positive  true_negative  \\\n",
       "name                                                                 \n",
       "logistic regression  23              29              364             \n",
       "linear discriminant  23              56              337             \n",
       "\n",
       "                     true_positive  fraud_f1-score  fraud_precision  \\\n",
       "name                                                                  \n",
       "logistic regression  372            0.933333        0.940568          \n",
       "linear discriminant  372            0.895086        0.936111          \n",
       "\n",
       "                     fraud_recall  not_fraud_f1-score  not_fraud_precision  \\\n",
       "name                                                                         \n",
       "logistic regression  0.926209      0.934673            0.927681              \n",
       "linear discriminant  0.857506      0.904010            0.869159              \n",
       "\n",
       "                     not_fraud_recall  \n",
       "name                                   \n",
       "logistic regression  0.941772          \n",
       "linear discriminant  0.941772          "
      ]
     },
     "execution_count": 23,
     "metadata": {},
     "output_type": "execute_result"
    }
   ],
   "source": [
    "results.set_index('name', inplace=False)[col_order]"
   ]
  },
  {
   "cell_type": "markdown",
   "metadata": {},
   "source": [
    "## K Nearest Neighbors (KNN)"
   ]
  },
  {
   "cell_type": "code",
   "execution_count": 24,
   "metadata": {},
   "outputs": [],
   "source": [
    "from sklearn.neighbors import KNeighborsClassifier"
   ]
  },
  {
   "cell_type": "code",
   "execution_count": 25,
   "metadata": {},
   "outputs": [
    {
     "name": "stdout",
     "output_type": "stream",
     "text": [
      "Accuracy of k nearest neighbors on test set: 0.93\n",
      "CONFUSION MATRIX:\n",
      "[[385  10]\n",
      " [ 47 346]]\n",
      "\n",
      "CLASSIFICATION REPORT:\n",
      "              precision    recall  f1-score   support\n",
      "\n",
      "   not_fraud       0.89      0.97      0.93       395\n",
      "       fraud       0.97      0.88      0.92       393\n",
      "\n",
      "   micro avg       0.93      0.93      0.93       788\n",
      "   macro avg       0.93      0.93      0.93       788\n",
      "weighted avg       0.93      0.93      0.93       788\n",
      "\n"
     ]
    }
   ],
   "source": [
    "neigh = KNeighborsClassifier(n_neighbors=2)\n",
    "results = results.append(train_and_analyze(neigh, 'k nearest neighbors', X_train, X_test, y_train, y_test, results))"
   ]
  },
  {
   "cell_type": "code",
   "execution_count": 26,
   "metadata": {},
   "outputs": [
    {
     "data": {
      "text/html": [
       "<div>\n",
       "<style scoped>\n",
       "    .dataframe tbody tr th:only-of-type {\n",
       "        vertical-align: middle;\n",
       "    }\n",
       "\n",
       "    .dataframe tbody tr th {\n",
       "        vertical-align: top;\n",
       "    }\n",
       "\n",
       "    .dataframe thead th {\n",
       "        text-align: right;\n",
       "    }\n",
       "</style>\n",
       "<table border=\"1\" class=\"dataframe\">\n",
       "  <thead>\n",
       "    <tr style=\"text-align: right;\">\n",
       "      <th></th>\n",
       "      <th>false_negative</th>\n",
       "      <th>false_positive</th>\n",
       "      <th>true_negative</th>\n",
       "      <th>true_positive</th>\n",
       "      <th>fraud_f1-score</th>\n",
       "      <th>fraud_precision</th>\n",
       "      <th>fraud_recall</th>\n",
       "      <th>not_fraud_f1-score</th>\n",
       "      <th>not_fraud_precision</th>\n",
       "      <th>not_fraud_recall</th>\n",
       "    </tr>\n",
       "    <tr>\n",
       "      <th>name</th>\n",
       "      <th></th>\n",
       "      <th></th>\n",
       "      <th></th>\n",
       "      <th></th>\n",
       "      <th></th>\n",
       "      <th></th>\n",
       "      <th></th>\n",
       "      <th></th>\n",
       "      <th></th>\n",
       "      <th></th>\n",
       "    </tr>\n",
       "  </thead>\n",
       "  <tbody>\n",
       "    <tr>\n",
       "      <th>logistic regression</th>\n",
       "      <td>23</td>\n",
       "      <td>29</td>\n",
       "      <td>364</td>\n",
       "      <td>372</td>\n",
       "      <td>0.933333</td>\n",
       "      <td>0.940568</td>\n",
       "      <td>0.926209</td>\n",
       "      <td>0.934673</td>\n",
       "      <td>0.927681</td>\n",
       "      <td>0.941772</td>\n",
       "    </tr>\n",
       "    <tr>\n",
       "      <th>linear discriminant</th>\n",
       "      <td>23</td>\n",
       "      <td>56</td>\n",
       "      <td>337</td>\n",
       "      <td>372</td>\n",
       "      <td>0.895086</td>\n",
       "      <td>0.936111</td>\n",
       "      <td>0.857506</td>\n",
       "      <td>0.904010</td>\n",
       "      <td>0.869159</td>\n",
       "      <td>0.941772</td>\n",
       "    </tr>\n",
       "    <tr>\n",
       "      <th>k nearest neighbors</th>\n",
       "      <td>10</td>\n",
       "      <td>47</td>\n",
       "      <td>346</td>\n",
       "      <td>385</td>\n",
       "      <td>0.923899</td>\n",
       "      <td>0.971910</td>\n",
       "      <td>0.880407</td>\n",
       "      <td>0.931076</td>\n",
       "      <td>0.891204</td>\n",
       "      <td>0.974684</td>\n",
       "    </tr>\n",
       "  </tbody>\n",
       "</table>\n",
       "</div>"
      ],
      "text/plain": [
       "                     false_negative  false_positive  true_negative  \\\n",
       "name                                                                 \n",
       "logistic regression  23              29              364             \n",
       "linear discriminant  23              56              337             \n",
       "k nearest neighbors  10              47              346             \n",
       "\n",
       "                     true_positive  fraud_f1-score  fraud_precision  \\\n",
       "name                                                                  \n",
       "logistic regression  372            0.933333        0.940568          \n",
       "linear discriminant  372            0.895086        0.936111          \n",
       "k nearest neighbors  385            0.923899        0.971910          \n",
       "\n",
       "                     fraud_recall  not_fraud_f1-score  not_fraud_precision  \\\n",
       "name                                                                         \n",
       "logistic regression  0.926209      0.934673            0.927681              \n",
       "linear discriminant  0.857506      0.904010            0.869159              \n",
       "k nearest neighbors  0.880407      0.931076            0.891204              \n",
       "\n",
       "                     not_fraud_recall  \n",
       "name                                   \n",
       "logistic regression  0.941772          \n",
       "linear discriminant  0.941772          \n",
       "k nearest neighbors  0.974684          "
      ]
     },
     "execution_count": 26,
     "metadata": {},
     "output_type": "execute_result"
    }
   ],
   "source": [
    "results.set_index('name', inplace=False)[col_order]"
   ]
  },
  {
   "cell_type": "markdown",
   "metadata": {},
   "source": [
    "## Classification Trees"
   ]
  },
  {
   "cell_type": "code",
   "execution_count": 27,
   "metadata": {},
   "outputs": [],
   "source": [
    "from sklearn.tree import DecisionTreeClassifier"
   ]
  },
  {
   "cell_type": "code",
   "execution_count": 28,
   "metadata": {},
   "outputs": [
    {
     "name": "stdout",
     "output_type": "stream",
     "text": [
      "Accuracy of decision tree on test set: 0.92\n",
      "CONFUSION MATRIX:\n",
      "[[363  32]\n",
      " [ 34 359]]\n",
      "\n",
      "CLASSIFICATION REPORT:\n",
      "              precision    recall  f1-score   support\n",
      "\n",
      "   not_fraud       0.91      0.92      0.92       395\n",
      "       fraud       0.92      0.91      0.92       393\n",
      "\n",
      "   micro avg       0.92      0.92      0.92       788\n",
      "   macro avg       0.92      0.92      0.92       788\n",
      "weighted avg       0.92      0.92      0.92       788\n",
      "\n"
     ]
    }
   ],
   "source": [
    "dectree = DecisionTreeClassifier()\n",
    "results = results.append(train_and_analyze(dectree, 'decision tree', X_train, X_test, y_train, y_test, results))"
   ]
  },
  {
   "cell_type": "code",
   "execution_count": 29,
   "metadata": {},
   "outputs": [
    {
     "data": {
      "text/html": [
       "<div>\n",
       "<style scoped>\n",
       "    .dataframe tbody tr th:only-of-type {\n",
       "        vertical-align: middle;\n",
       "    }\n",
       "\n",
       "    .dataframe tbody tr th {\n",
       "        vertical-align: top;\n",
       "    }\n",
       "\n",
       "    .dataframe thead th {\n",
       "        text-align: right;\n",
       "    }\n",
       "</style>\n",
       "<table border=\"1\" class=\"dataframe\">\n",
       "  <thead>\n",
       "    <tr style=\"text-align: right;\">\n",
       "      <th></th>\n",
       "      <th>false_negative</th>\n",
       "      <th>false_positive</th>\n",
       "      <th>true_negative</th>\n",
       "      <th>true_positive</th>\n",
       "      <th>fraud_f1-score</th>\n",
       "      <th>fraud_precision</th>\n",
       "      <th>fraud_recall</th>\n",
       "      <th>not_fraud_f1-score</th>\n",
       "      <th>not_fraud_precision</th>\n",
       "      <th>not_fraud_recall</th>\n",
       "    </tr>\n",
       "    <tr>\n",
       "      <th>name</th>\n",
       "      <th></th>\n",
       "      <th></th>\n",
       "      <th></th>\n",
       "      <th></th>\n",
       "      <th></th>\n",
       "      <th></th>\n",
       "      <th></th>\n",
       "      <th></th>\n",
       "      <th></th>\n",
       "      <th></th>\n",
       "    </tr>\n",
       "  </thead>\n",
       "  <tbody>\n",
       "    <tr>\n",
       "      <th>logistic regression</th>\n",
       "      <td>23</td>\n",
       "      <td>29</td>\n",
       "      <td>364</td>\n",
       "      <td>372</td>\n",
       "      <td>0.933333</td>\n",
       "      <td>0.940568</td>\n",
       "      <td>0.926209</td>\n",
       "      <td>0.934673</td>\n",
       "      <td>0.927681</td>\n",
       "      <td>0.941772</td>\n",
       "    </tr>\n",
       "    <tr>\n",
       "      <th>linear discriminant</th>\n",
       "      <td>23</td>\n",
       "      <td>56</td>\n",
       "      <td>337</td>\n",
       "      <td>372</td>\n",
       "      <td>0.895086</td>\n",
       "      <td>0.936111</td>\n",
       "      <td>0.857506</td>\n",
       "      <td>0.904010</td>\n",
       "      <td>0.869159</td>\n",
       "      <td>0.941772</td>\n",
       "    </tr>\n",
       "    <tr>\n",
       "      <th>k nearest neighbors</th>\n",
       "      <td>10</td>\n",
       "      <td>47</td>\n",
       "      <td>346</td>\n",
       "      <td>385</td>\n",
       "      <td>0.923899</td>\n",
       "      <td>0.971910</td>\n",
       "      <td>0.880407</td>\n",
       "      <td>0.931076</td>\n",
       "      <td>0.891204</td>\n",
       "      <td>0.974684</td>\n",
       "    </tr>\n",
       "    <tr>\n",
       "      <th>decision tree</th>\n",
       "      <td>32</td>\n",
       "      <td>34</td>\n",
       "      <td>359</td>\n",
       "      <td>363</td>\n",
       "      <td>0.915816</td>\n",
       "      <td>0.918159</td>\n",
       "      <td>0.913486</td>\n",
       "      <td>0.916667</td>\n",
       "      <td>0.914358</td>\n",
       "      <td>0.918987</td>\n",
       "    </tr>\n",
       "  </tbody>\n",
       "</table>\n",
       "</div>"
      ],
      "text/plain": [
       "                     false_negative  false_positive  true_negative  \\\n",
       "name                                                                 \n",
       "logistic regression  23              29              364             \n",
       "linear discriminant  23              56              337             \n",
       "k nearest neighbors  10              47              346             \n",
       "decision tree        32              34              359             \n",
       "\n",
       "                     true_positive  fraud_f1-score  fraud_precision  \\\n",
       "name                                                                  \n",
       "logistic regression  372            0.933333        0.940568          \n",
       "linear discriminant  372            0.895086        0.936111          \n",
       "k nearest neighbors  385            0.923899        0.971910          \n",
       "decision tree        363            0.915816        0.918159          \n",
       "\n",
       "                     fraud_recall  not_fraud_f1-score  not_fraud_precision  \\\n",
       "name                                                                         \n",
       "logistic regression  0.926209      0.934673            0.927681              \n",
       "linear discriminant  0.857506      0.904010            0.869159              \n",
       "k nearest neighbors  0.880407      0.931076            0.891204              \n",
       "decision tree        0.913486      0.916667            0.914358              \n",
       "\n",
       "                     not_fraud_recall  \n",
       "name                                   \n",
       "logistic regression  0.941772          \n",
       "linear discriminant  0.941772          \n",
       "k nearest neighbors  0.974684          \n",
       "decision tree        0.918987          "
      ]
     },
     "execution_count": 29,
     "metadata": {},
     "output_type": "execute_result"
    }
   ],
   "source": [
    "results.set_index('name', inplace=False)[col_order]"
   ]
  },
  {
   "cell_type": "markdown",
   "metadata": {},
   "source": [
    "## Support Vector Classification"
   ]
  },
  {
   "cell_type": "code",
   "execution_count": 30,
   "metadata": {},
   "outputs": [],
   "source": [
    "from sklearn import svm"
   ]
  },
  {
   "cell_type": "code",
   "execution_count": 31,
   "metadata": {},
   "outputs": [
    {
     "name": "stdout",
     "output_type": "stream",
     "text": [
      "Accuracy of support vectors on test set: 0.92\n",
      "CONFUSION MATRIX:\n",
      "[[392   3]\n",
      " [ 63 330]]\n",
      "\n",
      "CLASSIFICATION REPORT:\n",
      "              precision    recall  f1-score   support\n",
      "\n",
      "   not_fraud       0.86      0.99      0.92       395\n",
      "       fraud       0.99      0.84      0.91       393\n",
      "\n",
      "   micro avg       0.92      0.92      0.92       788\n",
      "   macro avg       0.93      0.92      0.92       788\n",
      "weighted avg       0.93      0.92      0.92       788\n",
      "\n"
     ]
    }
   ],
   "source": [
    "clf = svm.SVC(kernel='rbf', C=1, gamma=0.001, random_state=1)\n",
    "results = results.append(train_and_analyze(clf, 'support vectors', X_train, X_test, y_train, y_test, results))"
   ]
  },
  {
   "cell_type": "code",
   "execution_count": 32,
   "metadata": {},
   "outputs": [
    {
     "data": {
      "text/html": [
       "<div>\n",
       "<style scoped>\n",
       "    .dataframe tbody tr th:only-of-type {\n",
       "        vertical-align: middle;\n",
       "    }\n",
       "\n",
       "    .dataframe tbody tr th {\n",
       "        vertical-align: top;\n",
       "    }\n",
       "\n",
       "    .dataframe thead th {\n",
       "        text-align: right;\n",
       "    }\n",
       "</style>\n",
       "<table border=\"1\" class=\"dataframe\">\n",
       "  <thead>\n",
       "    <tr style=\"text-align: right;\">\n",
       "      <th></th>\n",
       "      <th>false_negative</th>\n",
       "      <th>false_positive</th>\n",
       "      <th>true_negative</th>\n",
       "      <th>true_positive</th>\n",
       "      <th>fraud_f1-score</th>\n",
       "      <th>fraud_precision</th>\n",
       "      <th>fraud_recall</th>\n",
       "      <th>not_fraud_f1-score</th>\n",
       "      <th>not_fraud_precision</th>\n",
       "      <th>not_fraud_recall</th>\n",
       "    </tr>\n",
       "    <tr>\n",
       "      <th>name</th>\n",
       "      <th></th>\n",
       "      <th></th>\n",
       "      <th></th>\n",
       "      <th></th>\n",
       "      <th></th>\n",
       "      <th></th>\n",
       "      <th></th>\n",
       "      <th></th>\n",
       "      <th></th>\n",
       "      <th></th>\n",
       "    </tr>\n",
       "  </thead>\n",
       "  <tbody>\n",
       "    <tr>\n",
       "      <th>logistic regression</th>\n",
       "      <td>23</td>\n",
       "      <td>29</td>\n",
       "      <td>364</td>\n",
       "      <td>372</td>\n",
       "      <td>0.933333</td>\n",
       "      <td>0.940568</td>\n",
       "      <td>0.926209</td>\n",
       "      <td>0.934673</td>\n",
       "      <td>0.927681</td>\n",
       "      <td>0.941772</td>\n",
       "    </tr>\n",
       "    <tr>\n",
       "      <th>linear discriminant</th>\n",
       "      <td>23</td>\n",
       "      <td>56</td>\n",
       "      <td>337</td>\n",
       "      <td>372</td>\n",
       "      <td>0.895086</td>\n",
       "      <td>0.936111</td>\n",
       "      <td>0.857506</td>\n",
       "      <td>0.904010</td>\n",
       "      <td>0.869159</td>\n",
       "      <td>0.941772</td>\n",
       "    </tr>\n",
       "    <tr>\n",
       "      <th>k nearest neighbors</th>\n",
       "      <td>10</td>\n",
       "      <td>47</td>\n",
       "      <td>346</td>\n",
       "      <td>385</td>\n",
       "      <td>0.923899</td>\n",
       "      <td>0.971910</td>\n",
       "      <td>0.880407</td>\n",
       "      <td>0.931076</td>\n",
       "      <td>0.891204</td>\n",
       "      <td>0.974684</td>\n",
       "    </tr>\n",
       "    <tr>\n",
       "      <th>decision tree</th>\n",
       "      <td>32</td>\n",
       "      <td>34</td>\n",
       "      <td>359</td>\n",
       "      <td>363</td>\n",
       "      <td>0.915816</td>\n",
       "      <td>0.918159</td>\n",
       "      <td>0.913486</td>\n",
       "      <td>0.916667</td>\n",
       "      <td>0.914358</td>\n",
       "      <td>0.918987</td>\n",
       "    </tr>\n",
       "    <tr>\n",
       "      <th>support vectors</th>\n",
       "      <td>3</td>\n",
       "      <td>63</td>\n",
       "      <td>330</td>\n",
       "      <td>392</td>\n",
       "      <td>0.909091</td>\n",
       "      <td>0.990991</td>\n",
       "      <td>0.839695</td>\n",
       "      <td>0.922353</td>\n",
       "      <td>0.861538</td>\n",
       "      <td>0.992405</td>\n",
       "    </tr>\n",
       "  </tbody>\n",
       "</table>\n",
       "</div>"
      ],
      "text/plain": [
       "                     false_negative  false_positive  true_negative  \\\n",
       "name                                                                 \n",
       "logistic regression  23              29              364             \n",
       "linear discriminant  23              56              337             \n",
       "k nearest neighbors  10              47              346             \n",
       "decision tree        32              34              359             \n",
       "support vectors      3               63              330             \n",
       "\n",
       "                     true_positive  fraud_f1-score  fraud_precision  \\\n",
       "name                                                                  \n",
       "logistic regression  372            0.933333        0.940568          \n",
       "linear discriminant  372            0.895086        0.936111          \n",
       "k nearest neighbors  385            0.923899        0.971910          \n",
       "decision tree        363            0.915816        0.918159          \n",
       "support vectors      392            0.909091        0.990991          \n",
       "\n",
       "                     fraud_recall  not_fraud_f1-score  not_fraud_precision  \\\n",
       "name                                                                         \n",
       "logistic regression  0.926209      0.934673            0.927681              \n",
       "linear discriminant  0.857506      0.904010            0.869159              \n",
       "k nearest neighbors  0.880407      0.931076            0.891204              \n",
       "decision tree        0.913486      0.916667            0.914358              \n",
       "support vectors      0.839695      0.922353            0.861538              \n",
       "\n",
       "                     not_fraud_recall  \n",
       "name                                   \n",
       "logistic regression  0.941772          \n",
       "linear discriminant  0.941772          \n",
       "k nearest neighbors  0.974684          \n",
       "decision tree        0.918987          \n",
       "support vectors      0.992405          "
      ]
     },
     "execution_count": 32,
     "metadata": {},
     "output_type": "execute_result"
    }
   ],
   "source": [
    "results.set_index('name', inplace=False)[col_order]"
   ]
  },
  {
   "cell_type": "markdown",
   "metadata": {},
   "source": [
    "## Random Forest Classifier"
   ]
  },
  {
   "cell_type": "code",
   "execution_count": 33,
   "metadata": {},
   "outputs": [],
   "source": [
    "from sklearn.ensemble import RandomForestClassifier"
   ]
  },
  {
   "cell_type": "code",
   "execution_count": 34,
   "metadata": {},
   "outputs": [
    {
     "name": "stdout",
     "output_type": "stream",
     "text": [
      "Accuracy of random forest on test set: 0.93\n",
      "CONFUSION MATRIX:\n",
      "[[387   8]\n",
      " [ 49 344]]\n",
      "\n",
      "CLASSIFICATION REPORT:\n",
      "              precision    recall  f1-score   support\n",
      "\n",
      "   not_fraud       0.89      0.98      0.93       395\n",
      "       fraud       0.98      0.88      0.92       393\n",
      "\n",
      "   micro avg       0.93      0.93      0.93       788\n",
      "   macro avg       0.93      0.93      0.93       788\n",
      "weighted avg       0.93      0.93      0.93       788\n",
      "\n"
     ]
    },
    {
     "name": "stderr",
     "output_type": "stream",
     "text": [
      "/Users/naveed/scratch/fraud_detection_project/venv/lib/python2.7/site-packages/sklearn/ensemble/forest.py:246: FutureWarning: The default value of n_estimators will change from 10 in version 0.20 to 100 in 0.22.\n",
      "  \"10 in version 0.20 to 100 in 0.22.\", FutureWarning)\n"
     ]
    }
   ],
   "source": [
    "rdm = RandomForestClassifier()\n",
    "results = results.append(train_and_analyze(rdm, 'random forest', X_train, X_test, y_train, y_test, results))"
   ]
  },
  {
   "cell_type": "code",
   "execution_count": 35,
   "metadata": {},
   "outputs": [
    {
     "data": {
      "text/html": [
       "<div>\n",
       "<style scoped>\n",
       "    .dataframe tbody tr th:only-of-type {\n",
       "        vertical-align: middle;\n",
       "    }\n",
       "\n",
       "    .dataframe tbody tr th {\n",
       "        vertical-align: top;\n",
       "    }\n",
       "\n",
       "    .dataframe thead th {\n",
       "        text-align: right;\n",
       "    }\n",
       "</style>\n",
       "<table border=\"1\" class=\"dataframe\">\n",
       "  <thead>\n",
       "    <tr style=\"text-align: right;\">\n",
       "      <th></th>\n",
       "      <th>false_negative</th>\n",
       "      <th>false_positive</th>\n",
       "      <th>true_negative</th>\n",
       "      <th>true_positive</th>\n",
       "      <th>fraud_f1-score</th>\n",
       "      <th>fraud_precision</th>\n",
       "      <th>fraud_recall</th>\n",
       "      <th>not_fraud_f1-score</th>\n",
       "      <th>not_fraud_precision</th>\n",
       "      <th>not_fraud_recall</th>\n",
       "    </tr>\n",
       "    <tr>\n",
       "      <th>name</th>\n",
       "      <th></th>\n",
       "      <th></th>\n",
       "      <th></th>\n",
       "      <th></th>\n",
       "      <th></th>\n",
       "      <th></th>\n",
       "      <th></th>\n",
       "      <th></th>\n",
       "      <th></th>\n",
       "      <th></th>\n",
       "    </tr>\n",
       "  </thead>\n",
       "  <tbody>\n",
       "    <tr>\n",
       "      <th>logistic regression</th>\n",
       "      <td>23</td>\n",
       "      <td>29</td>\n",
       "      <td>364</td>\n",
       "      <td>372</td>\n",
       "      <td>0.933333</td>\n",
       "      <td>0.940568</td>\n",
       "      <td>0.926209</td>\n",
       "      <td>0.934673</td>\n",
       "      <td>0.927681</td>\n",
       "      <td>0.941772</td>\n",
       "    </tr>\n",
       "    <tr>\n",
       "      <th>linear discriminant</th>\n",
       "      <td>23</td>\n",
       "      <td>56</td>\n",
       "      <td>337</td>\n",
       "      <td>372</td>\n",
       "      <td>0.895086</td>\n",
       "      <td>0.936111</td>\n",
       "      <td>0.857506</td>\n",
       "      <td>0.904010</td>\n",
       "      <td>0.869159</td>\n",
       "      <td>0.941772</td>\n",
       "    </tr>\n",
       "    <tr>\n",
       "      <th>k nearest neighbors</th>\n",
       "      <td>10</td>\n",
       "      <td>47</td>\n",
       "      <td>346</td>\n",
       "      <td>385</td>\n",
       "      <td>0.923899</td>\n",
       "      <td>0.971910</td>\n",
       "      <td>0.880407</td>\n",
       "      <td>0.931076</td>\n",
       "      <td>0.891204</td>\n",
       "      <td>0.974684</td>\n",
       "    </tr>\n",
       "    <tr>\n",
       "      <th>decision tree</th>\n",
       "      <td>32</td>\n",
       "      <td>34</td>\n",
       "      <td>359</td>\n",
       "      <td>363</td>\n",
       "      <td>0.915816</td>\n",
       "      <td>0.918159</td>\n",
       "      <td>0.913486</td>\n",
       "      <td>0.916667</td>\n",
       "      <td>0.914358</td>\n",
       "      <td>0.918987</td>\n",
       "    </tr>\n",
       "    <tr>\n",
       "      <th>support vectors</th>\n",
       "      <td>3</td>\n",
       "      <td>63</td>\n",
       "      <td>330</td>\n",
       "      <td>392</td>\n",
       "      <td>0.909091</td>\n",
       "      <td>0.990991</td>\n",
       "      <td>0.839695</td>\n",
       "      <td>0.922353</td>\n",
       "      <td>0.861538</td>\n",
       "      <td>0.992405</td>\n",
       "    </tr>\n",
       "    <tr>\n",
       "      <th>random forest</th>\n",
       "      <td>8</td>\n",
       "      <td>49</td>\n",
       "      <td>344</td>\n",
       "      <td>387</td>\n",
       "      <td>0.923490</td>\n",
       "      <td>0.977273</td>\n",
       "      <td>0.875318</td>\n",
       "      <td>0.931408</td>\n",
       "      <td>0.887615</td>\n",
       "      <td>0.979747</td>\n",
       "    </tr>\n",
       "  </tbody>\n",
       "</table>\n",
       "</div>"
      ],
      "text/plain": [
       "                     false_negative  false_positive  true_negative  \\\n",
       "name                                                                 \n",
       "logistic regression  23              29              364             \n",
       "linear discriminant  23              56              337             \n",
       "k nearest neighbors  10              47              346             \n",
       "decision tree        32              34              359             \n",
       "support vectors      3               63              330             \n",
       "random forest        8               49              344             \n",
       "\n",
       "                     true_positive  fraud_f1-score  fraud_precision  \\\n",
       "name                                                                  \n",
       "logistic regression  372            0.933333        0.940568          \n",
       "linear discriminant  372            0.895086        0.936111          \n",
       "k nearest neighbors  385            0.923899        0.971910          \n",
       "decision tree        363            0.915816        0.918159          \n",
       "support vectors      392            0.909091        0.990991          \n",
       "random forest        387            0.923490        0.977273          \n",
       "\n",
       "                     fraud_recall  not_fraud_f1-score  not_fraud_precision  \\\n",
       "name                                                                         \n",
       "logistic regression  0.926209      0.934673            0.927681              \n",
       "linear discriminant  0.857506      0.904010            0.869159              \n",
       "k nearest neighbors  0.880407      0.931076            0.891204              \n",
       "decision tree        0.913486      0.916667            0.914358              \n",
       "support vectors      0.839695      0.922353            0.861538              \n",
       "random forest        0.875318      0.931408            0.887615              \n",
       "\n",
       "                     not_fraud_recall  \n",
       "name                                   \n",
       "logistic regression  0.941772          \n",
       "linear discriminant  0.941772          \n",
       "k nearest neighbors  0.974684          \n",
       "decision tree        0.918987          \n",
       "support vectors      0.992405          \n",
       "random forest        0.979747          "
      ]
     },
     "execution_count": 35,
     "metadata": {},
     "output_type": "execute_result"
    }
   ],
   "source": [
    "results.set_index('name', inplace=False)[col_order]"
   ]
  },
  {
   "cell_type": "markdown",
   "metadata": {},
   "source": [
    "## XGBoost Classifier"
   ]
  },
  {
   "cell_type": "code",
   "execution_count": 36,
   "metadata": {},
   "outputs": [],
   "source": [
    "from xgboost import XGBClassifier"
   ]
  },
  {
   "cell_type": "code",
   "execution_count": 37,
   "metadata": {},
   "outputs": [
    {
     "name": "stdout",
     "output_type": "stream",
     "text": [
      "Accuracy of XGBoost on test set: 0.92\n",
      "CONFUSION MATRIX:\n",
      "[[371  24]\n",
      " [ 36 357]]\n",
      "\n",
      "CLASSIFICATION REPORT:\n",
      "              precision    recall  f1-score   support\n",
      "\n",
      "   not_fraud       0.91      0.94      0.93       395\n",
      "       fraud       0.94      0.91      0.92       393\n",
      "\n",
      "   micro avg       0.92      0.92      0.92       788\n",
      "   macro avg       0.92      0.92      0.92       788\n",
      "weighted avg       0.92      0.92      0.92       788\n",
      "\n"
     ]
    }
   ],
   "source": [
    "xgb = XGBClassifier()\n",
    "results = results.append(train_and_analyze(xgb, 'XGBoost', X_train, X_test, y_train, y_test, results))"
   ]
  },
  {
   "cell_type": "code",
   "execution_count": 38,
   "metadata": {},
   "outputs": [
    {
     "data": {
      "text/html": [
       "<div>\n",
       "<style scoped>\n",
       "    .dataframe tbody tr th:only-of-type {\n",
       "        vertical-align: middle;\n",
       "    }\n",
       "\n",
       "    .dataframe tbody tr th {\n",
       "        vertical-align: top;\n",
       "    }\n",
       "\n",
       "    .dataframe thead th {\n",
       "        text-align: right;\n",
       "    }\n",
       "</style>\n",
       "<table border=\"1\" class=\"dataframe\">\n",
       "  <thead>\n",
       "    <tr style=\"text-align: right;\">\n",
       "      <th></th>\n",
       "      <th>false_negative</th>\n",
       "      <th>false_positive</th>\n",
       "      <th>true_negative</th>\n",
       "      <th>true_positive</th>\n",
       "      <th>fraud_f1-score</th>\n",
       "      <th>fraud_precision</th>\n",
       "      <th>fraud_recall</th>\n",
       "      <th>not_fraud_f1-score</th>\n",
       "      <th>not_fraud_precision</th>\n",
       "      <th>not_fraud_recall</th>\n",
       "    </tr>\n",
       "    <tr>\n",
       "      <th>name</th>\n",
       "      <th></th>\n",
       "      <th></th>\n",
       "      <th></th>\n",
       "      <th></th>\n",
       "      <th></th>\n",
       "      <th></th>\n",
       "      <th></th>\n",
       "      <th></th>\n",
       "      <th></th>\n",
       "      <th></th>\n",
       "    </tr>\n",
       "  </thead>\n",
       "  <tbody>\n",
       "    <tr>\n",
       "      <th>logistic regression</th>\n",
       "      <td>23</td>\n",
       "      <td>29</td>\n",
       "      <td>364</td>\n",
       "      <td>372</td>\n",
       "      <td>0.933333</td>\n",
       "      <td>0.940568</td>\n",
       "      <td>0.926209</td>\n",
       "      <td>0.934673</td>\n",
       "      <td>0.927681</td>\n",
       "      <td>0.941772</td>\n",
       "    </tr>\n",
       "    <tr>\n",
       "      <th>linear discriminant</th>\n",
       "      <td>23</td>\n",
       "      <td>56</td>\n",
       "      <td>337</td>\n",
       "      <td>372</td>\n",
       "      <td>0.895086</td>\n",
       "      <td>0.936111</td>\n",
       "      <td>0.857506</td>\n",
       "      <td>0.904010</td>\n",
       "      <td>0.869159</td>\n",
       "      <td>0.941772</td>\n",
       "    </tr>\n",
       "    <tr>\n",
       "      <th>k nearest neighbors</th>\n",
       "      <td>10</td>\n",
       "      <td>47</td>\n",
       "      <td>346</td>\n",
       "      <td>385</td>\n",
       "      <td>0.923899</td>\n",
       "      <td>0.971910</td>\n",
       "      <td>0.880407</td>\n",
       "      <td>0.931076</td>\n",
       "      <td>0.891204</td>\n",
       "      <td>0.974684</td>\n",
       "    </tr>\n",
       "    <tr>\n",
       "      <th>decision tree</th>\n",
       "      <td>32</td>\n",
       "      <td>34</td>\n",
       "      <td>359</td>\n",
       "      <td>363</td>\n",
       "      <td>0.915816</td>\n",
       "      <td>0.918159</td>\n",
       "      <td>0.913486</td>\n",
       "      <td>0.916667</td>\n",
       "      <td>0.914358</td>\n",
       "      <td>0.918987</td>\n",
       "    </tr>\n",
       "    <tr>\n",
       "      <th>support vectors</th>\n",
       "      <td>3</td>\n",
       "      <td>63</td>\n",
       "      <td>330</td>\n",
       "      <td>392</td>\n",
       "      <td>0.909091</td>\n",
       "      <td>0.990991</td>\n",
       "      <td>0.839695</td>\n",
       "      <td>0.922353</td>\n",
       "      <td>0.861538</td>\n",
       "      <td>0.992405</td>\n",
       "    </tr>\n",
       "    <tr>\n",
       "      <th>random forest</th>\n",
       "      <td>8</td>\n",
       "      <td>49</td>\n",
       "      <td>344</td>\n",
       "      <td>387</td>\n",
       "      <td>0.923490</td>\n",
       "      <td>0.977273</td>\n",
       "      <td>0.875318</td>\n",
       "      <td>0.931408</td>\n",
       "      <td>0.887615</td>\n",
       "      <td>0.979747</td>\n",
       "    </tr>\n",
       "    <tr>\n",
       "      <th>XGBoost</th>\n",
       "      <td>24</td>\n",
       "      <td>36</td>\n",
       "      <td>357</td>\n",
       "      <td>371</td>\n",
       "      <td>0.922481</td>\n",
       "      <td>0.937008</td>\n",
       "      <td>0.908397</td>\n",
       "      <td>0.925187</td>\n",
       "      <td>0.911548</td>\n",
       "      <td>0.939241</td>\n",
       "    </tr>\n",
       "  </tbody>\n",
       "</table>\n",
       "</div>"
      ],
      "text/plain": [
       "                     false_negative  false_positive  true_negative  \\\n",
       "name                                                                 \n",
       "logistic regression  23              29              364             \n",
       "linear discriminant  23              56              337             \n",
       "k nearest neighbors  10              47              346             \n",
       "decision tree        32              34              359             \n",
       "support vectors      3               63              330             \n",
       "random forest        8               49              344             \n",
       "XGBoost              24              36              357             \n",
       "\n",
       "                     true_positive  fraud_f1-score  fraud_precision  \\\n",
       "name                                                                  \n",
       "logistic regression  372            0.933333        0.940568          \n",
       "linear discriminant  372            0.895086        0.936111          \n",
       "k nearest neighbors  385            0.923899        0.971910          \n",
       "decision tree        363            0.915816        0.918159          \n",
       "support vectors      392            0.909091        0.990991          \n",
       "random forest        387            0.923490        0.977273          \n",
       "XGBoost              371            0.922481        0.937008          \n",
       "\n",
       "                     fraud_recall  not_fraud_f1-score  not_fraud_precision  \\\n",
       "name                                                                         \n",
       "logistic regression  0.926209      0.934673            0.927681              \n",
       "linear discriminant  0.857506      0.904010            0.869159              \n",
       "k nearest neighbors  0.880407      0.931076            0.891204              \n",
       "decision tree        0.913486      0.916667            0.914358              \n",
       "support vectors      0.839695      0.922353            0.861538              \n",
       "random forest        0.875318      0.931408            0.887615              \n",
       "XGBoost              0.908397      0.925187            0.911548              \n",
       "\n",
       "                     not_fraud_recall  \n",
       "name                                   \n",
       "logistic regression  0.941772          \n",
       "linear discriminant  0.941772          \n",
       "k nearest neighbors  0.974684          \n",
       "decision tree        0.918987          \n",
       "support vectors      0.992405          \n",
       "random forest        0.979747          \n",
       "XGBoost              0.939241          "
      ]
     },
     "execution_count": 38,
     "metadata": {},
     "output_type": "execute_result"
    }
   ],
   "source": [
    "results.set_index('name', inplace=False)[col_order]"
   ]
  },
  {
   "cell_type": "code",
   "execution_count": 41,
   "metadata": {},
   "outputs": [],
   "source": [
    "blah = results.copy()\n",
    "blah.set_index('name', inplace=True)\n",
    "blah['false_negative_normalized'] = normalize(blah['false_negative'])"
   ]
  },
  {
   "cell_type": "code",
   "execution_count": 47,
   "metadata": {},
   "outputs": [
    {
     "data": {
      "image/png": "[encoded data removed]",
      "text/plain": [
       "<matplotlib.figure.Figure at 0x1108e0a50>"
      ]
     },
     "metadata": {},
     "output_type": "display_data"
    }
   ],
   "source": [
    "model_viz = blah[['false_negative_normalized', 'fraud_precision', 'fraud_f1-score']].plot(kind='bar', title='comparison of each ML model', figsize=(10,10))"
   ]
  },
  {
   "cell_type": "code",
   "execution_count": 49,
   "metadata": {},
   "outputs": [
    {
     "data": {
      "image/png": "[encoded data removed]",
      "text/plain": [
       "<matplotlib.figure.Figure at 0x121f70150>"
      ]
     },
     "metadata": {},
     "output_type": "display_data"
    }
   ],
   "source": [
    "model_viz = blah[['fraud_precision', 'fraud_recall', 'fraud_f1-score']].plot(kind='bar', title='comparison of each ML model', figsize=(10,10))"
   ]
  },
  {
   "cell_type": "code",
   "execution_count": 45,
   "metadata": {},
   "outputs": [],
   "source": [
    "results.to_pickle('./results/baseline.pkl')"
   ]
  },
  {
   "cell_type": "markdown",
   "metadata": {},
   "source": [
    "## Undersampling write-up "
   ]
  },
  {
   "cell_type": "code",
   "execution_count": null,
   "metadata": {},
   "outputs": [],
   "source": []
  }
 ],
 "metadata": {
  "kernelspec": {
   "display_name": "Python 2",
   "language": "python",
   "name": "python2"
  },
  "language_info": {
   "codemirror_mode": {
    "name": "ipython",
    "version": 2
   },
   "file_extension": ".py",
   "mimetype": "text/x-python",
   "name": "python",
   "nbconvert_exporter": "python",
   "pygments_lexer": "ipython2",
   "version": "2.7.15"
  }
 },
 "nbformat": 4,
 "nbformat_minor": 2
}
