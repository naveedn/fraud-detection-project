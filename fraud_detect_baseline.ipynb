{
 "cells": [
  {
   "cell_type": "code",
   "execution_count": 1,
   "metadata": {},
   "outputs": [],
   "source": [
    "%matplotlib inline"
   ]
  },
  {
   "cell_type": "code",
   "execution_count": 2,
   "metadata": {},
   "outputs": [],
   "source": [
    "# HACK: needed to manually import sys.path from ipython repl, for some reason it doesn't work on my host otherwise\n",
    "import sys\n",
    "sys.path = ['', '/Users/naveed/scratch/fraud_detection_project/venv/bin', '/Users/naveed/scratch/fraud_detection_project/venv/lib/python27.zip', '/Users/naveed/scratch/fraud_detection_project/venv/lib/python2.7', '/Users/naveed/scratch/fraud_detection_project/venv/lib/python2.7/plat-darwin', '/Users/naveed/scratch/fraud_detection_project/venv/lib/python2.7/plat-mac', '/Users/naveed/scratch/fraud_detection_project/venv/lib/python2.7/plat-mac/lib-scriptpackages', '/Users/naveed/scratch/fraud_detection_project/venv/lib/python2.7/lib-tk', '/Users/naveed/scratch/fraud_detection_project/venv/lib/python2.7/lib-old', '/Users/naveed/scratch/fraud_detection_project/venv/lib/python2.7/lib-dynload', '/Users/naveed/anaconda2/lib/python2.7', '/Users/naveed/anaconda2/lib/python2.7/plat-darwin', '/Users/naveed/anaconda2/lib/python2.7/lib-tk', '/Users/naveed/anaconda2/lib/python2.7/plat-mac', '/Users/naveed/anaconda2/lib/python2.7/plat-mac/lib-scriptpackages', '/Users/naveed/scratch/fraud_detection_project/venv/lib/python2.7/site-packages', '/Users/naveed/scratch/fraud_detection_project/venv/lib/python2.7/site-packages/IPython/extensions', '/Users/naveed/.ipython']"
   ]
  },
  {
   "cell_type": "code",
   "execution_count": 3,
   "metadata": {},
   "outputs": [
    {
     "data": {
      "text/plain": [
       "<matplotlib.figure.Figure at 0x112082f50>"
      ]
     },
     "metadata": {},
     "output_type": "display_data"
    }
   ],
   "source": [
    "%load_ext autoreload\n",
    "%autoreload 2\n",
    "\n",
    "import pandas as pd\n",
    "import numpy as np\n",
    "import matplotlib.pyplot as plt\n",
    "\n",
    "plt.figure(figsize=(8,6))\n",
    "\n",
    "from sklearn.preprocessing import normalize\n",
    "from sklearn.model_selection import train_test_split\n",
    "\n",
    "from sklearn import metrics\n",
    "from sklearn.metrics import confusion_matrix\n",
    "from sklearn.metrics import classification_report\n",
    "\n",
    "pd.set_option('max_colwidth', -1)"
   ]
  },
  {
   "cell_type": "code",
   "execution_count": 4,
   "metadata": {},
   "outputs": [],
   "source": [
    "import xgboost"
   ]
  },
  {
   "cell_type": "code",
   "execution_count": 5,
   "metadata": {},
   "outputs": [],
   "source": [
    "pdf = pd.read_csv('./creditcard.csv')"
   ]
  },
  {
   "cell_type": "markdown",
   "metadata": {},
   "source": [
    "# Notes:\n",
    " - Reduced FeatureSet: 28 Features determined from prior PCA analysis. Original features were scrubbed for user anonymity\n",
    " - Time & Amount are the only two original features\n",
    " - Total Samples in DataSet: 284,807. Number of Fraudalent transactions: 492 (0.172%) of all transactions. Represented by \"Class\" Feature\n",
    " \n",
    "# Goal:\n",
    " - with the highly imbalanced data set, normalize the data by normalizing  underfitting the data\n",
    " - compare different models and estimate which ones perform better\n",
    " - go back and use some oversampling method to see how the models change with the availability of more data\n",
    " - "
   ]
  },
  {
   "cell_type": "code",
   "execution_count": 6,
   "metadata": {},
   "outputs": [],
   "source": [
    "numerical_features_only = sorted(list(set(pdf.columns.tolist()) - set(['Time', 'Amount', 'Class'])), key=lambda x: int(x[1:]))"
   ]
  },
  {
   "cell_type": "markdown",
   "metadata": {},
   "source": [
    "## Fraud Class EDA"
   ]
  },
  {
   "cell_type": "code",
   "execution_count": 7,
   "metadata": {},
   "outputs": [],
   "source": [
    "fraud_df = pdf.loc[pdf.Class == 1]"
   ]
  },
  {
   "cell_type": "code",
   "execution_count": 8,
   "metadata": {},
   "outputs": [
    {
     "data": {
      "text/html": [
       "<div>\n",
       "<style scoped>\n",
       "    .dataframe tbody tr th:only-of-type {\n",
       "        vertical-align: middle;\n",
       "    }\n",
       "\n",
       "    .dataframe tbody tr th {\n",
       "        vertical-align: top;\n",
       "    }\n",
       "\n",
       "    .dataframe thead th {\n",
       "        text-align: right;\n",
       "    }\n",
       "</style>\n",
       "<table border=\"1\" class=\"dataframe\">\n",
       "  <thead>\n",
       "    <tr style=\"text-align: right;\">\n",
       "      <th></th>\n",
       "      <th>Time</th>\n",
       "      <th>V1</th>\n",
       "      <th>V2</th>\n",
       "      <th>V3</th>\n",
       "      <th>V4</th>\n",
       "      <th>V5</th>\n",
       "      <th>V6</th>\n",
       "      <th>V7</th>\n",
       "      <th>V8</th>\n",
       "      <th>V9</th>\n",
       "      <th>...</th>\n",
       "      <th>V21</th>\n",
       "      <th>V22</th>\n",
       "      <th>V23</th>\n",
       "      <th>V24</th>\n",
       "      <th>V25</th>\n",
       "      <th>V26</th>\n",
       "      <th>V27</th>\n",
       "      <th>V28</th>\n",
       "      <th>Amount</th>\n",
       "      <th>Class</th>\n",
       "    </tr>\n",
       "  </thead>\n",
       "  <tbody>\n",
       "    <tr>\n",
       "      <th>541</th>\n",
       "      <td>406.0</td>\n",
       "      <td>-2.312227</td>\n",
       "      <td>1.951992</td>\n",
       "      <td>-1.609851</td>\n",
       "      <td>3.997906</td>\n",
       "      <td>-0.522188</td>\n",
       "      <td>-1.426545</td>\n",
       "      <td>-2.537387</td>\n",
       "      <td>1.391657</td>\n",
       "      <td>-2.770089</td>\n",
       "      <td>...</td>\n",
       "      <td>0.517232</td>\n",
       "      <td>-0.035049</td>\n",
       "      <td>-0.465211</td>\n",
       "      <td>0.320198</td>\n",
       "      <td>0.044519</td>\n",
       "      <td>0.177840</td>\n",
       "      <td>0.261145</td>\n",
       "      <td>-0.143276</td>\n",
       "      <td>0.00</td>\n",
       "      <td>1</td>\n",
       "    </tr>\n",
       "    <tr>\n",
       "      <th>623</th>\n",
       "      <td>472.0</td>\n",
       "      <td>-3.043541</td>\n",
       "      <td>-3.157307</td>\n",
       "      <td>1.088463</td>\n",
       "      <td>2.288644</td>\n",
       "      <td>1.359805</td>\n",
       "      <td>-1.064823</td>\n",
       "      <td>0.325574</td>\n",
       "      <td>-0.067794</td>\n",
       "      <td>-0.270953</td>\n",
       "      <td>...</td>\n",
       "      <td>0.661696</td>\n",
       "      <td>0.435477</td>\n",
       "      <td>1.375966</td>\n",
       "      <td>-0.293803</td>\n",
       "      <td>0.279798</td>\n",
       "      <td>-0.145362</td>\n",
       "      <td>-0.252773</td>\n",
       "      <td>0.035764</td>\n",
       "      <td>529.00</td>\n",
       "      <td>1</td>\n",
       "    </tr>\n",
       "    <tr>\n",
       "      <th>4920</th>\n",
       "      <td>4462.0</td>\n",
       "      <td>-2.303350</td>\n",
       "      <td>1.759247</td>\n",
       "      <td>-0.359745</td>\n",
       "      <td>2.330243</td>\n",
       "      <td>-0.821628</td>\n",
       "      <td>-0.075788</td>\n",
       "      <td>0.562320</td>\n",
       "      <td>-0.399147</td>\n",
       "      <td>-0.238253</td>\n",
       "      <td>...</td>\n",
       "      <td>-0.294166</td>\n",
       "      <td>-0.932391</td>\n",
       "      <td>0.172726</td>\n",
       "      <td>-0.087330</td>\n",
       "      <td>-0.156114</td>\n",
       "      <td>-0.542628</td>\n",
       "      <td>0.039566</td>\n",
       "      <td>-0.153029</td>\n",
       "      <td>239.93</td>\n",
       "      <td>1</td>\n",
       "    </tr>\n",
       "    <tr>\n",
       "      <th>6108</th>\n",
       "      <td>6986.0</td>\n",
       "      <td>-4.397974</td>\n",
       "      <td>1.358367</td>\n",
       "      <td>-2.592844</td>\n",
       "      <td>2.679787</td>\n",
       "      <td>-1.128131</td>\n",
       "      <td>-1.706536</td>\n",
       "      <td>-3.496197</td>\n",
       "      <td>-0.248778</td>\n",
       "      <td>-0.247768</td>\n",
       "      <td>...</td>\n",
       "      <td>0.573574</td>\n",
       "      <td>0.176968</td>\n",
       "      <td>-0.436207</td>\n",
       "      <td>-0.053502</td>\n",
       "      <td>0.252405</td>\n",
       "      <td>-0.657488</td>\n",
       "      <td>-0.827136</td>\n",
       "      <td>0.849573</td>\n",
       "      <td>59.00</td>\n",
       "      <td>1</td>\n",
       "    </tr>\n",
       "    <tr>\n",
       "      <th>6329</th>\n",
       "      <td>7519.0</td>\n",
       "      <td>1.234235</td>\n",
       "      <td>3.019740</td>\n",
       "      <td>-4.304597</td>\n",
       "      <td>4.732795</td>\n",
       "      <td>3.624201</td>\n",
       "      <td>-1.357746</td>\n",
       "      <td>1.713445</td>\n",
       "      <td>-0.496358</td>\n",
       "      <td>-1.282858</td>\n",
       "      <td>...</td>\n",
       "      <td>-0.379068</td>\n",
       "      <td>-0.704181</td>\n",
       "      <td>-0.656805</td>\n",
       "      <td>-1.632653</td>\n",
       "      <td>1.488901</td>\n",
       "      <td>0.566797</td>\n",
       "      <td>-0.010016</td>\n",
       "      <td>0.146793</td>\n",
       "      <td>1.00</td>\n",
       "      <td>1</td>\n",
       "    </tr>\n",
       "  </tbody>\n",
       "</table>\n",
       "<p>5 rows × 31 columns</p>\n",
       "</div>"
      ],
      "text/plain": [
       "        Time        V1        V2        V3        V4        V5        V6  \\\n",
       "541   406.0  -2.312227  1.951992 -1.609851  3.997906 -0.522188 -1.426545   \n",
       "623   472.0  -3.043541 -3.157307  1.088463  2.288644  1.359805 -1.064823   \n",
       "4920  4462.0 -2.303350  1.759247 -0.359745  2.330243 -0.821628 -0.075788   \n",
       "6108  6986.0 -4.397974  1.358367 -2.592844  2.679787 -1.128131 -1.706536   \n",
       "6329  7519.0  1.234235  3.019740 -4.304597  4.732795  3.624201 -1.357746   \n",
       "\n",
       "            V7        V8        V9  ...       V21       V22       V23  \\\n",
       "541  -2.537387  1.391657 -2.770089  ...  0.517232 -0.035049 -0.465211   \n",
       "623   0.325574 -0.067794 -0.270953  ...  0.661696  0.435477  1.375966   \n",
       "4920  0.562320 -0.399147 -0.238253  ... -0.294166 -0.932391  0.172726   \n",
       "6108 -3.496197 -0.248778 -0.247768  ...  0.573574  0.176968 -0.436207   \n",
       "6329  1.713445 -0.496358 -1.282858  ... -0.379068 -0.704181 -0.656805   \n",
       "\n",
       "           V24       V25       V26       V27       V28  Amount  Class  \n",
       "541   0.320198  0.044519  0.177840  0.261145 -0.143276  0.00    1      \n",
       "623  -0.293803  0.279798 -0.145362 -0.252773  0.035764  529.00  1      \n",
       "4920 -0.087330 -0.156114 -0.542628  0.039566 -0.153029  239.93  1      \n",
       "6108 -0.053502  0.252405 -0.657488 -0.827136  0.849573  59.00   1      \n",
       "6329 -1.632653  1.488901  0.566797 -0.010016  0.146793  1.00    1      \n",
       "\n",
       "[5 rows x 31 columns]"
      ]
     },
     "execution_count": 8,
     "metadata": {},
     "output_type": "execute_result"
    }
   ],
   "source": [
    "fraud_df.head()"
   ]
  },
  {
   "cell_type": "markdown",
   "metadata": {},
   "source": [
    "## Notes:\n",
    "- using just the numerical variables, it seems that positive correlations exist between (8x9, 15-17), neg corr: (1-3, 18x15-17)"
   ]
  },
  {
   "cell_type": "code",
   "execution_count": 9,
   "metadata": {},
   "outputs": [
    {
     "data": {
      "text/plain": [
       "<matplotlib.colorbar.Colorbar at 0x1108462d0>"
      ]
     },
     "execution_count": 9,
     "metadata": {},
     "output_type": "execute_result"
    },
    {
     "data": {
      "image/png": "[encoded data removed]",
      "text/plain": [
       "<matplotlib.figure.Figure at 0x121f70550>"
      ]
     },
     "metadata": {},
     "output_type": "display_data"
    }
   ],
   "source": [
    "fig = plt.figure(figsize=(20,10))\n",
    "cax = plt.matshow(fraud_df[numerical_features_only].corr(), fignum=1)\n",
    "fig.colorbar(cax)"
   ]
  },
  {
   "cell_type": "code",
   "execution_count": 10,
   "metadata": {},
   "outputs": [
    {
     "data": {
      "image/png": "[encoded data removed]",
      "text/plain": [
       "<matplotlib.figure.Figure at 0x110917910>"
      ]
     },
     "metadata": {},
     "output_type": "display_data"
    }
   ],
   "source": [
    "y = fraud_df[['Time']].hist(bins=50, color='red')"
   ]
  },
  {
   "cell_type": "code",
   "execution_count": 11,
   "metadata": {},
   "outputs": [
    {
     "data": {
      "text/plain": [
       "array([[<matplotlib.axes._subplots.AxesSubplot object at 0x12054eb50>]],\n",
       "      dtype=object)"
      ]
     },
     "execution_count": 11,
     "metadata": {},
     "output_type": "execute_result"
    },
    {
     "data": {
      "image/png": "[encoded data removed]",
      "text/plain": [
       "<matplotlib.figure.Figure at 0x1205721d0>"
      ]
     },
     "metadata": {},
     "output_type": "display_data"
    }
   ],
   "source": [
    "pdf[['Time']].hist(bins=50)"
   ]
  },
  {
   "cell_type": "code",
   "execution_count": 12,
   "metadata": {},
   "outputs": [
    {
     "data": {
      "text/plain": [
       "array([[<matplotlib.axes._subplots.AxesSubplot object at 0x1205fe390>]],\n",
       "      dtype=object)"
      ]
     },
     "execution_count": 12,
     "metadata": {},
     "output_type": "execute_result"
    },
    {
     "data": {
      "image/png": "[encoded data removed]",
      "text/plain": [
       "<matplotlib.figure.Figure at 0x11df9a350>"
      ]
     },
     "metadata": {},
     "output_type": "display_data"
    }
   ],
   "source": [
    "fraud_df[['Amount']].hist(bins=50)"
   ]
  },
  {
   "cell_type": "code",
   "execution_count": 13,
   "metadata": {},
   "outputs": [
    {
     "data": {
      "text/plain": [
       "array([[<matplotlib.axes._subplots.AxesSubplot object at 0x11e0efd50>]],\n",
       "      dtype=object)"
      ]
     },
     "execution_count": 13,
     "metadata": {},
     "output_type": "execute_result"
    },
    {
     "data": {
      "image/png": "[encoded data removed]",
      "text/plain": [
       "<matplotlib.figure.Figure at 0x11e0a5d50>"
      ]
     },
     "metadata": {},
     "output_type": "display_data"
    }
   ],
   "source": [
    "pdf[['Amount']].hist(bins=50)"
   ]
  },
  {
   "cell_type": "markdown",
   "metadata": {},
   "source": [
    "## Data Preparation\n",
    "- Dealing with imbalanced data seems to be a concern here because of the disparity of fraudalent data\n",
    "    - Oversampling — SMOTE\n",
    "    - Undersampling — RandomUnderSampler\n",
    "    - Combined Class Methods — SMOTE + ENN\n",
    "- Outlier Detection & Removal\n",
    "- Dimensionality Reduction"
   ]
  },
  {
   "cell_type": "code",
   "execution_count": 14,
   "metadata": {},
   "outputs": [],
   "source": [
    "def normalize(series):\n",
    "    return (series - series.min()) / (series.max() - series.min())\n",
    "\n",
    "pdf['time_normalized'] = normalize(pdf.Time)\n",
    "pdf['amount_normalized'] = normalize(pdf.Amount)"
   ]
  },
  {
   "cell_type": "code",
   "execution_count": 15,
   "metadata": {},
   "outputs": [],
   "source": [
    "def undersample(df):\n",
    "    discriminant_feature = df.loc[df.Class == 1]\n",
    "    cnt = len(discriminant_feature)\n",
    "    other_set = df.loc[df.Class == 0].sample(n=cnt)\n",
    "    \n",
    "    together = pd.concat([discriminant_feature,other_set])\n",
    "    return together.sample(frac=1)\n",
    "    \n",
    "\n",
    "balanced_df = undersample(pdf[numerical_features_only + ['time_normalized', 'amount_normalized', 'Class']])"
   ]
  },
  {
   "cell_type": "markdown",
   "metadata": {},
   "source": [
    "### Split dataset into training / test"
   ]
  },
  {
   "cell_type": "code",
   "execution_count": 16,
   "metadata": {},
   "outputs": [],
   "source": [
    "features = [x for x in balanced_df.columns.tolist() if x != 'Class']\n",
    "\n",
    "X = balanced_df[features]\n",
    "y = balanced_df.Class\n",
    "\n",
    "X_train, X_test, y_train, y_test = train_test_split(X, y, test_size=0.8, random_state=0)"
   ]
  },
  {
   "cell_type": "code",
   "execution_count": 17,
   "metadata": {},
   "outputs": [],
   "source": [
    "results = pd.DataFrame()\n",
    "\n",
    "col_order = ['false_negative', 'false_positive', 'true_negative', 'true_positive', 'fraud_f1-score', 'fraud_precision', 'fraud_recall', 'not_fraud_f1-score', 'not_fraud_precision', 'not_fraud_recall']"
   ]
  },
  {
   "cell_type": "markdown",
   "metadata": {},
   "source": [
    "## Helper methods for model creation"
   ]
  },
  {
   "cell_type": "code",
   "execution_count": 18,
   "metadata": {},
   "outputs": [],
   "source": [
    "def train_model(model, model_name, X_train, X_test, y_train, y_test):\n",
    "    model.fit(X_train, y_train)\n",
    "    y_pred = model.predict(X_test)\n",
    "    print('Accuracy of {model_name} on test set: {accuracy:.2f}'.format(model_name=model_name, accuracy=model.score(X_test, y_test)))\n",
    "    \n",
    "    return y_pred\n",
    "\n",
    "def flatten(report):\n",
    "    \"used to flatten confusion matrix and classification report \"\n",
    "    final_dict = {}\n",
    "    for k, v in report.items():\n",
    "        for k2, v2 in v.items():\n",
    "            if k2 in ['precision', 'recall', 'f1-score'] and k in ['not_fraud', 'fraud']:\n",
    "                final_dict[k + '_' +k2] =  v2\n",
    "    \n",
    "    return final_dict\n",
    "\n",
    "def analyze_model_stats(model, model_name, X_train, X_test, y_train, y_test, y_pred, results_df):\n",
    "    cfmx = confusion_matrix(y_test, y_pred)\n",
    "    report = classification_report(y_test, y_pred, target_names=['not_fraud', 'fraud'], output_dict=True)\n",
    "    \n",
    "    print 'CONFUSION MATRIX:\\n',\n",
    "    print(cfmx)\n",
    "    print\n",
    "    print 'CLASSIFICATION REPORT:'\n",
    "    print(classification_report(y_test, y_pred, target_names=['not_fraud', 'fraud']))\n",
    "        \n",
    "    data = dict({\n",
    "        'name': model_name,\n",
    "        'true_positive': cfmx[0,0],\n",
    "        'false_negative': cfmx[0,1],\n",
    "        'false_positive': cfmx[1,0],\n",
    "        'true_negative': cfmx[1,1],\n",
    "    }, **flatten(report))\n",
    "    \n",
    "    return [data]\n",
    "    \n",
    "def train_and_analyze(model, model_name, X_train, X_test, y_train, y_test, results_df):\n",
    "    y_pred = train_model(model, model_name, X_train, X_test, y_train, y_test)\n",
    "    return analyze_model_stats(model, model_name, X_train, X_test, y_train, y_test, y_pred, results_df)"
   ]
  },
  {
   "cell_type": "markdown",
   "metadata": {},
   "source": [
    "## ML Models to try out\n",
    "- [**DONE**] Logistic Regression\n",
    "- [**DONE**] Linear Discriminant Analysis\n",
    "- [**DONE**] K Nearest Neighbors (KNN)\n",
    "- [**DONE**] Classification Trees (Decision Tree, Random Forest)\n",
    "- [**DONE**]Support Vector Classifier\n",
    "- [**DONE**] Random Forest Classifier\n",
    "- [**DONE**] XGBoost Classifier (could not get this thing to compile -- try again later)"
   ]
  },
  {
   "cell_type": "markdown",
   "metadata": {},
   "source": [
    "## Logistic Regression"
   ]
  },
  {
   "cell_type": "code",
   "execution_count": 19,
   "metadata": {},
   "outputs": [
    {
     "name": "stdout",
     "output_type": "stream",
     "text": [
      "Accuracy of logistic regression on test set: 0.93\n",
      "CONFUSION MATRIX:\n",
      "[[372  23]\n",
      " [ 29 364]]\n",
      "\n",
      "CLASSIFICATION REPORT:\n",
      "              precision    recall  f1-score   support\n",
      "\n",
      "   not_fraud       0.93      0.94      0.93       395\n",
      "       fraud       0.94      0.93      0.93       393\n",
      "\n",
      "   micro avg       0.93      0.93      0.93       788\n",
      "   macro avg       0.93      0.93      0.93       788\n",
      "weighted avg       0.93      0.93      0.93       788\n",
      "\n"
     ]
    },
    {
     "name": "stderr",
     "output_type": "stream",
     "text": [
      "/Users/naveed/scratch/fraud_detection_project/venv/lib/python2.7/site-packages/sklearn/linear_model/logistic.py:433: FutureWarning: Default solver will be changed to 'lbfgs' in 0.22. Specify a solver to silence this warning.\n",
      "  FutureWarning)\n"
     ]
    }
   ],
   "source": [
    "from sklearn.linear_model import LogisticRegression\n",
    "\n",
    "logreg = LogisticRegression()\n",
    "results = results.append(train_and_analyze(logreg, 'logistic regression', X_train, X_test, y_train, y_test, results))"
   ]
  },
  {
   "cell_type": "code",
   "execution_count": 20,
   "metadata": {},
   "outputs": [
    {
     "data": {
      "text/html": [
       "<div>\n",
       "<style scoped>\n",
       "    .dataframe tbody tr th:only-of-type {\n",
       "        vertical-align: middle;\n",
       "    }\n",
       "\n",
       "    .dataframe tbody tr th {\n",
       "        vertical-align: top;\n",
       "    }\n",
       "\n",
       "    .dataframe thead th {\n",
       "        text-align: right;\n",
       "    }\n",
       "</style>\n",
       "<table border=\"1\" class=\"dataframe\">\n",
       "  <thead>\n",
       "    <tr style=\"text-align: right;\">\n",
       "      <th></th>\n",
       "      <th>false_negative</th>\n",
       "      <th>false_positive</th>\n",
       "      <th>true_negative</th>\n",
       "      <th>true_positive</th>\n",
       "      <th>fraud_f1-score</th>\n",
       "      <th>fraud_precision</th>\n",
       "      <th>fraud_recall</th>\n",
       "      <th>not_fraud_f1-score</th>\n",
       "      <th>not_fraud_precision</th>\n",
       "      <th>not_fraud_recall</th>\n",
       "    </tr>\n",
       "    <tr>\n",
       "      <th>name</th>\n",
       "      <th></th>\n",
       "      <th></th>\n",
       "      <th></th>\n",
       "      <th></th>\n",
       "      <th></th>\n",
       "      <th></th>\n",
       "      <th></th>\n",
       "      <th></th>\n",
       "      <th></th>\n",
       "      <th></th>\n",
       "    </tr>\n",
       "  </thead>\n",
       "  <tbody>\n",
       "    <tr>\n",
       "      <th>logistic regression</th>\n",
       "      <td>23</td>\n",
       "      <td>29</td>\n",
       "      <td>364</td>\n",
       "      <td>372</td>\n",
       "      <td>0.933333</td>\n",
       "      <td>0.940568</td>\n",
       "      <td>0.926209</td>\n",
       "      <td>0.934673</td>\n",
       "      <td>0.927681</td>\n",
       "      <td>0.941772</td>\n",
       "    </tr>\n",
       "  </tbody>\n",
       "</table>\n",
       "</div>"
      ],
      "text/plain": [
       "                     false_negative  false_positive  true_negative  \\\n",
       "name                                                                 \n",
       "logistic regression  23              29              364             \n",
       "\n",
       "                     true_positive  fraud_f1-score  fraud_precision  \\\n",
       "name                                                                  \n",
       "logistic regression  372            0.933333        0.940568          \n",
       "\n",
       "                     fraud_recall  not_fraud_f1-score  not_fraud_precision  \\\n",
       "name                                                                         \n",
       "logistic regression  0.926209      0.934673            0.927681              \n",
       "\n",
       "                     not_fraud_recall  \n",
       "name                                   \n",
       "logistic regression  0.941772          "
      ]
     },
     "execution_count": 20,
     "metadata": {},
     "output_type": "execute_result"
    }
   ],
   "source": [
    "results.set_index('name', inplace=False)[col_order]"
   ]
  },
  {
   "cell_type": "markdown",
   "metadata": {},
   "source": [
    "## Linear Discriminant Analysis"
   ]
  },
  {
   "cell_type": "code",
   "execution_count": 21,
   "metadata": {},
   "outputs": [],
   "source": [
    "from sklearn.discriminant_analysis import LinearDiscriminantAnalysis"
   ]
  },
  {
   "cell_type": "code",
   "execution_count": 22,
   "metadata": {},
   "outputs": [
    {
     "name": "stdout",
     "output_type": "stream",
     "text": [
      "Accuracy of linear discriminant on test set: 0.90\n",
      "CONFUSION MATRIX:\n",
      "[[372  23]\n",
      " [ 56 337]]\n",
      "\n",
      "CLASSIFICATION REPORT:\n",
      "              precision    recall  f1-score   support\n",
      "\n",
      "   not_fraud       0.87      0.94      0.90       395\n",
      "       fraud       0.94      0.86      0.90       393\n",
      "\n",
      "   micro avg       0.90      0.90      0.90       788\n",
      "   macro avg       0.90      0.90      0.90       788\n",
      "weighted avg       0.90      0.90      0.90       788\n",
      "\n"
     ]
    }
   ],
   "source": [
    "lindisc = LinearDiscriminantAnalysis()\n",
    "results = results.append(train_and_analyze(lindisc, 'linear discriminant', X_train, X_test, y_train, y_test, results))"
   ]
  },
  {
   "cell_type": "code",
   "execution_count": 23,
   "metadata": {},
   "outputs": [
    {
     "data": {
      "text/html": [
       "<div>\n",
       "<style scoped>\n",
       "    .dataframe tbody tr th:only-of-type {\n",
       "        vertical-align: middle;\n",
       "    }\n",
       "\n",
       "    .dataframe tbody tr th {\n",
       "        vertical-align: top;\n",
       "    }\n",
       "\n",
       "    .dataframe thead th {\n",
       "        text-align: right;\n",
       "    }\n",
       "</style>\n",
       "<table border=\"1\" class=\"dataframe\">\n",
       "  <thead>\n",
       "    <tr style=\"text-align: right;\">\n",
       "      <th></th>\n",
       "      <th>false_negative</th>\n",
       "      <th>false_positive</th>\n",
       "      <th>true_negative</th>\n",
       "      <th>true_positive</th>\n",
       "      <th>fraud_f1-score</th>\n",
       "      <th>fraud_precision</th>\n",
       "      <th>fraud_recall</th>\n",
       "      <th>not_fraud_f1-score</th>\n",
       "      <th>not_fraud_precision</th>\n",
       "      <th>not_fraud_recall</th>\n",
       "    </tr>\n",
       "    <tr>\n",
       "      <th>name</th>\n",
       "      <th></th>\n",
       "      <th></th>\n",
       "      <th></th>\n",
       "      <th></th>\n",
       "      <th></th>\n",
       "      <th></th>\n",
       "      <th></th>\n",
       "      <th></th>\n",
       "      <th></th>\n",
       "      <th></th>\n",
       "    </tr>\n",
       "  </thead>\n",
       "  <tbody>\n",
       "    <tr>\n",
       "      <th>logistic regression</th>\n",
       "      <td>23</td>\n",
       "      <td>29</td>\n",
       "      <td>364</td>\n",
       "      <td>372</td>\n",
       "      <td>0.933333</td>\n",
       "      <td>0.940568</td>\n",
       "      <td>0.926209</td>\n",
       "      <td>0.934673</td>\n",
       "      <td>0.927681</td>\n",
       "      <td>0.941772</td>\n",
       "    </tr>\n",
       "    <tr>\n",
       "      <th>linear discriminant</th>\n",
       "      <td>23</td>\n",
       "      <td>56</td>\n",
       "      <td>337</td>\n",
       "      <td>372</td>\n",
       "      <td>0.895086</td>\n",
       "      <td>0.936111</td>\n",
       "      <td>0.857506</td>\n",
       "      <td>0.904010</td>\n",
       "      <td>0.869159</td>\n",
       "      <td>0.941772</td>\n",
       "    </tr>\n",
       "  </tbody>\n",
       "</table>\n",
       "</div>"
      ],
      "text/plain": [
       "                     false_negative  false_positive  true_negative  \\\n",
       "name                                                                 \n",
       "logistic regression  23              29              364             \n",
       "linear discriminant  23              56              337             \n",
       "\n",
       "                     true_positive  fraud_f1-score  fraud_precision  \\\n",
       "name                                                                  \n",
       "logistic regression  372            0.933333        0.940568          \n",
       "linear discriminant  372            0.895086        0.936111          \n",
       "\n",
       "                     fraud_recall  not_fraud_f1-score  not_fraud_precision  \\\n",
       "name                                                                         \n",
       "logistic regression  0.926209      0.934673            0.927681              \n",
       "linear discriminant  0.857506      0.904010            0.869159              \n",
       "\n",
       "                     not_fraud_recall  \n",
       "name                                   \n",
       "logistic regression  0.941772          \n",
       "linear discriminant  0.941772          "
      ]
     },
     "execution_count": 23,
     "metadata": {},
     "output_type": "execute_result"
    }
   ],
   "source": [
    "results.set_index('name', inplace=False)[col_order]"
   ]
  },
  {
   "cell_type": "markdown",
   "metadata": {},
   "source": [
    "## K Nearest Neighbors (KNN)"
   ]
  },
  {
   "cell_type": "code",
   "execution_count": 24,
   "metadata": {},
   "outputs": [],
   "source": [
    "from sklearn.neighbors import KNeighborsClassifier"
   ]
  },
  {
   "cell_type": "code",
   "execution_count": 25,
   "metadata": {},
   "outputs": [
    {
     "name": "stdout",
     "output_type": "stream",
     "text": [
      "Accuracy of k nearest neighbors on test set: 0.93\n",
      "CONFUSION MATRIX:\n",
      "[[385  10]\n",
      " [ 47 346]]\n",
      "\n",
      "CLASSIFICATION REPORT:\n",
      "              precision    recall  f1-score   support\n",
      "\n",
      "   not_fraud       0.89      0.97      0.93       395\n",
      "       fraud       0.97      0.88      0.92       393\n",
      "\n",
      "   micro avg       0.93      0.93      0.93       788\n",
      "   macro avg       0.93      0.93      0.93       788\n",
      "weighted avg       0.93      0.93      0.93       788\n",
      "\n"
     ]
    }
   ],
   "source": [
    "neigh = KNeighborsClassifier(n_neighbors=2)\n",
    "results = results.append(train_and_analyze(neigh, 'k nearest neighbors', X_train, X_test, y_train, y_test, results))"
   ]
  },
  {
   "cell_type": "code",
   "execution_count": 26,
   "metadata": {},
   "outputs": [
    {
     "data": {
      "text/html": [
       "<div>\n",
       "<style scoped>\n",
       "    .dataframe tbody tr th:only-of-type {\n",
       "        vertical-align: middle;\n",
       "    }\n",
       "\n",
       "    .dataframe tbody tr th {\n",
       "        vertical-align: top;\n",
       "    }\n",
       "\n",
       "    .dataframe thead th {\n",
       "        text-align: right;\n",
       "    }\n",
       "</style>\n",
       "<table border=\"1\" class=\"dataframe\">\n",
       "  <thead>\n",
       "    <tr style=\"text-align: right;\">\n",
       "      <th></th>\n",
       "      <th>false_negative</th>\n",
       "      <th>false_positive</th>\n",
       "      <th>true_negative</th>\n",
       "      <th>true_positive</th>\n",
       "      <th>fraud_f1-score</th>\n",
       "      <th>fraud_precision</th>\n",
       "      <th>fraud_recall</th>\n",
       "      <th>not_fraud_f1-score</th>\n",
       "      <th>not_fraud_precision</th>\n",
       "      <th>not_fraud_recall</th>\n",
       "    </tr>\n",
       "    <tr>\n",
       "      <th>name</th>\n",
       "      <th></th>\n",
       "      <th></th>\n",
       "      <th></th>\n",
       "      <th></th>\n",
       "      <th></th>\n",
       "      <th></th>\n",
       "      <th></th>\n",
       "      <th></th>\n",
       "      <th></th>\n",
       "      <th></th>\n",
       "    </tr>\n",
       "  </thead>\n",
       "  <tbody>\n",
       "    <tr>\n",
       "      <th>logistic regression</th>\n",
       "      <td>23</td>\n",
       "      <td>29</td>\n",
       "      <td>364</td>\n",
       "      <td>372</td>\n",
       "      <td>0.933333</td>\n",
       "      <td>0.940568</td>\n",
       "      <td>0.926209</td>\n",
       "      <td>0.934673</td>\n",
       "      <td>0.927681</td>\n",
       "      <td>0.941772</td>\n",
       "    </tr>\n",
       "    <tr>\n",
       "      <th>linear discriminant</th>\n",
       "      <td>23</td>\n",
       "      <td>56</td>\n",
       "      <td>337</td>\n",
       "      <td>372</td>\n",
       "      <td>0.895086</td>\n",
       "      <td>0.936111</td>\n",
       "      <td>0.857506</td>\n",
       "      <td>0.904010</td>\n",
       "      <td>0.869159</td>\n",
       "      <td>0.941772</td>\n",
       "    </tr>\n",
       "    <tr>\n",
       "      <th>k nearest neighbors</th>\n",
       "      <td>10</td>\n",
       "      <td>47</td>\n",
       "      <td>346</td>\n",
       "      <td>385</td>\n",
       "      <td>0.923899</td>\n",
       "      <td>0.971910</td>\n",
       "      <td>0.880407</td>\n",
       "      <td>0.931076</td>\n",
       "      <td>0.891204</td>\n",
       "      <td>0.974684</td>\n",
       "    </tr>\n",
       "  </tbody>\n",
       "</table>\n",
       "</div>"
      ],
      "text/plain": [
       "                     false_negative  false_positive  true_negative  \\\n",
       "name                                                                 \n",
       "logistic regression  23              29              364             \n",
       "linear discriminant  23              56              337             \n",
       "k nearest neighbors  10              47              346             \n",
       "\n",
       "                     true_positive  fraud_f1-score  fraud_precision  \\\n",
       "name                                                                  \n",
       "logistic regression  372            0.933333        0.940568          \n",
       "linear discriminant  372            0.895086        0.936111          \n",
       "k nearest neighbors  385            0.923899        0.971910          \n",
       "\n",
       "                     fraud_recall  not_fraud_f1-score  not_fraud_precision  \\\n",
       "name                                                                         \n",
       "logistic regression  0.926209      0.934673            0.927681              \n",
       "linear discriminant  0.857506      0.904010            0.869159              \n",
       "k nearest neighbors  0.880407      0.931076            0.891204              \n",
       "\n",
       "                     not_fraud_recall  \n",
       "name                                   \n",
       "logistic regression  0.941772          \n",
       "linear discriminant  0.941772          \n",
       "k nearest neighbors  0.974684          "
      ]
     },
     "execution_count": 26,
     "metadata": {},
     "output_type": "execute_result"
    }
   ],
   "source": [
    "results.set_index('name', inplace=False)[col_order]"
   ]
  },
  {
   "cell_type": "markdown",
   "metadata": {},
   "source": [
    "## Classification Trees"
   ]
  },
  {
   "cell_type": "code",
   "execution_count": 27,
   "metadata": {},
   "outputs": [],
   "source": [
    "from sklearn.tree import DecisionTreeClassifier"
   ]
  },
  {
   "cell_type": "code",
   "execution_count": 28,
   "metadata": {},
   "outputs": [
    {
     "name": "stdout",
     "output_type": "stream",
     "text": [
      "Accuracy of decision tree on test set: 0.92\n",
      "CONFUSION MATRIX:\n",
      "[[363  32]\n",
      " [ 34 359]]\n",
      "\n",
      "CLASSIFICATION REPORT:\n",
      "              precision    recall  f1-score   support\n",
      "\n",
      "   not_fraud       0.91      0.92      0.92       395\n",
      "       fraud       0.92      0.91      0.92       393\n",
      "\n",
      "   micro avg       0.92      0.92      0.92       788\n",
      "   macro avg       0.92      0.92      0.92       788\n",
      "weighted avg       0.92      0.92      0.92       788\n",
      "\n"
     ]
    }
   ],
   "source": [
    "dectree = DecisionTreeClassifier()\n",
    "results = results.append(train_and_analyze(dectree, 'decision tree', X_train, X_test, y_train, y_test, results))"
   ]
  },
  {
   "cell_type": "code",
   "execution_count": 29,
   "metadata": {},
   "outputs": [
    {
     "data": {
      "text/html": [
       "<div>\n",
       "<style scoped>\n",
       "    .dataframe tbody tr th:only-of-type {\n",
       "        vertical-align: middle;\n",
       "    }\n",
       "\n",
       "    .dataframe tbody tr th {\n",
       "        vertical-align: top;\n",
       "    }\n",
       "\n",
       "    .dataframe thead th {\n",
       "        text-align: right;\n",
       "    }\n",
       "</style>\n",
       "<table border=\"1\" class=\"dataframe\">\n",
       "  <thead>\n",
       "    <tr style=\"text-align: right;\">\n",
       "      <th></th>\n",
       "      <th>false_negative</th>\n",
       "      <th>false_positive</th>\n",
       "      <th>true_negative</th>\n",
       "      <th>true_positive</th>\n",
       "      <th>fraud_f1-score</th>\n",
       "      <th>fraud_precision</th>\n",
       "      <th>fraud_recall</th>\n",
       "      <th>not_fraud_f1-score</th>\n",
       "      <th>not_fraud_precision</th>\n",
       "      <th>not_fraud_recall</th>\n",
       "    </tr>\n",
       "    <tr>\n",
       "      <th>name</th>\n",
       "      <th></th>\n",
       "      <th></th>\n",
       "      <th></th>\n",
       "      <th></th>\n",
       "      <th></th>\n",
       "      <th></th>\n",
       "      <th></th>\n",
       "      <th></th>\n",
       "      <th></th>\n",
       "      <th></th>\n",
       "    </tr>\n",
       "  </thead>\n",
       "  <tbody>\n",
       "    <tr>\n",
       "      <th>logistic regression</th>\n",
       "      <td>23</td>\n",
       "      <td>29</td>\n",
       "      <td>364</td>\n",
       "      <td>372</td>\n",
       "      <td>0.933333</td>\n",
       "      <td>0.940568</td>\n",
       "      <td>0.926209</td>\n",
       "      <td>0.934673</td>\n",
       "      <td>0.927681</td>\n",
       "      <td>0.941772</td>\n",
       "    </tr>\n",
       "    <tr>\n",
       "      <th>linear discriminant</th>\n",
       "      <td>23</td>\n",
       "      <td>56</td>\n",
       "      <td>337</td>\n",
       "      <td>372</td>\n",
       "      <td>0.895086</td>\n",
       "      <td>0.936111</td>\n",
       "      <td>0.857506</td>\n",
       "      <td>0.904010</td>\n",
       "      <td>0.869159</td>\n",
       "      <td>0.941772</td>\n",
       "    </tr>\n",
       "    <tr>\n",
       "      <th>k nearest neighbors</th>\n",
       "      <td>10</td>\n",
       "      <td>47</td>\n",
       "      <td>346</td>\n",
       "      <td>385</td>\n",
       "      <td>0.923899</td>\n",
       "      <td>0.971910</td>\n",
       "      <td>0.880407</td>\n",
       "      <td>0.931076</td>\n",
       "      <td>0.891204</td>\n",
       "      <td>0.974684</td>\n",
       "    </tr>\n",
       "    <tr>\n",
       "      <th>decision tree</th>\n",
       "      <td>32</td>\n",
       "      <td>34</td>\n",
       "      <td>359</td>\n",
       "      <td>363</td>\n",
       "      <td>0.915816</td>\n",
       "      <td>0.918159</td>\n",
       "      <td>0.913486</td>\n",
       "      <td>0.916667</td>\n",
       "      <td>0.914358</td>\n",
       "      <td>0.918987</td>\n",
       "    </tr>\n",
       "  </tbody>\n",
       "</table>\n",
       "</div>"
      ],
      "text/plain": [
       "                     false_negative  false_positive  true_negative  \\\n",
       "name                                                                 \n",
       "logistic regression  23              29              364             \n",
       "linear discriminant  23              56              337             \n",
       "k nearest neighbors  10              47              346             \n",
       "decision tree        32              34              359             \n",
       "\n",
       "                     true_positive  fraud_f1-score  fraud_precision  \\\n",
       "name                                                                  \n",
       "logistic regression  372            0.933333        0.940568          \n",
       "linear discriminant  372            0.895086        0.936111          \n",
       "k nearest neighbors  385            0.923899        0.971910          \n",
       "decision tree        363            0.915816        0.918159          \n",
       "\n",
       "                     fraud_recall  not_fraud_f1-score  not_fraud_precision  \\\n",
       "name                                                                         \n",
       "logistic regression  0.926209      0.934673            0.927681              \n",
       "linear discriminant  0.857506      0.904010            0.869159              \n",
       "k nearest neighbors  0.880407      0.931076            0.891204              \n",
       "decision tree        0.913486      0.916667            0.914358              \n",
       "\n",
       "                     not_fraud_recall  \n",
       "name                                   \n",
       "logistic regression  0.941772          \n",
       "linear discriminant  0.941772          \n",
       "k nearest neighbors  0.974684          \n",
       "decision tree        0.918987          "
      ]
     },
     "execution_count": 29,
     "metadata": {},
     "output_type": "execute_result"
    }
   ],
   "source": [
    "results.set_index('name', inplace=False)[col_order]"
   ]
  },
  {
   "cell_type": "markdown",
   "metadata": {},
   "source": [
    "## Support Vector Classification"
   ]
  },
  {
   "cell_type": "code",
   "execution_count": 30,
   "metadata": {},
   "outputs": [],
   "source": [
    "from sklearn import svm"
   ]
  },
  {
   "cell_type": "code",
   "execution_count": 31,
   "metadata": {},
   "outputs": [
    {
     "name": "stdout",
     "output_type": "stream",
     "text": [
      "Accuracy of support vectors on test set: 0.92\n",
      "CONFUSION MATRIX:\n",
      "[[392   3]\n",
      " [ 63 330]]\n",
      "\n",
      "CLASSIFICATION REPORT:\n",
      "              precision    recall  f1-score   support\n",
      "\n",
      "   not_fraud       0.86      0.99      0.92       395\n",
      "       fraud       0.99      0.84      0.91       393\n",
      "\n",
      "   micro avg       0.92      0.92      0.92       788\n",
      "   macro avg       0.93      0.92      0.92       788\n",
      "weighted avg       0.93      0.92      0.92       788\n",
      "\n"
     ]
    }
   ],
   "source": [
    "clf = svm.SVC(kernel='rbf', C=1, gamma=0.001, random_state=1)\n",
    "results = results.append(train_and_analyze(clf, 'support vectors', X_train, X_test, y_train, y_test, results))"
   ]
  },
  {
   "cell_type": "code",
   "execution_count": 32,
   "metadata": {},
   "outputs": [
    {
     "data": {
      "text/html": [
       "<div>\n",
       "<style scoped>\n",
       "    .dataframe tbody tr th:only-of-type {\n",
       "        vertical-align: middle;\n",
       "    }\n",
       "\n",
       "    .dataframe tbody tr th {\n",
       "        vertical-align: top;\n",
       "    }\n",
       "\n",
       "    .dataframe thead th {\n",
       "        text-align: right;\n",
       "    }\n",
       "</style>\n",
       "<table border=\"1\" class=\"dataframe\">\n",
       "  <thead>\n",
       "    <tr style=\"text-align: right;\">\n",
       "      <th></th>\n",
       "      <th>false_negative</th>\n",
       "      <th>false_positive</th>\n",
       "      <th>true_negative</th>\n",
       "      <th>true_positive</th>\n",
       "      <th>fraud_f1-score</th>\n",
       "      <th>fraud_precision</th>\n",
       "      <th>fraud_recall</th>\n",
       "      <th>not_fraud_f1-score</th>\n",
       "      <th>not_fraud_precision</th>\n",
       "      <th>not_fraud_recall</th>\n",
       "    </tr>\n",
       "    <tr>\n",
       "      <th>name</th>\n",
       "      <th></th>\n",
       "      <th></th>\n",
       "      <th></th>\n",
       "      <th></th>\n",
       "      <th></th>\n",
       "      <th></th>\n",
       "      <th></th>\n",
       "      <th></th>\n",
       "      <th></th>\n",
       "      <th></th>\n",
       "    </tr>\n",
       "  </thead>\n",
       "  <tbody>\n",
       "    <tr>\n",
       "      <th>logistic regression</th>\n",
       "      <td>23</td>\n",
       "      <td>29</td>\n",
       "      <td>364</td>\n",
       "      <td>372</td>\n",
       "      <td>0.933333</td>\n",
       "      <td>0.940568</td>\n",
       "      <td>0.926209</td>\n",
       "      <td>0.934673</td>\n",
       "      <td>0.927681</td>\n",
       "      <td>0.941772</td>\n",
       "    </tr>\n",
       "    <tr>\n",
       "      <th>linear discriminant</th>\n",
       "      <td>23</td>\n",
       "      <td>56</td>\n",
       "      <td>337</td>\n",
       "      <td>372</td>\n",
       "      <td>0.895086</td>\n",
       "      <td>0.936111</td>\n",
       "      <td>0.857506</td>\n",
       "      <td>0.904010</td>\n",
       "      <td>0.869159</td>\n",
       "      <td>0.941772</td>\n",
       "    </tr>\n",
       "    <tr>\n",
       "      <th>k nearest neighbors</th>\n",
       "      <td>10</td>\n",
       "      <td>47</td>\n",
       "      <td>346</td>\n",
       "      <td>385</td>\n",
       "      <td>0.923899</td>\n",
       "      <td>0.971910</td>\n",
       "      <td>0.880407</td>\n",
       "      <td>0.931076</td>\n",
       "      <td>0.891204</td>\n",
       "      <td>0.974684</td>\n",
       "    </tr>\n",
       "    <tr>\n",
       "      <th>decision tree</th>\n",
       "      <td>32</td>\n",
       "      <td>34</td>\n",
       "      <td>359</td>\n",
       "      <td>363</td>\n",
       "      <td>0.915816</td>\n",
       "      <td>0.918159</td>\n",
       "      <td>0.913486</td>\n",
       "      <td>0.916667</td>\n",
       "      <td>0.914358</td>\n",
       "      <td>0.918987</td>\n",
       "    </tr>\n",
       "    <tr>\n",
       "      <th>support vectors</th>\n",
       "      <td>3</td>\n",
       "      <td>63</td>\n",
       "      <td>330</td>\n",
       "      <td>392</td>\n",
       "      <td>0.909091</td>\n",
       "      <td>0.990991</td>\n",
       "      <td>0.839695</td>\n",
       "      <td>0.922353</td>\n",
       "      <td>0.861538</td>\n",
       "      <td>0.992405</td>\n",
       "    </tr>\n",
       "  </tbody>\n",
       "</table>\n",
       "</div>"
      ],
      "text/plain": [
       "                     false_negative  false_positive  true_negative  \\\n",
       "name                                                                 \n",
       "logistic regression  23              29              364             \n",
       "linear discriminant  23              56              337             \n",
       "k nearest neighbors  10              47              346             \n",
       "decision tree        32              34              359             \n",
       "support vectors      3               63              330             \n",
       "\n",
       "                     true_positive  fraud_f1-score  fraud_precision  \\\n",
       "name                                                                  \n",
       "logistic regression  372            0.933333        0.940568          \n",
       "linear discriminant  372            0.895086        0.936111          \n",
       "k nearest neighbors  385            0.923899        0.971910          \n",
       "decision tree        363            0.915816        0.918159          \n",
       "support vectors      392            0.909091        0.990991          \n",
       "\n",
       "                     fraud_recall  not_fraud_f1-score  not_fraud_precision  \\\n",
       "name                                                                         \n",
       "logistic regression  0.926209      0.934673            0.927681              \n",
       "linear discriminant  0.857506      0.904010            0.869159              \n",
       "k nearest neighbors  0.880407      0.931076            0.891204              \n",
       "decision tree        0.913486      0.916667            0.914358              \n",
       "support vectors      0.839695      0.922353            0.861538              \n",
       "\n",
       "                     not_fraud_recall  \n",
       "name                                   \n",
       "logistic regression  0.941772          \n",
       "linear discriminant  0.941772          \n",
       "k nearest neighbors  0.974684          \n",
       "decision tree        0.918987          \n",
       "support vectors      0.992405          "
      ]
     },
     "execution_count": 32,
     "metadata": {},
     "output_type": "execute_result"
    }
   ],
   "source": [
    "results.set_index('name', inplace=False)[col_order]"
   ]
  },
  {
   "cell_type": "markdown",
   "metadata": {},
   "source": [
    "## Random Forest Classifier"
   ]
  },
  {
   "cell_type": "code",
   "execution_count": 33,
   "metadata": {},
   "outputs": [],
   "source": [
    "from sklearn.ensemble import RandomForestClassifier"
   ]
  },
  {
   "cell_type": "code",
   "execution_count": 34,
   "metadata": {},
   "outputs": [
    {
     "name": "stdout",
     "output_type": "stream",
     "text": [
      "Accuracy of random forest on test set: 0.93\n",
      "CONFUSION MATRIX:\n",
      "[[387   8]\n",
      " [ 49 344]]\n",
      "\n",
      "CLASSIFICATION REPORT:\n",
      "              precision    recall  f1-score   support\n",
      "\n",
      "   not_fraud       0.89      0.98      0.93       395\n",
      "       fraud       0.98      0.88      0.92       393\n",
      "\n",
      "   micro avg       0.93      0.93      0.93       788\n",
      "   macro avg       0.93      0.93      0.93       788\n",
      "weighted avg       0.93      0.93      0.93       788\n",
      "\n"
     ]
    },
    {
     "name": "stderr",
     "output_type": "stream",
     "text": [
      "/Users/naveed/scratch/fraud_detection_project/venv/lib/python2.7/site-packages/sklearn/ensemble/forest.py:246: FutureWarning: The default value of n_estimators will change from 10 in version 0.20 to 100 in 0.22.\n",
      "  \"10 in version 0.20 to 100 in 0.22.\", FutureWarning)\n"
     ]
    }
   ],
   "source": [
    "rdm = RandomForestClassifier()\n",
    "results = results.append(train_and_analyze(rdm, 'random forest', X_train, X_test, y_train, y_test, results))"
   ]
  },
  {
   "cell_type": "code",
   "execution_count": 35,
   "metadata": {},
   "outputs": [
    {
     "data": {
      "text/html": [
       "<div>\n",
       "<style scoped>\n",
       "    .dataframe tbody tr th:only-of-type {\n",
       "        vertical-align: middle;\n",
       "    }\n",
       "\n",
       "    .dataframe tbody tr th {\n",
       "        vertical-align: top;\n",
       "    }\n",
       "\n",
       "    .dataframe thead th {\n",
       "        text-align: right;\n",
       "    }\n",
       "</style>\n",
       "<table border=\"1\" class=\"dataframe\">\n",
       "  <thead>\n",
       "    <tr style=\"text-align: right;\">\n",
       "      <th></th>\n",
       "      <th>false_negative</th>\n",
       "      <th>false_positive</th>\n",
       "      <th>true_negative</th>\n",
       "      <th>true_positive</th>\n",
       "      <th>fraud_f1-score</th>\n",
       "      <th>fraud_precision</th>\n",
       "      <th>fraud_recall</th>\n",
       "      <th>not_fraud_f1-score</th>\n",
       "      <th>not_fraud_precision</th>\n",
       "      <th>not_fraud_recall</th>\n",
       "    </tr>\n",
       "    <tr>\n",
       "      <th>name</th>\n",
       "      <th></th>\n",
       "      <th></th>\n",
       "      <th></th>\n",
       "      <th></th>\n",
       "      <th></th>\n",
       "      <th></th>\n",
       "      <th></th>\n",
       "      <th></th>\n",
       "      <th></th>\n",
       "      <th></th>\n",
       "    </tr>\n",
       "  </thead>\n",
       "  <tbody>\n",
       "    <tr>\n",
       "      <th>logistic regression</th>\n",
       "      <td>23</td>\n",
       "      <td>29</td>\n",
       "      <td>364</td>\n",
       "      <td>372</td>\n",
       "      <td>0.933333</td>\n",
       "      <td>0.940568</td>\n",
       "      <td>0.926209</td>\n",
       "      <td>0.934673</td>\n",
       "      <td>0.927681</td>\n",
       "      <td>0.941772</td>\n",
       "    </tr>\n",
       "    <tr>\n",
       "      <th>linear discriminant</th>\n",
       "      <td>23</td>\n",
       "      <td>56</td>\n",
       "      <td>337</td>\n",
       "      <td>372</td>\n",
       "      <td>0.895086</td>\n",
       "      <td>0.936111</td>\n",
       "      <td>0.857506</td>\n",
       "      <td>0.904010</td>\n",
       "      <td>0.869159</td>\n",
       "      <td>0.941772</td>\n",
       "    </tr>\n",
       "    <tr>\n",
       "      <th>k nearest neighbors</th>\n",
       "      <td>10</td>\n",
       "      <td>47</td>\n",
       "      <td>346</td>\n",
       "      <td>385</td>\n",
       "      <td>0.923899</td>\n",
       "      <td>0.971910</td>\n",
       "      <td>0.880407</td>\n",
       "      <td>0.931076</td>\n",
       "      <td>0.891204</td>\n",
       "      <td>0.974684</td>\n",
       "    </tr>\n",
       "    <tr>\n",
       "      <th>decision tree</th>\n",
       "      <td>32</td>\n",
       "      <td>34</td>\n",
       "      <td>359</td>\n",
       "      <td>363</td>\n",
       "      <td>0.915816</td>\n",
       "      <td>0.918159</td>\n",
       "      <td>0.913486</td>\n",
       "      <td>0.916667</td>\n",
       "      <td>0.914358</td>\n",
       "      <td>0.918987</td>\n",
       "    </tr>\n",
       "    <tr>\n",
       "      <th>support vectors</th>\n",
       "      <td>3</td>\n",
       "      <td>63</td>\n",
       "      <td>330</td>\n",
       "      <td>392</td>\n",
       "      <td>0.909091</td>\n",
       "      <td>0.990991</td>\n",
       "      <td>0.839695</td>\n",
       "      <td>0.922353</td>\n",
       "      <td>0.861538</td>\n",
       "      <td>0.992405</td>\n",
       "    </tr>\n",
       "    <tr>\n",
       "      <th>random forest</th>\n",
       "      <td>8</td>\n",
       "      <td>49</td>\n",
       "      <td>344</td>\n",
       "      <td>387</td>\n",
       "      <td>0.923490</td>\n",
       "      <td>0.977273</td>\n",
       "      <td>0.875318</td>\n",
       "      <td>0.931408</td>\n",
       "      <td>0.887615</td>\n",
       "      <td>0.979747</td>\n",
       "    </tr>\n",
       "  </tbody>\n",
       "</table>\n",
       "</div>"
      ],
      "text/plain": [
       "                     false_negative  false_positive  true_negative  \\\n",
       "name                                                                 \n",
       "logistic regression  23              29              364             \n",
       "linear discriminant  23              56              337             \n",
       "k nearest neighbors  10              47              346             \n",
       "decision tree        32              34              359             \n",
       "support vectors      3               63              330             \n",
       "random forest        8               49              344             \n",
       "\n",
       "                     true_positive  fraud_f1-score  fraud_precision  \\\n",
       "name                                                                  \n",
       "logistic regression  372            0.933333        0.940568          \n",
       "linear discriminant  372            0.895086        0.936111          \n",
       "k nearest neighbors  385            0.923899        0.971910          \n",
       "decision tree        363            0.915816        0.918159          \n",
       "support vectors      392            0.909091        0.990991          \n",
       "random forest        387            0.923490        0.977273          \n",
       "\n",
       "                     fraud_recall  not_fraud_f1-score  not_fraud_precision  \\\n",
       "name                                                                         \n",
       "logistic regression  0.926209      0.934673            0.927681              \n",
       "linear discriminant  0.857506      0.904010            0.869159              \n",
       "k nearest neighbors  0.880407      0.931076            0.891204              \n",
       "decision tree        0.913486      0.916667            0.914358              \n",
       "support vectors      0.839695      0.922353            0.861538              \n",
       "random forest        0.875318      0.931408            0.887615              \n",
       "\n",
       "                     not_fraud_recall  \n",
       "name                                   \n",
       "logistic regression  0.941772          \n",
       "linear discriminant  0.941772          \n",
       "k nearest neighbors  0.974684          \n",
       "decision tree        0.918987          \n",
       "support vectors      0.992405          \n",
       "random forest        0.979747          "
      ]
     },
     "execution_count": 35,
     "metadata": {},
     "output_type": "execute_result"
    }
   ],
   "source": [
    "results.set_index('name', inplace=False)[col_order]"
   ]
  },
  {
   "cell_type": "markdown",
   "metadata": {},
   "source": [
    "## XGBoost Classifier"
   ]
  },
  {
   "cell_type": "code",
   "execution_count": 36,
   "metadata": {},
   "outputs": [],
   "source": [
    "from xgboost import XGBClassifier"
   ]
  },
  {
   "cell_type": "code",
   "execution_count": 37,
   "metadata": {},
   "outputs": [
    {
     "name": "stdout",
     "output_type": "stream",
     "text": [
      "Accuracy of XGBoost on test set: 0.92\n",
      "CONFUSION MATRIX:\n",
      "[[371  24]\n",
      " [ 36 357]]\n",
      "\n",
      "CLASSIFICATION REPORT:\n",
      "              precision    recall  f1-score   support\n",
      "\n",
      "   not_fraud       0.91      0.94      0.93       395\n",
      "       fraud       0.94      0.91      0.92       393\n",
      "\n",
      "   micro avg       0.92      0.92      0.92       788\n",
      "   macro avg       0.92      0.92      0.92       788\n",
      "weighted avg       0.92      0.92      0.92       788\n",
      "\n"
     ]
    }
   ],
   "source": [
    "xgb = XGBClassifier()\n",
    "results = results.append(train_and_analyze(xgb, 'XGBoost', X_train, X_test, y_train, y_test, results))"
   ]
  },
  {
   "cell_type": "code",
   "execution_count": 38,
   "metadata": {},
   "outputs": [
    {
     "data": {
      "text/html": [
       "<div>\n",
       "<style scoped>\n",
       "    .dataframe tbody tr th:only-of-type {\n",
       "        vertical-align: middle;\n",
       "    }\n",
       "\n",
       "    .dataframe tbody tr th {\n",
       "        vertical-align: top;\n",
       "    }\n",
       "\n",
       "    .dataframe thead th {\n",
       "        text-align: right;\n",
       "    }\n",
       "</style>\n",
       "<table border=\"1\" class=\"dataframe\">\n",
       "  <thead>\n",
       "    <tr style=\"text-align: right;\">\n",
       "      <th></th>\n",
       "      <th>false_negative</th>\n",
       "      <th>false_positive</th>\n",
       "      <th>true_negative</th>\n",
       "      <th>true_positive</th>\n",
       "      <th>fraud_f1-score</th>\n",
       "      <th>fraud_precision</th>\n",
       "      <th>fraud_recall</th>\n",
       "      <th>not_fraud_f1-score</th>\n",
       "      <th>not_fraud_precision</th>\n",
       "      <th>not_fraud_recall</th>\n",
       "    </tr>\n",
       "    <tr>\n",
       "      <th>name</th>\n",
       "      <th></th>\n",
       "      <th></th>\n",
       "      <th></th>\n",
       "      <th></th>\n",
       "      <th></th>\n",
       "      <th></th>\n",
       "      <th></th>\n",
       "      <th></th>\n",
       "      <th></th>\n",
       "      <th></th>\n",
       "    </tr>\n",
       "  </thead>\n",
       "  <tbody>\n",
       "    <tr>\n",
       "      <th>logistic regression</th>\n",
       "      <td>23</td>\n",
       "      <td>29</td>\n",
       "      <td>364</td>\n",
       "      <td>372</td>\n",
       "      <td>0.933333</td>\n",
       "      <td>0.940568</td>\n",
       "      <td>0.926209</td>\n",
       "      <td>0.934673</td>\n",
       "      <td>0.927681</td>\n",
       "      <td>0.941772</td>\n",
       "    </tr>\n",
       "    <tr>\n",
       "      <th>linear discriminant</th>\n",
       "      <td>23</td>\n",
       "      <td>56</td>\n",
       "      <td>337</td>\n",
       "      <td>372</td>\n",
       "      <td>0.895086</td>\n",
       "      <td>0.936111</td>\n",
       "      <td>0.857506</td>\n",
       "      <td>0.904010</td>\n",
       "      <td>0.869159</td>\n",
       "      <td>0.941772</td>\n",
       "    </tr>\n",
       "    <tr>\n",
       "      <th>k nearest neighbors</th>\n",
       "      <td>10</td>\n",
       "      <td>47</td>\n",
       "      <td>346</td>\n",
       "      <td>385</td>\n",
       "      <td>0.923899</td>\n",
       "      <td>0.971910</td>\n",
       "      <td>0.880407</td>\n",
       "      <td>0.931076</td>\n",
       "      <td>0.891204</td>\n",
       "      <td>0.974684</td>\n",
       "    </tr>\n",
       "    <tr>\n",
       "      <th>decision tree</th>\n",
       "      <td>32</td>\n",
       "      <td>34</td>\n",
       "      <td>359</td>\n",
       "      <td>363</td>\n",
       "      <td>0.915816</td>\n",
       "      <td>0.918159</td>\n",
       "      <td>0.913486</td>\n",
       "      <td>0.916667</td>\n",
       "      <td>0.914358</td>\n",
       "      <td>0.918987</td>\n",
       "    </tr>\n",
       "    <tr>\n",
       "      <th>support vectors</th>\n",
       "      <td>3</td>\n",
       "      <td>63</td>\n",
       "      <td>330</td>\n",
       "      <td>392</td>\n",
       "      <td>0.909091</td>\n",
       "      <td>0.990991</td>\n",
       "      <td>0.839695</td>\n",
       "      <td>0.922353</td>\n",
       "      <td>0.861538</td>\n",
       "      <td>0.992405</td>\n",
       "    </tr>\n",
       "    <tr>\n",
       "      <th>random forest</th>\n",
       "      <td>8</td>\n",
       "      <td>49</td>\n",
       "      <td>344</td>\n",
       "      <td>387</td>\n",
       "      <td>0.923490</td>\n",
       "      <td>0.977273</td>\n",
       "      <td>0.875318</td>\n",
       "      <td>0.931408</td>\n",
       "      <td>0.887615</td>\n",
       "      <td>0.979747</td>\n",
       "    </tr>\n",
       "    <tr>\n",
       "      <th>XGBoost</th>\n",
       "      <td>24</td>\n",
       "      <td>36</td>\n",
       "      <td>357</td>\n",
       "      <td>371</td>\n",
       "      <td>0.922481</td>\n",
       "      <td>0.937008</td>\n",
       "      <td>0.908397</td>\n",
       "      <td>0.925187</td>\n",
       "      <td>0.911548</td>\n",
       "      <td>0.939241</td>\n",
       "    </tr>\n",
       "  </tbody>\n",
       "</table>\n",
       "</div>"
      ],
      "text/plain": [
       "                     false_negative  false_positive  true_negative  \\\n",
       "name                                                                 \n",
       "logistic regression  23              29              364             \n",
       "linear discriminant  23              56              337             \n",
       "k nearest neighbors  10              47              346             \n",
       "decision tree        32              34              359             \n",
       "support vectors      3               63              330             \n",
       "random forest        8               49              344             \n",
       "XGBoost              24              36              357             \n",
       "\n",
       "                     true_positive  fraud_f1-score  fraud_precision  \\\n",
       "name                                                                  \n",
       "logistic regression  372            0.933333        0.940568          \n",
       "linear discriminant  372            0.895086        0.936111          \n",
       "k nearest neighbors  385            0.923899        0.971910          \n",
       "decision tree        363            0.915816        0.918159          \n",
       "support vectors      392            0.909091        0.990991          \n",
       "random forest        387            0.923490        0.977273          \n",
       "XGBoost              371            0.922481        0.937008          \n",
       "\n",
       "                     fraud_recall  not_fraud_f1-score  not_fraud_precision  \\\n",
       "name                                                                         \n",
       "logistic regression  0.926209      0.934673            0.927681              \n",
       "linear discriminant  0.857506      0.904010            0.869159              \n",
       "k nearest neighbors  0.880407      0.931076            0.891204              \n",
       "decision tree        0.913486      0.916667            0.914358              \n",
       "support vectors      0.839695      0.922353            0.861538              \n",
       "random forest        0.875318      0.931408            0.887615              \n",
       "XGBoost              0.908397      0.925187            0.911548              \n",
       "\n",
       "                     not_fraud_recall  \n",
       "name                                   \n",
       "logistic regression  0.941772          \n",
       "linear discriminant  0.941772          \n",
       "k nearest neighbors  0.974684          \n",
       "decision tree        0.918987          \n",
       "support vectors      0.992405          \n",
       "random forest        0.979747          \n",
       "XGBoost              0.939241          "
      ]
     },
     "execution_count": 38,
     "metadata": {},
     "output_type": "execute_result"
    }
   ],
   "source": [
    "results.set_index('name', inplace=False)[col_order]"
   ]
  },
  {
   "cell_type": "code",
   "execution_count": 39,
   "metadata": {},
   "outputs": [
    {
     "data": {
      "text/html": [
       "<div>\n",
       "<style scoped>\n",
       "    .dataframe tbody tr th:only-of-type {\n",
       "        vertical-align: middle;\n",
       "    }\n",
       "\n",
       "    .dataframe tbody tr th {\n",
       "        vertical-align: top;\n",
       "    }\n",
       "\n",
       "    .dataframe thead th {\n",
       "        text-align: right;\n",
       "    }\n",
       "</style>\n",
       "<table border=\"1\" class=\"dataframe\">\n",
       "  <thead>\n",
       "    <tr style=\"text-align: right;\">\n",
       "      <th></th>\n",
       "      <th>false_negative</th>\n",
       "      <th>false_positive</th>\n",
       "      <th>true_negative</th>\n",
       "      <th>true_positive</th>\n",
       "      <th>fraud_f1-score</th>\n",
       "      <th>fraud_precision</th>\n",
       "      <th>fraud_recall</th>\n",
       "      <th>not_fraud_f1-score</th>\n",
       "      <th>not_fraud_precision</th>\n",
       "      <th>not_fraud_recall</th>\n",
       "    </tr>\n",
       "    <tr>\n",
       "      <th>name</th>\n",
       "      <th></th>\n",
       "      <th></th>\n",
       "      <th></th>\n",
       "      <th></th>\n",
       "      <th></th>\n",
       "      <th></th>\n",
       "      <th></th>\n",
       "      <th></th>\n",
       "      <th></th>\n",
       "      <th></th>\n",
       "    </tr>\n",
       "  </thead>\n",
       "  <tbody>\n",
       "    <tr>\n",
       "      <th>logistic regression</th>\n",
       "      <td>23</td>\n",
       "      <td>29</td>\n",
       "      <td>364</td>\n",
       "      <td>372</td>\n",
       "      <td>0.933333</td>\n",
       "      <td>0.940568</td>\n",
       "      <td>0.926209</td>\n",
       "      <td>0.934673</td>\n",
       "      <td>0.927681</td>\n",
       "      <td>0.941772</td>\n",
       "    </tr>\n",
       "    <tr>\n",
       "      <th>linear discriminant</th>\n",
       "      <td>23</td>\n",
       "      <td>56</td>\n",
       "      <td>337</td>\n",
       "      <td>372</td>\n",
       "      <td>0.895086</td>\n",
       "      <td>0.936111</td>\n",
       "      <td>0.857506</td>\n",
       "      <td>0.904010</td>\n",
       "      <td>0.869159</td>\n",
       "      <td>0.941772</td>\n",
       "    </tr>\n",
       "    <tr>\n",
       "      <th>k nearest neighbors</th>\n",
       "      <td>10</td>\n",
       "      <td>47</td>\n",
       "      <td>346</td>\n",
       "      <td>385</td>\n",
       "      <td>0.923899</td>\n",
       "      <td>0.971910</td>\n",
       "      <td>0.880407</td>\n",
       "      <td>0.931076</td>\n",
       "      <td>0.891204</td>\n",
       "      <td>0.974684</td>\n",
       "    </tr>\n",
       "    <tr>\n",
       "      <th>decision tree</th>\n",
       "      <td>32</td>\n",
       "      <td>34</td>\n",
       "      <td>359</td>\n",
       "      <td>363</td>\n",
       "      <td>0.915816</td>\n",
       "      <td>0.918159</td>\n",
       "      <td>0.913486</td>\n",
       "      <td>0.916667</td>\n",
       "      <td>0.914358</td>\n",
       "      <td>0.918987</td>\n",
       "    </tr>\n",
       "    <tr>\n",
       "      <th>support vectors</th>\n",
       "      <td>3</td>\n",
       "      <td>63</td>\n",
       "      <td>330</td>\n",
       "      <td>392</td>\n",
       "      <td>0.909091</td>\n",
       "      <td>0.990991</td>\n",
       "      <td>0.839695</td>\n",
       "      <td>0.922353</td>\n",
       "      <td>0.861538</td>\n",
       "      <td>0.992405</td>\n",
       "    </tr>\n",
       "    <tr>\n",
       "      <th>random forest</th>\n",
       "      <td>8</td>\n",
       "      <td>49</td>\n",
       "      <td>344</td>\n",
       "      <td>387</td>\n",
       "      <td>0.923490</td>\n",
       "      <td>0.977273</td>\n",
       "      <td>0.875318</td>\n",
       "      <td>0.931408</td>\n",
       "      <td>0.887615</td>\n",
       "      <td>0.979747</td>\n",
       "    </tr>\n",
       "    <tr>\n",
       "      <th>XGBoost</th>\n",
       "      <td>24</td>\n",
       "      <td>36</td>\n",
       "      <td>357</td>\n",
       "      <td>371</td>\n",
       "      <td>0.922481</td>\n",
       "      <td>0.937008</td>\n",
       "      <td>0.908397</td>\n",
       "      <td>0.925187</td>\n",
       "      <td>0.911548</td>\n",
       "      <td>0.939241</td>\n",
       "    </tr>\n",
       "  </tbody>\n",
       "</table>\n",
       "</div>"
      ],
      "text/plain": [
       "                     false_negative  false_positive  true_negative  \\\n",
       "name                                                                 \n",
       "logistic regression  23              29              364             \n",
       "linear discriminant  23              56              337             \n",
       "k nearest neighbors  10              47              346             \n",
       "decision tree        32              34              359             \n",
       "support vectors      3               63              330             \n",
       "random forest        8               49              344             \n",
       "XGBoost              24              36              357             \n",
       "\n",
       "                     true_positive  fraud_f1-score  fraud_precision  \\\n",
       "name                                                                  \n",
       "logistic regression  372            0.933333        0.940568          \n",
       "linear discriminant  372            0.895086        0.936111          \n",
       "k nearest neighbors  385            0.923899        0.971910          \n",
       "decision tree        363            0.915816        0.918159          \n",
       "support vectors      392            0.909091        0.990991          \n",
       "random forest        387            0.923490        0.977273          \n",
       "XGBoost              371            0.922481        0.937008          \n",
       "\n",
       "                     fraud_recall  not_fraud_f1-score  not_fraud_precision  \\\n",
       "name                                                                         \n",
       "logistic regression  0.926209      0.934673            0.927681              \n",
       "linear discriminant  0.857506      0.904010            0.869159              \n",
       "k nearest neighbors  0.880407      0.931076            0.891204              \n",
       "decision tree        0.913486      0.916667            0.914358              \n",
       "support vectors      0.839695      0.922353            0.861538              \n",
       "random forest        0.875318      0.931408            0.887615              \n",
       "XGBoost              0.908397      0.925187            0.911548              \n",
       "\n",
       "                     not_fraud_recall  \n",
       "name                                   \n",
       "logistic regression  0.941772          \n",
       "linear discriminant  0.941772          \n",
       "k nearest neighbors  0.974684          \n",
       "decision tree        0.918987          \n",
       "support vectors      0.992405          \n",
       "random forest        0.979747          \n",
       "XGBoost              0.939241          "
      ]
     },
     "execution_count": 39,
     "metadata": {},
     "output_type": "execute_result"
    }
   ],
   "source": [
    "results.set_index('name', inplace=False)[col_order]"
   ]
  },
  {
   "cell_type": "code",
   "execution_count": 41,
   "metadata": {},
   "outputs": [],
   "source": [
    "blah = results.copy()\n",
    "blah.set_index('name', inplace=True)\n",
    "blah['false_negative_normalized'] = normalize(blah['false_negative'])"
   ]
  },
  {
   "cell_type": "code",
   "execution_count": 42,
   "metadata": {},
   "outputs": [
    {
     "data": {
      "image/png": "[encoded data removed]",
      "text/plain": [
       "<matplotlib.figure.Figure at 0x1216a1b50>"
      ]
     },
     "metadata": {},
     "output_type": "display_data"
    }
   ],
   "source": [
    "model_viz = blah[['false_negative_normalized', 'fraud_precision', 'fraud_f1-score']].plot(kind='bar', title='comparison of each ML model', figsize=(10,10))"
   ]
  },
  {
   "cell_type": "markdown",
   "metadata": {},
   "source": [
    "# Helpful Articles\n",
    "\n",
    "- Kaggle Dataset: https://www.kaggle.com/mlg-ulb/creditcardfraud/downloads/creditcardfraud.zip/3\n",
    "- Useful for understanding SMOTE and why we need to oversample on imbalanced datasets: https://towardsdatascience.com/detecting-financial-fraud-using-machine-learning-three-ways-of-winning-the-war-against-imbalanced-a03f8815cce9 \n",
    "- walkthrough of same dataset and analysis of different models: https://towardsdatascience.com/detecting-credit-card-fraud-using-machine-learning-a3d83423d3b8\n",
    "- standardization vs normalization: https://wikidiff.com/standardization/normalization\n",
    "- AUCROC vs AUPRC: https://stats.stackexchange.com/questions/338826/auprc-vs-auc-roc\n",
    "- how to build logistic regression: https://towardsdatascience.com/building-a-logistic-regression-in-python-step-by-step-becd4d56c9c8\n",
    "- using pandas to create training sets for models: https://www.ritchieng.com/pandas-scikit-learn/\n",
    "- SVM in pandas: http://benalexkeen.com/support-vector-classifiers-in-python-using-scikit-learn/\n",
    "- Getting XGBoost to work: https://machinelearningmastery.com/develop-first-xgboost-model-python-scikit-learn/\n",
    "- understanding ML evaluation metrics https://medium.com/x8-the-ai-community/understanding-ml-evaluation-metrics-precision-recall-2b3fb915b666"
   ]
  },
  {
   "cell_type": "code",
   "execution_count": null,
   "metadata": {},
   "outputs": [],
   "source": []
  }
 ],
 "metadata": {
  "kernelspec": {
   "display_name": "Python 2",
   "language": "python",
   "name": "python2"
  },
  "language_info": {
   "codemirror_mode": {
    "name": "ipython",
    "version": 2
   },
   "file_extension": ".py",
   "mimetype": "text/x-python",
   "name": "python",
   "nbconvert_exporter": "python",
   "pygments_lexer": "ipython2",
   "version": "2.7.15"
  }
 },
 "nbformat": 4,
 "nbformat_minor": 2
}
