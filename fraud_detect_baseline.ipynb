{
 "cells": [
  {
   "cell_type": "code",
   "execution_count": 1,
   "metadata": {},
   "outputs": [],
   "source": [
    "%matplotlib inline"
   ]
  },
  {
   "cell_type": "code",
   "execution_count": 2,
   "metadata": {},
   "outputs": [],
   "source": [
    "# HACK: needed to manually import sys.path from ipython repl, for some reason it doesn't work on my host otherwise\n",
    "import sys\n",
    "sys.path = ['', '/Users/naveed/scratch/fraud_detection_project/venv/bin', '/Users/naveed/scratch/fraud_detection_project/venv/lib/python27.zip', '/Users/naveed/scratch/fraud_detection_project/venv/lib/python2.7', '/Users/naveed/scratch/fraud_detection_project/venv/lib/python2.7/plat-darwin', '/Users/naveed/scratch/fraud_detection_project/venv/lib/python2.7/plat-mac', '/Users/naveed/scratch/fraud_detection_project/venv/lib/python2.7/plat-mac/lib-scriptpackages', '/Users/naveed/scratch/fraud_detection_project/venv/lib/python2.7/lib-tk', '/Users/naveed/scratch/fraud_detection_project/venv/lib/python2.7/lib-old', '/Users/naveed/scratch/fraud_detection_project/venv/lib/python2.7/lib-dynload', '/Users/naveed/anaconda2/lib/python2.7', '/Users/naveed/anaconda2/lib/python2.7/plat-darwin', '/Users/naveed/anaconda2/lib/python2.7/lib-tk', '/Users/naveed/anaconda2/lib/python2.7/plat-mac', '/Users/naveed/anaconda2/lib/python2.7/plat-mac/lib-scriptpackages', '/Users/naveed/scratch/fraud_detection_project/venv/lib/python2.7/site-packages', '/Users/naveed/scratch/fraud_detection_project/venv/lib/python2.7/site-packages/IPython/extensions', '/Users/naveed/.ipython']"
   ]
  },
  {
   "cell_type": "code",
   "execution_count": 98,
   "metadata": {},
   "outputs": [
    {
     "name": "stdout",
     "output_type": "stream",
     "text": [
      "The autoreload extension is already loaded. To reload it, use:\n",
      "  %reload_ext autoreload\n"
     ]
    },
    {
     "data": {
      "text/plain": [
       "<matplotlib.figure.Figure at 0x119a04fd0>"
      ]
     },
     "metadata": {},
     "output_type": "display_data"
    }
   ],
   "source": [
    "%load_ext autoreload\n",
    "%autoreload 2\n",
    "\n",
    "import pandas as pd\n",
    "import numpy as np\n",
    "import matplotlib.pyplot as plt\n",
    "\n",
    "plt.figure(figsize=(8,6))\n",
    "\n",
    "from sklearn.preprocessing import normalize\n",
    "from sklearn.model_selection import train_test_split\n",
    "\n",
    "from sklearn import metrics\n",
    "from sklearn.metrics import confusion_matrix\n",
    "from sklearn.metrics import classification_report\n",
    "\n",
    "pd.set_option('max_colwidth', -1)"
   ]
  },
  {
   "cell_type": "code",
   "execution_count": 4,
   "metadata": {},
   "outputs": [],
   "source": [
    "import xgboost"
   ]
  },
  {
   "cell_type": "code",
   "execution_count": 5,
   "metadata": {},
   "outputs": [],
   "source": [
    "pdf = pd.read_csv('./creditcard.csv')"
   ]
  },
  {
   "cell_type": "markdown",
   "metadata": {},
   "source": [
    "# Notes:\n",
    " - Reduced FeatureSet: 28 Features determined from prior PCA analysis. Original features were scrubbed for user anonymity\n",
    " - Time & Amount are the only two original features\n",
    " - Total Samples in DataSet: 284,807. Number of Fraudalent transactions: 492 (0.172%) of all transactions. Represented by \"Class\" Feature\n",
    " \n",
    "# Goal:\n",
    " - with the highly imbalanced data set, normalize the data by normalizing  underfitting the data\n",
    " - compare different models and estimate which ones perform better\n",
    " - go back and use some oversampling method to see how the models change with the availability of more data\n",
    " - "
   ]
  },
  {
   "cell_type": "code",
   "execution_count": 6,
   "metadata": {},
   "outputs": [],
   "source": [
    "numerical_features_only = sorted(list(set(pdf.columns.tolist()) - set(['Time', 'Amount', 'Class'])), key=lambda x: int(x[1:]))"
   ]
  },
  {
   "cell_type": "markdown",
   "metadata": {},
   "source": [
    "## Fraud Class EDA"
   ]
  },
  {
   "cell_type": "code",
   "execution_count": 7,
   "metadata": {},
   "outputs": [],
   "source": [
    "fraud_df = pdf.loc[pdf.Class == 1]"
   ]
  },
  {
   "cell_type": "code",
   "execution_count": 8,
   "metadata": {},
   "outputs": [
    {
     "data": {
      "text/html": [
       "<div>\n",
       "<style scoped>\n",
       "    .dataframe tbody tr th:only-of-type {\n",
       "        vertical-align: middle;\n",
       "    }\n",
       "\n",
       "    .dataframe tbody tr th {\n",
       "        vertical-align: top;\n",
       "    }\n",
       "\n",
       "    .dataframe thead th {\n",
       "        text-align: right;\n",
       "    }\n",
       "</style>\n",
       "<table border=\"1\" class=\"dataframe\">\n",
       "  <thead>\n",
       "    <tr style=\"text-align: right;\">\n",
       "      <th></th>\n",
       "      <th>Time</th>\n",
       "      <th>V1</th>\n",
       "      <th>V2</th>\n",
       "      <th>V3</th>\n",
       "      <th>V4</th>\n",
       "      <th>V5</th>\n",
       "      <th>V6</th>\n",
       "      <th>V7</th>\n",
       "      <th>V8</th>\n",
       "      <th>V9</th>\n",
       "      <th>...</th>\n",
       "      <th>V21</th>\n",
       "      <th>V22</th>\n",
       "      <th>V23</th>\n",
       "      <th>V24</th>\n",
       "      <th>V25</th>\n",
       "      <th>V26</th>\n",
       "      <th>V27</th>\n",
       "      <th>V28</th>\n",
       "      <th>Amount</th>\n",
       "      <th>Class</th>\n",
       "    </tr>\n",
       "  </thead>\n",
       "  <tbody>\n",
       "    <tr>\n",
       "      <th>541</th>\n",
       "      <td>406.0</td>\n",
       "      <td>-2.312227</td>\n",
       "      <td>1.951992</td>\n",
       "      <td>-1.609851</td>\n",
       "      <td>3.997906</td>\n",
       "      <td>-0.522188</td>\n",
       "      <td>-1.426545</td>\n",
       "      <td>-2.537387</td>\n",
       "      <td>1.391657</td>\n",
       "      <td>-2.770089</td>\n",
       "      <td>...</td>\n",
       "      <td>0.517232</td>\n",
       "      <td>-0.035049</td>\n",
       "      <td>-0.465211</td>\n",
       "      <td>0.320198</td>\n",
       "      <td>0.044519</td>\n",
       "      <td>0.177840</td>\n",
       "      <td>0.261145</td>\n",
       "      <td>-0.143276</td>\n",
       "      <td>0.00</td>\n",
       "      <td>1</td>\n",
       "    </tr>\n",
       "    <tr>\n",
       "      <th>623</th>\n",
       "      <td>472.0</td>\n",
       "      <td>-3.043541</td>\n",
       "      <td>-3.157307</td>\n",
       "      <td>1.088463</td>\n",
       "      <td>2.288644</td>\n",
       "      <td>1.359805</td>\n",
       "      <td>-1.064823</td>\n",
       "      <td>0.325574</td>\n",
       "      <td>-0.067794</td>\n",
       "      <td>-0.270953</td>\n",
       "      <td>...</td>\n",
       "      <td>0.661696</td>\n",
       "      <td>0.435477</td>\n",
       "      <td>1.375966</td>\n",
       "      <td>-0.293803</td>\n",
       "      <td>0.279798</td>\n",
       "      <td>-0.145362</td>\n",
       "      <td>-0.252773</td>\n",
       "      <td>0.035764</td>\n",
       "      <td>529.00</td>\n",
       "      <td>1</td>\n",
       "    </tr>\n",
       "    <tr>\n",
       "      <th>4920</th>\n",
       "      <td>4462.0</td>\n",
       "      <td>-2.303350</td>\n",
       "      <td>1.759247</td>\n",
       "      <td>-0.359745</td>\n",
       "      <td>2.330243</td>\n",
       "      <td>-0.821628</td>\n",
       "      <td>-0.075788</td>\n",
       "      <td>0.562320</td>\n",
       "      <td>-0.399147</td>\n",
       "      <td>-0.238253</td>\n",
       "      <td>...</td>\n",
       "      <td>-0.294166</td>\n",
       "      <td>-0.932391</td>\n",
       "      <td>0.172726</td>\n",
       "      <td>-0.087330</td>\n",
       "      <td>-0.156114</td>\n",
       "      <td>-0.542628</td>\n",
       "      <td>0.039566</td>\n",
       "      <td>-0.153029</td>\n",
       "      <td>239.93</td>\n",
       "      <td>1</td>\n",
       "    </tr>\n",
       "    <tr>\n",
       "      <th>6108</th>\n",
       "      <td>6986.0</td>\n",
       "      <td>-4.397974</td>\n",
       "      <td>1.358367</td>\n",
       "      <td>-2.592844</td>\n",
       "      <td>2.679787</td>\n",
       "      <td>-1.128131</td>\n",
       "      <td>-1.706536</td>\n",
       "      <td>-3.496197</td>\n",
       "      <td>-0.248778</td>\n",
       "      <td>-0.247768</td>\n",
       "      <td>...</td>\n",
       "      <td>0.573574</td>\n",
       "      <td>0.176968</td>\n",
       "      <td>-0.436207</td>\n",
       "      <td>-0.053502</td>\n",
       "      <td>0.252405</td>\n",
       "      <td>-0.657488</td>\n",
       "      <td>-0.827136</td>\n",
       "      <td>0.849573</td>\n",
       "      <td>59.00</td>\n",
       "      <td>1</td>\n",
       "    </tr>\n",
       "    <tr>\n",
       "      <th>6329</th>\n",
       "      <td>7519.0</td>\n",
       "      <td>1.234235</td>\n",
       "      <td>3.019740</td>\n",
       "      <td>-4.304597</td>\n",
       "      <td>4.732795</td>\n",
       "      <td>3.624201</td>\n",
       "      <td>-1.357746</td>\n",
       "      <td>1.713445</td>\n",
       "      <td>-0.496358</td>\n",
       "      <td>-1.282858</td>\n",
       "      <td>...</td>\n",
       "      <td>-0.379068</td>\n",
       "      <td>-0.704181</td>\n",
       "      <td>-0.656805</td>\n",
       "      <td>-1.632653</td>\n",
       "      <td>1.488901</td>\n",
       "      <td>0.566797</td>\n",
       "      <td>-0.010016</td>\n",
       "      <td>0.146793</td>\n",
       "      <td>1.00</td>\n",
       "      <td>1</td>\n",
       "    </tr>\n",
       "  </tbody>\n",
       "</table>\n",
       "<p>5 rows × 31 columns</p>\n",
       "</div>"
      ],
      "text/plain": [
       "        Time        V1        V2        V3        V4        V5        V6  \\\n",
       "541   406.0  -2.312227  1.951992 -1.609851  3.997906 -0.522188 -1.426545   \n",
       "623   472.0  -3.043541 -3.157307  1.088463  2.288644  1.359805 -1.064823   \n",
       "4920  4462.0 -2.303350  1.759247 -0.359745  2.330243 -0.821628 -0.075788   \n",
       "6108  6986.0 -4.397974  1.358367 -2.592844  2.679787 -1.128131 -1.706536   \n",
       "6329  7519.0  1.234235  3.019740 -4.304597  4.732795  3.624201 -1.357746   \n",
       "\n",
       "            V7        V8        V9  ...       V21       V22       V23  \\\n",
       "541  -2.537387  1.391657 -2.770089  ...  0.517232 -0.035049 -0.465211   \n",
       "623   0.325574 -0.067794 -0.270953  ...  0.661696  0.435477  1.375966   \n",
       "4920  0.562320 -0.399147 -0.238253  ... -0.294166 -0.932391  0.172726   \n",
       "6108 -3.496197 -0.248778 -0.247768  ...  0.573574  0.176968 -0.436207   \n",
       "6329  1.713445 -0.496358 -1.282858  ... -0.379068 -0.704181 -0.656805   \n",
       "\n",
       "           V24       V25       V26       V27       V28  Amount  Class  \n",
       "541   0.320198  0.044519  0.177840  0.261145 -0.143276  0.00    1      \n",
       "623  -0.293803  0.279798 -0.145362 -0.252773  0.035764  529.00  1      \n",
       "4920 -0.087330 -0.156114 -0.542628  0.039566 -0.153029  239.93  1      \n",
       "6108 -0.053502  0.252405 -0.657488 -0.827136  0.849573  59.00   1      \n",
       "6329 -1.632653  1.488901  0.566797 -0.010016  0.146793  1.00    1      \n",
       "\n",
       "[5 rows x 31 columns]"
      ]
     },
     "execution_count": 8,
     "metadata": {},
     "output_type": "execute_result"
    }
   ],
   "source": [
    "fraud_df.head()"
   ]
  },
  {
   "cell_type": "markdown",
   "metadata": {},
   "source": [
    "## Notes:\n",
    "- using just the numerical variables, it seems that positive correlations exist between (8x9, 15-17), neg corr: (1-3, 18x15-17)"
   ]
  },
  {
   "cell_type": "code",
   "execution_count": 99,
   "metadata": {},
   "outputs": [
    {
     "data": {
      "text/plain": [
       "<matplotlib.colorbar.Colorbar at 0x119b63cd0>"
      ]
     },
     "execution_count": 99,
     "metadata": {},
     "output_type": "execute_result"
    },
    {
     "data": {
      "image/png": "[encoded data removed]",
      "text/plain": [
       "<matplotlib.figure.Figure at 0x119a3b290>"
      ]
     },
     "metadata": {},
     "output_type": "display_data"
    }
   ],
   "source": [
    "fig = plt.figure(figsize=(20,10))\n",
    "cax = plt.matshow(fraud_df[numerical_features_only].corr(), fignum=1)\n",
    "fig.colorbar(cax)"
   ]
  },
  {
   "cell_type": "code",
   "execution_count": 101,
   "metadata": {},
   "outputs": [
    {
     "data": {
      "image/png": "[encoded data removed]",
      "text/plain": [
       "<matplotlib.figure.Figure at 0x11abb3410>"
      ]
     },
     "metadata": {},
     "output_type": "display_data"
    }
   ],
   "source": [
    "y = fraud_df[['Time']].hist(bins=50, color='red')"
   ]
  },
  {
   "cell_type": "code",
   "execution_count": 102,
   "metadata": {},
   "outputs": [
    {
     "data": {
      "text/plain": [
       "array([[<matplotlib.axes._subplots.AxesSubplot object at 0x1199d2c50>]],\n",
       "      dtype=object)"
      ]
     },
     "execution_count": 102,
     "metadata": {},
     "output_type": "execute_result"
    },
    {
     "data": {
      "image/png": "[encoded data removed]",
      "text/plain": [
       "<matplotlib.figure.Figure at 0x11b9c6f10>"
      ]
     },
     "metadata": {},
     "output_type": "display_data"
    }
   ],
   "source": [
    "pdf[['Time']].hist(bins=50)"
   ]
  },
  {
   "cell_type": "code",
   "execution_count": 103,
   "metadata": {},
   "outputs": [
    {
     "data": {
      "text/plain": [
       "array([[<matplotlib.axes._subplots.AxesSubplot object at 0x11a550210>]],\n",
       "      dtype=object)"
      ]
     },
     "execution_count": 103,
     "metadata": {},
     "output_type": "execute_result"
    },
    {
     "data": {
      "image/png": "[encoded data removed]",
      "text/plain": [
       "<matplotlib.figure.Figure at 0x11a5c0e50>"
      ]
     },
     "metadata": {},
     "output_type": "display_data"
    }
   ],
   "source": [
    "fraud_df[['Amount']].hist(bins=50)"
   ]
  },
  {
   "cell_type": "code",
   "execution_count": 104,
   "metadata": {},
   "outputs": [
    {
     "data": {
      "text/plain": [
       "array([[<matplotlib.axes._subplots.AxesSubplot object at 0x11abe3890>]],\n",
       "      dtype=object)"
      ]
     },
     "execution_count": 104,
     "metadata": {},
     "output_type": "execute_result"
    },
    {
     "data": {
      "image/png": "[encoded data removed]",
      "text/plain": [
       "<matplotlib.figure.Figure at 0x11a055f50>"
      ]
     },
     "metadata": {},
     "output_type": "display_data"
    }
   ],
   "source": [
    "pdf[['Amount']].hist(bins=50)"
   ]
  },
  {
   "cell_type": "markdown",
   "metadata": {},
   "source": [
    "## Data Preparation\n",
    "- Dealing with imbalanced data seems to be a concern here because of the disparity of fraudalent data\n",
    "    - Oversampling — SMOTE\n",
    "    - Undersampling — RandomUnderSampler\n",
    "    - Combined Class Methods — SMOTE + ENN\n",
    "- Outlier Detection & Removal\n",
    "- Dimensionality Reduction"
   ]
  },
  {
   "cell_type": "code",
   "execution_count": 105,
   "metadata": {},
   "outputs": [],
   "source": [
    "def normalize(series):\n",
    "    return (series - series.min()) / (series.max() - series.min())\n",
    "\n",
    "pdf['time_normalized'] = normalize(pdf.Time)\n",
    "pdf['amount_normalized'] = normalize(pdf.Amount)"
   ]
  },
  {
   "cell_type": "code",
   "execution_count": 15,
   "metadata": {},
   "outputs": [],
   "source": [
    "def undersample(df):\n",
    "    discriminant_feature = df.loc[df.Class == 1]\n",
    "    cnt = len(discriminant_feature)\n",
    "    other_set = df.loc[df.Class == 0].sample(n=cnt)\n",
    "    \n",
    "    together = pd.concat([discriminant_feature,other_set])\n",
    "    return together.sample(frac=1)\n",
    "    \n",
    "\n",
    "balanced_df = undersample(pdf[numerical_features_only + ['time_normalized', 'amount_normalized', 'Class']])"
   ]
  },
  {
   "cell_type": "code",
   "execution_count": 16,
   "metadata": {},
   "outputs": [],
   "source": [
    "features = [x for x in balanced_df.columns.tolist() if x != 'Class']\n",
    "\n",
    "X = balanced_df[features]\n",
    "y = balanced_df.Class\n",
    "\n",
    "X_train, X_test, y_train, y_test = train_test_split(X, y, test_size=0.8, random_state=0)"
   ]
  },
  {
   "cell_type": "code",
   "execution_count": 17,
   "metadata": {},
   "outputs": [],
   "source": [
    "results = pd.DataFrame()"
   ]
  },
  {
   "cell_type": "markdown",
   "metadata": {},
   "source": [
    "## ML Models to try out\n",
    "- [**DONE**] Logistic Regression\n",
    "- [**DONE**] Linear Discriminant Analysis\n",
    "- [**DONE**] K Nearest Neighbors (KNN)\n",
    "- [**DONE**] Classification Trees (Decision Tree, Random Forest)\n",
    "- [**DONE**]Support Vector Classifier\n",
    "- [**DONE**] Random Forest Classifier\n",
    "- [**DONE**] XGBoost Classifier (could not get this thing to compile -- try again later)"
   ]
  },
  {
   "cell_type": "markdown",
   "metadata": {},
   "source": [
    "## Logistic Regression"
   ]
  },
  {
   "cell_type": "code",
   "execution_count": 18,
   "metadata": {},
   "outputs": [
    {
     "name": "stderr",
     "output_type": "stream",
     "text": [
      "/Users/naveed/scratch/fraud_detection_project/venv/lib/python2.7/site-packages/sklearn/linear_model/logistic.py:433: FutureWarning: Default solver will be changed to 'lbfgs' in 0.22. Specify a solver to silence this warning.\n",
      "  FutureWarning)\n"
     ]
    },
    {
     "data": {
      "text/plain": [
       "LogisticRegression(C=1.0, class_weight=None, dual=False, fit_intercept=True,\n",
       "          intercept_scaling=1, max_iter=100, multi_class='warn',\n",
       "          n_jobs=None, penalty='l2', random_state=None, solver='warn',\n",
       "          tol=0.0001, verbose=0, warm_start=False)"
      ]
     },
     "execution_count": 18,
     "metadata": {},
     "output_type": "execute_result"
    }
   ],
   "source": [
    "from sklearn.linear_model import LogisticRegression\n",
    "\n",
    "logreg = LogisticRegression()\n",
    "logreg.fit(X_train, y_train)"
   ]
  },
  {
   "cell_type": "code",
   "execution_count": 19,
   "metadata": {},
   "outputs": [
    {
     "name": "stdout",
     "output_type": "stream",
     "text": [
      "Accuracy of logistic regression classifier on test set: 0.94\n"
     ]
    }
   ],
   "source": [
    "y_pred = logreg.predict(X_test)\n",
    "print('Accuracy of logistic regression classifier on test set: {:.2f}'.format(logreg.score(X_test, y_test)))"
   ]
  },
  {
   "cell_type": "markdown",
   "metadata": {},
   "source": [
    "#### Verification of the ML Model\n",
    " - need to build a confusion matrix so that we are not going off of accuracy\n",
    " - then will need to gauge effectiveness by AUC-ROC or AUPRC, or both"
   ]
  },
  {
   "cell_type": "code",
   "execution_count": 20,
   "metadata": {},
   "outputs": [
    {
     "name": "stdout",
     "output_type": "stream",
     "text": [
      "[[368  17]\n",
      " [ 34 369]]\n"
     ]
    }
   ],
   "source": [
    "cfmx = confusion_matrix(y_test, y_pred)\n",
    "print(cfmx)"
   ]
  },
  {
   "cell_type": "code",
   "execution_count": 21,
   "metadata": {},
   "outputs": [
    {
     "name": "stdout",
     "output_type": "stream",
     "text": [
      "              precision    recall  f1-score   support\n",
      "\n",
      "   not_fraud       0.92      0.96      0.94       385\n",
      "       fraud       0.96      0.92      0.94       403\n",
      "\n",
      "   micro avg       0.94      0.94      0.94       788\n",
      "   macro avg       0.94      0.94      0.94       788\n",
      "weighted avg       0.94      0.94      0.94       788\n",
      "\n"
     ]
    }
   ],
   "source": [
    "print(classification_report(y_test, y_pred, target_names=['not_fraud', 'fraud']))\n",
    "report = classification_report(y_test, y_pred, target_names=['not_fraud', 'fraud'], output_dict=True)"
   ]
  },
  {
   "cell_type": "code",
   "execution_count": 22,
   "metadata": {},
   "outputs": [
    {
     "name": "stdout",
     "output_type": "stream",
     "text": [
      "{'not_fraud_f1-score': 0.9351969504447267, 'not_fraud_precision': 0.9154228855721394, 'not_fraud_recall': 0.9558441558441558, 'fraud_recall': 0.9156327543424317, 'fraud_precision': 0.9559585492227979, 'fraud_f1-score': 0.9353612167300379}\n"
     ]
    }
   ],
   "source": [
    "def flatten(report):\n",
    "    final_dict = {}\n",
    "    for k, v in report.items():\n",
    "        for k2, v2 in v.items():\n",
    "            if k2 in ['precision', 'recall', 'f1-score'] and k in ['not_fraud', 'fraud']:\n",
    "                final_dict[k + '_' +k2] =  v2\n",
    "    \n",
    "    return final_dict\n",
    "\n",
    "print flatten(report)\n",
    "\n",
    "data =dict({\n",
    "        'name': 'logistic_regression',\n",
    "        'true_positive': cfmx[0,0],\n",
    "        'false_negative': cfmx[0,1],\n",
    "        'false_positive': cfmx[1,0],\n",
    "        'true_negative': cfmx[1,1],\n",
    "    }, **flatten(report))"
   ]
  },
  {
   "cell_type": "code",
   "execution_count": 23,
   "metadata": {},
   "outputs": [
    {
     "data": {
      "text/plain": [
       "{'false_negative': 17,\n",
       " 'false_positive': 34,\n",
       " 'fraud_f1-score': 0.9353612167300379,\n",
       " 'fraud_precision': 0.9559585492227979,\n",
       " 'fraud_recall': 0.9156327543424317,\n",
       " 'name': 'logistic_regression',\n",
       " 'not_fraud_f1-score': 0.9351969504447267,\n",
       " 'not_fraud_precision': 0.9154228855721394,\n",
       " 'not_fraud_recall': 0.9558441558441558,\n",
       " 'true_negative': 369,\n",
       " 'true_positive': 368}"
      ]
     },
     "execution_count": 23,
     "metadata": {},
     "output_type": "execute_result"
    }
   ],
   "source": [
    "data"
   ]
  },
  {
   "cell_type": "code",
   "execution_count": 24,
   "metadata": {},
   "outputs": [],
   "source": [
    "results = results.append([data])"
   ]
  },
  {
   "cell_type": "code",
   "execution_count": 25,
   "metadata": {},
   "outputs": [
    {
     "data": {
      "text/html": [
       "<div>\n",
       "<style scoped>\n",
       "    .dataframe tbody tr th:only-of-type {\n",
       "        vertical-align: middle;\n",
       "    }\n",
       "\n",
       "    .dataframe tbody tr th {\n",
       "        vertical-align: top;\n",
       "    }\n",
       "\n",
       "    .dataframe thead th {\n",
       "        text-align: right;\n",
       "    }\n",
       "</style>\n",
       "<table border=\"1\" class=\"dataframe\">\n",
       "  <thead>\n",
       "    <tr style=\"text-align: right;\">\n",
       "      <th></th>\n",
       "      <th>false_negative</th>\n",
       "      <th>false_positive</th>\n",
       "      <th>fraud_f1-score</th>\n",
       "      <th>fraud_precision</th>\n",
       "      <th>fraud_recall</th>\n",
       "      <th>not_fraud_f1-score</th>\n",
       "      <th>not_fraud_precision</th>\n",
       "      <th>not_fraud_recall</th>\n",
       "      <th>true_negative</th>\n",
       "      <th>true_positive</th>\n",
       "    </tr>\n",
       "    <tr>\n",
       "      <th>name</th>\n",
       "      <th></th>\n",
       "      <th></th>\n",
       "      <th></th>\n",
       "      <th></th>\n",
       "      <th></th>\n",
       "      <th></th>\n",
       "      <th></th>\n",
       "      <th></th>\n",
       "      <th></th>\n",
       "      <th></th>\n",
       "    </tr>\n",
       "  </thead>\n",
       "  <tbody>\n",
       "    <tr>\n",
       "      <th>logistic_regression</th>\n",
       "      <td>17</td>\n",
       "      <td>34</td>\n",
       "      <td>0.935361</td>\n",
       "      <td>0.955959</td>\n",
       "      <td>0.915633</td>\n",
       "      <td>0.935197</td>\n",
       "      <td>0.915423</td>\n",
       "      <td>0.955844</td>\n",
       "      <td>369</td>\n",
       "      <td>368</td>\n",
       "    </tr>\n",
       "  </tbody>\n",
       "</table>\n",
       "</div>"
      ],
      "text/plain": [
       "                     false_negative  false_positive  fraud_f1-score  \\\n",
       "name                                                                  \n",
       "logistic_regression  17              34              0.935361         \n",
       "\n",
       "                     fraud_precision  fraud_recall  not_fraud_f1-score  \\\n",
       "name                                                                     \n",
       "logistic_regression  0.955959         0.915633      0.935197             \n",
       "\n",
       "                     not_fraud_precision  not_fraud_recall  true_negative  \\\n",
       "name                                                                        \n",
       "logistic_regression  0.915423             0.955844          369             \n",
       "\n",
       "                     true_positive  \n",
       "name                                \n",
       "logistic_regression  368            "
      ]
     },
     "execution_count": 25,
     "metadata": {},
     "output_type": "execute_result"
    }
   ],
   "source": [
    "results.set_index('name', inplace=False)"
   ]
  },
  {
   "cell_type": "markdown",
   "metadata": {},
   "source": [
    "## Linear Discriminant Analysis"
   ]
  },
  {
   "cell_type": "code",
   "execution_count": 26,
   "metadata": {},
   "outputs": [],
   "source": [
    "from sklearn.discriminant_analysis import LinearDiscriminantAnalysis"
   ]
  },
  {
   "cell_type": "code",
   "execution_count": 27,
   "metadata": {},
   "outputs": [
    {
     "data": {
      "text/plain": [
       "LinearDiscriminantAnalysis(n_components=None, priors=None, shrinkage=None,\n",
       "              solver='svd', store_covariance=False, tol=0.0001)"
      ]
     },
     "execution_count": 27,
     "metadata": {},
     "output_type": "execute_result"
    }
   ],
   "source": [
    "lindisc = LinearDiscriminantAnalysis()\n",
    "lindisc.fit(X_train, y_train)"
   ]
  },
  {
   "cell_type": "code",
   "execution_count": 28,
   "metadata": {},
   "outputs": [
    {
     "name": "stdout",
     "output_type": "stream",
     "text": [
      "Accuracy of linear discriminant classifier on test set: 0.88\n"
     ]
    }
   ],
   "source": [
    "y_pred = lindisc.predict(X_test)\n",
    "print('Accuracy of linear discriminant classifier on test set: {:.2f}'.format(lindisc.score(X_test, y_test)))"
   ]
  },
  {
   "cell_type": "markdown",
   "metadata": {},
   "source": [
    "### Verification of the ML Model\n",
    " - need to build a confusion matrix so that we are not going off of accuracy\n",
    " - then will need to gauge effectiveness by AUC-ROC or AUPRC, or both"
   ]
  },
  {
   "cell_type": "code",
   "execution_count": 29,
   "metadata": {},
   "outputs": [
    {
     "name": "stdout",
     "output_type": "stream",
     "text": [
      "[[374  11]\n",
      " [ 83 320]]\n"
     ]
    }
   ],
   "source": [
    "cfmx = confusion_matrix(y_test, y_pred)\n",
    "print(cfmx)"
   ]
  },
  {
   "cell_type": "code",
   "execution_count": 30,
   "metadata": {},
   "outputs": [
    {
     "name": "stdout",
     "output_type": "stream",
     "text": [
      "              precision    recall  f1-score   support\n",
      "\n",
      "           0       0.82      0.97      0.89       385\n",
      "           1       0.97      0.79      0.87       403\n",
      "\n",
      "   micro avg       0.88      0.88      0.88       788\n",
      "   macro avg       0.89      0.88      0.88       788\n",
      "weighted avg       0.89      0.88      0.88       788\n",
      "\n"
     ]
    }
   ],
   "source": [
    "print(classification_report(y_test, y_pred))\n",
    "report = classification_report(y_test, y_pred, target_names=['not_fraud', 'fraud'], output_dict=True)"
   ]
  },
  {
   "cell_type": "code",
   "execution_count": 31,
   "metadata": {},
   "outputs": [
    {
     "name": "stdout",
     "output_type": "stream",
     "text": [
      "{'not_fraud_f1-score': 0.8883610451306413, 'not_fraud_precision': 0.8183807439824945, 'not_fraud_recall': 0.9714285714285714, 'fraud_recall': 0.794044665012407, 'fraud_precision': 0.9667673716012085, 'fraud_f1-score': 0.8719346049046323}\n"
     ]
    }
   ],
   "source": [
    "def flatten(report):\n",
    "    final_dict = {}\n",
    "    for k, v in report.items():\n",
    "        for k2, v2 in v.items():\n",
    "            if k2 in ['precision', 'recall', 'f1-score'] and k in ['not_fraud', 'fraud']:\n",
    "                final_dict[k + '_' +k2] =  v2\n",
    "    \n",
    "    return final_dict\n",
    "\n",
    "print flatten(report)\n",
    "\n",
    "data =dict({\n",
    "        'name': 'linear_discriminant',\n",
    "        'true_positive': cfmx[0,0],\n",
    "        'false_negative': cfmx[0,1],\n",
    "        'false_positive': cfmx[1,0],\n",
    "        'true_negative': cfmx[1,1],\n",
    "    }, **flatten(report))"
   ]
  },
  {
   "cell_type": "code",
   "execution_count": 32,
   "metadata": {},
   "outputs": [],
   "source": [
    "results = results.append([data])"
   ]
  },
  {
   "cell_type": "code",
   "execution_count": 33,
   "metadata": {},
   "outputs": [
    {
     "data": {
      "text/html": [
       "<div>\n",
       "<style scoped>\n",
       "    .dataframe tbody tr th:only-of-type {\n",
       "        vertical-align: middle;\n",
       "    }\n",
       "\n",
       "    .dataframe tbody tr th {\n",
       "        vertical-align: top;\n",
       "    }\n",
       "\n",
       "    .dataframe thead th {\n",
       "        text-align: right;\n",
       "    }\n",
       "</style>\n",
       "<table border=\"1\" class=\"dataframe\">\n",
       "  <thead>\n",
       "    <tr style=\"text-align: right;\">\n",
       "      <th></th>\n",
       "      <th>false_negative</th>\n",
       "      <th>false_positive</th>\n",
       "      <th>fraud_f1-score</th>\n",
       "      <th>fraud_precision</th>\n",
       "      <th>fraud_recall</th>\n",
       "      <th>not_fraud_f1-score</th>\n",
       "      <th>not_fraud_precision</th>\n",
       "      <th>not_fraud_recall</th>\n",
       "      <th>true_negative</th>\n",
       "      <th>true_positive</th>\n",
       "    </tr>\n",
       "    <tr>\n",
       "      <th>name</th>\n",
       "      <th></th>\n",
       "      <th></th>\n",
       "      <th></th>\n",
       "      <th></th>\n",
       "      <th></th>\n",
       "      <th></th>\n",
       "      <th></th>\n",
       "      <th></th>\n",
       "      <th></th>\n",
       "      <th></th>\n",
       "    </tr>\n",
       "  </thead>\n",
       "  <tbody>\n",
       "    <tr>\n",
       "      <th>logistic_regression</th>\n",
       "      <td>17</td>\n",
       "      <td>34</td>\n",
       "      <td>0.935361</td>\n",
       "      <td>0.955959</td>\n",
       "      <td>0.915633</td>\n",
       "      <td>0.935197</td>\n",
       "      <td>0.915423</td>\n",
       "      <td>0.955844</td>\n",
       "      <td>369</td>\n",
       "      <td>368</td>\n",
       "    </tr>\n",
       "    <tr>\n",
       "      <th>linear_discriminant</th>\n",
       "      <td>11</td>\n",
       "      <td>83</td>\n",
       "      <td>0.871935</td>\n",
       "      <td>0.966767</td>\n",
       "      <td>0.794045</td>\n",
       "      <td>0.888361</td>\n",
       "      <td>0.818381</td>\n",
       "      <td>0.971429</td>\n",
       "      <td>320</td>\n",
       "      <td>374</td>\n",
       "    </tr>\n",
       "  </tbody>\n",
       "</table>\n",
       "</div>"
      ],
      "text/plain": [
       "                     false_negative  false_positive  fraud_f1-score  \\\n",
       "name                                                                  \n",
       "logistic_regression  17              34              0.935361         \n",
       "linear_discriminant  11              83              0.871935         \n",
       "\n",
       "                     fraud_precision  fraud_recall  not_fraud_f1-score  \\\n",
       "name                                                                     \n",
       "logistic_regression  0.955959         0.915633      0.935197             \n",
       "linear_discriminant  0.966767         0.794045      0.888361             \n",
       "\n",
       "                     not_fraud_precision  not_fraud_recall  true_negative  \\\n",
       "name                                                                        \n",
       "logistic_regression  0.915423             0.955844          369             \n",
       "linear_discriminant  0.818381             0.971429          320             \n",
       "\n",
       "                     true_positive  \n",
       "name                                \n",
       "logistic_regression  368            \n",
       "linear_discriminant  374            "
      ]
     },
     "execution_count": 33,
     "metadata": {},
     "output_type": "execute_result"
    }
   ],
   "source": [
    "results.set_index('name', inplace=False)"
   ]
  },
  {
   "cell_type": "markdown",
   "metadata": {},
   "source": [
    "## K Nearest Neighbors (KNN)"
   ]
  },
  {
   "cell_type": "code",
   "execution_count": 34,
   "metadata": {},
   "outputs": [],
   "source": [
    "from sklearn.neighbors import KNeighborsClassifier"
   ]
  },
  {
   "cell_type": "code",
   "execution_count": 35,
   "metadata": {},
   "outputs": [
    {
     "data": {
      "text/plain": [
       "KNeighborsClassifier(algorithm='auto', leaf_size=30, metric='minkowski',\n",
       "           metric_params=None, n_jobs=None, n_neighbors=2, p=2,\n",
       "           weights='uniform')"
      ]
     },
     "execution_count": 35,
     "metadata": {},
     "output_type": "execute_result"
    }
   ],
   "source": [
    "neigh = KNeighborsClassifier(n_neighbors=2)\n",
    "neigh.fit(X_train, y_train)"
   ]
  },
  {
   "cell_type": "code",
   "execution_count": 36,
   "metadata": {},
   "outputs": [
    {
     "name": "stdout",
     "output_type": "stream",
     "text": [
      "Accuracy of K Nearest Neighbors classifier on test set: 0.93\n"
     ]
    }
   ],
   "source": [
    "y_pred = neigh.predict(X_test)\n",
    "print('Accuracy of K Nearest Neighbors classifier on test set: {:.2f}'.format(neigh.score(X_test, y_test)))"
   ]
  },
  {
   "cell_type": "markdown",
   "metadata": {},
   "source": [
    "### Verification of the ML Model\n",
    " - need to build a confusion matrix so that we are not going off of accuracy\n",
    " - then will need to gauge effectiveness by AUC-ROC or AUPRC, or both"
   ]
  },
  {
   "cell_type": "code",
   "execution_count": 37,
   "metadata": {},
   "outputs": [
    {
     "name": "stdout",
     "output_type": "stream",
     "text": [
      "[[382   3]\n",
      " [ 53 350]]\n"
     ]
    }
   ],
   "source": [
    "cfmx = confusion_matrix(y_test, y_pred)\n",
    "print(cfmx)"
   ]
  },
  {
   "cell_type": "code",
   "execution_count": 38,
   "metadata": {},
   "outputs": [
    {
     "name": "stdout",
     "output_type": "stream",
     "text": [
      "              precision    recall  f1-score   support\n",
      "\n",
      "   not_fraud       0.88      0.99      0.93       385\n",
      "       fraud       0.99      0.87      0.93       403\n",
      "\n",
      "   micro avg       0.93      0.93      0.93       788\n",
      "   macro avg       0.93      0.93      0.93       788\n",
      "weighted avg       0.94      0.93      0.93       788\n",
      "\n"
     ]
    }
   ],
   "source": [
    "report = classification_report(y_test, y_pred, target_names=['not_fraud', 'fraud'], output_dict=True)\n",
    "print(classification_report(y_test, y_pred,  target_names=['not_fraud', 'fraud']))"
   ]
  },
  {
   "cell_type": "code",
   "execution_count": 39,
   "metadata": {},
   "outputs": [
    {
     "name": "stdout",
     "output_type": "stream",
     "text": [
      "{'not_fraud_f1-score': 0.9317073170731707, 'not_fraud_precision': 0.8781609195402299, 'not_fraud_recall': 0.9922077922077922, 'fraud_recall': 0.8684863523573201, 'fraud_precision': 0.9915014164305949, 'fraud_f1-score': 0.9259259259259259}\n"
     ]
    }
   ],
   "source": [
    "def flatten(report):\n",
    "    final_dict = {}\n",
    "    for k, v in report.items():\n",
    "        for k2, v2 in v.items():\n",
    "            if k2 in ['precision', 'recall', 'f1-score'] and k in ['not_fraud', 'fraud']:\n",
    "                final_dict[k + '_' +k2] =  v2\n",
    "    \n",
    "    return final_dict\n",
    "\n",
    "print flatten(report)\n",
    "\n",
    "data =dict({\n",
    "        'name': 'k_nearest_neighbors',\n",
    "        'true_positive': cfmx[0,0],\n",
    "        'false_negative': cfmx[0,1],\n",
    "        'false_positive': cfmx[1,0],\n",
    "        'true_negative': cfmx[1,1],\n",
    "    }, **flatten(report))"
   ]
  },
  {
   "cell_type": "code",
   "execution_count": 40,
   "metadata": {},
   "outputs": [],
   "source": [
    "results = results.append([data])"
   ]
  },
  {
   "cell_type": "code",
   "execution_count": 41,
   "metadata": {},
   "outputs": [
    {
     "data": {
      "text/html": [
       "<div>\n",
       "<style scoped>\n",
       "    .dataframe tbody tr th:only-of-type {\n",
       "        vertical-align: middle;\n",
       "    }\n",
       "\n",
       "    .dataframe tbody tr th {\n",
       "        vertical-align: top;\n",
       "    }\n",
       "\n",
       "    .dataframe thead th {\n",
       "        text-align: right;\n",
       "    }\n",
       "</style>\n",
       "<table border=\"1\" class=\"dataframe\">\n",
       "  <thead>\n",
       "    <tr style=\"text-align: right;\">\n",
       "      <th></th>\n",
       "      <th>false_negative</th>\n",
       "      <th>false_positive</th>\n",
       "      <th>fraud_f1-score</th>\n",
       "      <th>fraud_precision</th>\n",
       "      <th>fraud_recall</th>\n",
       "      <th>not_fraud_f1-score</th>\n",
       "      <th>not_fraud_precision</th>\n",
       "      <th>not_fraud_recall</th>\n",
       "      <th>true_negative</th>\n",
       "      <th>true_positive</th>\n",
       "    </tr>\n",
       "    <tr>\n",
       "      <th>name</th>\n",
       "      <th></th>\n",
       "      <th></th>\n",
       "      <th></th>\n",
       "      <th></th>\n",
       "      <th></th>\n",
       "      <th></th>\n",
       "      <th></th>\n",
       "      <th></th>\n",
       "      <th></th>\n",
       "      <th></th>\n",
       "    </tr>\n",
       "  </thead>\n",
       "  <tbody>\n",
       "    <tr>\n",
       "      <th>logistic_regression</th>\n",
       "      <td>17</td>\n",
       "      <td>34</td>\n",
       "      <td>0.935361</td>\n",
       "      <td>0.955959</td>\n",
       "      <td>0.915633</td>\n",
       "      <td>0.935197</td>\n",
       "      <td>0.915423</td>\n",
       "      <td>0.955844</td>\n",
       "      <td>369</td>\n",
       "      <td>368</td>\n",
       "    </tr>\n",
       "    <tr>\n",
       "      <th>linear_discriminant</th>\n",
       "      <td>11</td>\n",
       "      <td>83</td>\n",
       "      <td>0.871935</td>\n",
       "      <td>0.966767</td>\n",
       "      <td>0.794045</td>\n",
       "      <td>0.888361</td>\n",
       "      <td>0.818381</td>\n",
       "      <td>0.971429</td>\n",
       "      <td>320</td>\n",
       "      <td>374</td>\n",
       "    </tr>\n",
       "    <tr>\n",
       "      <th>k_nearest_neighbors</th>\n",
       "      <td>3</td>\n",
       "      <td>53</td>\n",
       "      <td>0.925926</td>\n",
       "      <td>0.991501</td>\n",
       "      <td>0.868486</td>\n",
       "      <td>0.931707</td>\n",
       "      <td>0.878161</td>\n",
       "      <td>0.992208</td>\n",
       "      <td>350</td>\n",
       "      <td>382</td>\n",
       "    </tr>\n",
       "  </tbody>\n",
       "</table>\n",
       "</div>"
      ],
      "text/plain": [
       "                     false_negative  false_positive  fraud_f1-score  \\\n",
       "name                                                                  \n",
       "logistic_regression  17              34              0.935361         \n",
       "linear_discriminant  11              83              0.871935         \n",
       "k_nearest_neighbors  3               53              0.925926         \n",
       "\n",
       "                     fraud_precision  fraud_recall  not_fraud_f1-score  \\\n",
       "name                                                                     \n",
       "logistic_regression  0.955959         0.915633      0.935197             \n",
       "linear_discriminant  0.966767         0.794045      0.888361             \n",
       "k_nearest_neighbors  0.991501         0.868486      0.931707             \n",
       "\n",
       "                     not_fraud_precision  not_fraud_recall  true_negative  \\\n",
       "name                                                                        \n",
       "logistic_regression  0.915423             0.955844          369             \n",
       "linear_discriminant  0.818381             0.971429          320             \n",
       "k_nearest_neighbors  0.878161             0.992208          350             \n",
       "\n",
       "                     true_positive  \n",
       "name                                \n",
       "logistic_regression  368            \n",
       "linear_discriminant  374            \n",
       "k_nearest_neighbors  382            "
      ]
     },
     "execution_count": 41,
     "metadata": {},
     "output_type": "execute_result"
    }
   ],
   "source": [
    "results.set_index('name', inplace=False)"
   ]
  },
  {
   "cell_type": "markdown",
   "metadata": {},
   "source": [
    "## Classification Trees"
   ]
  },
  {
   "cell_type": "code",
   "execution_count": 42,
   "metadata": {},
   "outputs": [],
   "source": [
    "from sklearn.tree import DecisionTreeClassifier"
   ]
  },
  {
   "cell_type": "code",
   "execution_count": 43,
   "metadata": {},
   "outputs": [
    {
     "data": {
      "text/plain": [
       "DecisionTreeClassifier(class_weight=None, criterion='gini', max_depth=None,\n",
       "            max_features=None, max_leaf_nodes=None,\n",
       "            min_impurity_decrease=0.0, min_impurity_split=None,\n",
       "            min_samples_leaf=1, min_samples_split=2,\n",
       "            min_weight_fraction_leaf=0.0, presort=False, random_state=None,\n",
       "            splitter='best')"
      ]
     },
     "execution_count": 43,
     "metadata": {},
     "output_type": "execute_result"
    }
   ],
   "source": [
    "dectree = DecisionTreeClassifier()\n",
    "dectree.fit(X_train, y_train)"
   ]
  },
  {
   "cell_type": "code",
   "execution_count": 44,
   "metadata": {},
   "outputs": [
    {
     "name": "stdout",
     "output_type": "stream",
     "text": [
      "Accuracy of Decision Tree classifier on test set: 0.91\n"
     ]
    }
   ],
   "source": [
    "y_pred = dectree.predict(X_test)\n",
    "print('Accuracy of Decision Tree classifier on test set: {:.2f}'.format(dectree.score(X_test, y_test)))"
   ]
  },
  {
   "cell_type": "markdown",
   "metadata": {},
   "source": [
    "### Verification of the ML Model\n",
    " - need to build a confusion matrix so that we are not going off of accuracy\n",
    " - then will need to gauge effectiveness by AUC-ROC or AUPRC, or both"
   ]
  },
  {
   "cell_type": "code",
   "execution_count": 45,
   "metadata": {},
   "outputs": [
    {
     "name": "stdout",
     "output_type": "stream",
     "text": [
      "[[352  33]\n",
      " [ 40 363]]\n"
     ]
    }
   ],
   "source": [
    "cfmx = confusion_matrix(y_test, y_pred)\n",
    "print(cfmx)"
   ]
  },
  {
   "cell_type": "code",
   "execution_count": 46,
   "metadata": {},
   "outputs": [
    {
     "name": "stdout",
     "output_type": "stream",
     "text": [
      "              precision    recall  f1-score   support\n",
      "\n",
      "           0       0.90      0.91      0.91       385\n",
      "           1       0.92      0.90      0.91       403\n",
      "\n",
      "   micro avg       0.91      0.91      0.91       788\n",
      "   macro avg       0.91      0.91      0.91       788\n",
      "weighted avg       0.91      0.91      0.91       788\n",
      "\n"
     ]
    }
   ],
   "source": [
    "print(classification_report(y_test, y_pred))"
   ]
  },
  {
   "cell_type": "code",
   "execution_count": 47,
   "metadata": {},
   "outputs": [
    {
     "name": "stdout",
     "output_type": "stream",
     "text": [
      "              precision    recall  f1-score   support\n",
      "\n",
      "   not_fraud       0.90      0.91      0.91       385\n",
      "       fraud       0.92      0.90      0.91       403\n",
      "\n",
      "   micro avg       0.91      0.91      0.91       788\n",
      "   macro avg       0.91      0.91      0.91       788\n",
      "weighted avg       0.91      0.91      0.91       788\n",
      "\n"
     ]
    }
   ],
   "source": [
    "report = classification_report(y_test, y_pred, target_names=['not_fraud', 'fraud'], output_dict=True)\n",
    "print(classification_report(y_test, y_pred,  target_names=['not_fraud', 'fraud']))"
   ]
  },
  {
   "cell_type": "code",
   "execution_count": 48,
   "metadata": {},
   "outputs": [
    {
     "name": "stdout",
     "output_type": "stream",
     "text": [
      "{'not_fraud_f1-score': 0.906048906048906, 'not_fraud_precision': 0.8979591836734694, 'not_fraud_recall': 0.9142857142857143, 'fraud_recall': 0.9007444168734491, 'fraud_precision': 0.9166666666666666, 'fraud_f1-score': 0.9086357947434293}\n"
     ]
    }
   ],
   "source": [
    "def flatten(report):\n",
    "    final_dict = {}\n",
    "    for k, v in report.items():\n",
    "        for k2, v2 in v.items():\n",
    "            if k2 in ['precision', 'recall', 'f1-score'] and k in ['not_fraud', 'fraud']:\n",
    "                final_dict[k + '_' +k2] =  v2\n",
    "    \n",
    "    return final_dict\n",
    "\n",
    "print flatten(report)\n",
    "\n",
    "data =dict({\n",
    "        'name': 'classification_tree',\n",
    "        'true_positive': cfmx[0,0],\n",
    "        'false_negative': cfmx[0,1],\n",
    "        'false_positive': cfmx[1,0],\n",
    "        'true_negative': cfmx[1,1],\n",
    "    }, **flatten(report))"
   ]
  },
  {
   "cell_type": "code",
   "execution_count": 49,
   "metadata": {},
   "outputs": [],
   "source": [
    "results = results.append([data])"
   ]
  },
  {
   "cell_type": "code",
   "execution_count": 50,
   "metadata": {},
   "outputs": [
    {
     "data": {
      "text/html": [
       "<div>\n",
       "<style scoped>\n",
       "    .dataframe tbody tr th:only-of-type {\n",
       "        vertical-align: middle;\n",
       "    }\n",
       "\n",
       "    .dataframe tbody tr th {\n",
       "        vertical-align: top;\n",
       "    }\n",
       "\n",
       "    .dataframe thead th {\n",
       "        text-align: right;\n",
       "    }\n",
       "</style>\n",
       "<table border=\"1\" class=\"dataframe\">\n",
       "  <thead>\n",
       "    <tr style=\"text-align: right;\">\n",
       "      <th></th>\n",
       "      <th>false_negative</th>\n",
       "      <th>false_positive</th>\n",
       "      <th>fraud_f1-score</th>\n",
       "      <th>fraud_precision</th>\n",
       "      <th>fraud_recall</th>\n",
       "      <th>not_fraud_f1-score</th>\n",
       "      <th>not_fraud_precision</th>\n",
       "      <th>not_fraud_recall</th>\n",
       "      <th>true_negative</th>\n",
       "      <th>true_positive</th>\n",
       "    </tr>\n",
       "    <tr>\n",
       "      <th>name</th>\n",
       "      <th></th>\n",
       "      <th></th>\n",
       "      <th></th>\n",
       "      <th></th>\n",
       "      <th></th>\n",
       "      <th></th>\n",
       "      <th></th>\n",
       "      <th></th>\n",
       "      <th></th>\n",
       "      <th></th>\n",
       "    </tr>\n",
       "  </thead>\n",
       "  <tbody>\n",
       "    <tr>\n",
       "      <th>logistic_regression</th>\n",
       "      <td>17</td>\n",
       "      <td>34</td>\n",
       "      <td>0.935361</td>\n",
       "      <td>0.955959</td>\n",
       "      <td>0.915633</td>\n",
       "      <td>0.935197</td>\n",
       "      <td>0.915423</td>\n",
       "      <td>0.955844</td>\n",
       "      <td>369</td>\n",
       "      <td>368</td>\n",
       "    </tr>\n",
       "    <tr>\n",
       "      <th>linear_discriminant</th>\n",
       "      <td>11</td>\n",
       "      <td>83</td>\n",
       "      <td>0.871935</td>\n",
       "      <td>0.966767</td>\n",
       "      <td>0.794045</td>\n",
       "      <td>0.888361</td>\n",
       "      <td>0.818381</td>\n",
       "      <td>0.971429</td>\n",
       "      <td>320</td>\n",
       "      <td>374</td>\n",
       "    </tr>\n",
       "    <tr>\n",
       "      <th>k_nearest_neighbors</th>\n",
       "      <td>3</td>\n",
       "      <td>53</td>\n",
       "      <td>0.925926</td>\n",
       "      <td>0.991501</td>\n",
       "      <td>0.868486</td>\n",
       "      <td>0.931707</td>\n",
       "      <td>0.878161</td>\n",
       "      <td>0.992208</td>\n",
       "      <td>350</td>\n",
       "      <td>382</td>\n",
       "    </tr>\n",
       "    <tr>\n",
       "      <th>classification_tree</th>\n",
       "      <td>33</td>\n",
       "      <td>40</td>\n",
       "      <td>0.908636</td>\n",
       "      <td>0.916667</td>\n",
       "      <td>0.900744</td>\n",
       "      <td>0.906049</td>\n",
       "      <td>0.897959</td>\n",
       "      <td>0.914286</td>\n",
       "      <td>363</td>\n",
       "      <td>352</td>\n",
       "    </tr>\n",
       "  </tbody>\n",
       "</table>\n",
       "</div>"
      ],
      "text/plain": [
       "                     false_negative  false_positive  fraud_f1-score  \\\n",
       "name                                                                  \n",
       "logistic_regression  17              34              0.935361         \n",
       "linear_discriminant  11              83              0.871935         \n",
       "k_nearest_neighbors  3               53              0.925926         \n",
       "classification_tree  33              40              0.908636         \n",
       "\n",
       "                     fraud_precision  fraud_recall  not_fraud_f1-score  \\\n",
       "name                                                                     \n",
       "logistic_regression  0.955959         0.915633      0.935197             \n",
       "linear_discriminant  0.966767         0.794045      0.888361             \n",
       "k_nearest_neighbors  0.991501         0.868486      0.931707             \n",
       "classification_tree  0.916667         0.900744      0.906049             \n",
       "\n",
       "                     not_fraud_precision  not_fraud_recall  true_negative  \\\n",
       "name                                                                        \n",
       "logistic_regression  0.915423             0.955844          369             \n",
       "linear_discriminant  0.818381             0.971429          320             \n",
       "k_nearest_neighbors  0.878161             0.992208          350             \n",
       "classification_tree  0.897959             0.914286          363             \n",
       "\n",
       "                     true_positive  \n",
       "name                                \n",
       "logistic_regression  368            \n",
       "linear_discriminant  374            \n",
       "k_nearest_neighbors  382            \n",
       "classification_tree  352            "
      ]
     },
     "execution_count": 50,
     "metadata": {},
     "output_type": "execute_result"
    }
   ],
   "source": [
    "results.set_index('name', inplace=False)"
   ]
  },
  {
   "cell_type": "markdown",
   "metadata": {},
   "source": [
    "## Support Vector Classification"
   ]
  },
  {
   "cell_type": "code",
   "execution_count": 51,
   "metadata": {},
   "outputs": [],
   "source": [
    "from sklearn import svm"
   ]
  },
  {
   "cell_type": "code",
   "execution_count": 52,
   "metadata": {},
   "outputs": [
    {
     "data": {
      "text/plain": [
       "SVC(C=1, cache_size=200, class_weight=None, coef0=0.0,\n",
       "  decision_function_shape='ovr', degree=3, gamma=0.001, kernel='rbf',\n",
       "  max_iter=-1, probability=False, random_state=1, shrinking=True,\n",
       "  tol=0.001, verbose=False)"
      ]
     },
     "execution_count": 52,
     "metadata": {},
     "output_type": "execute_result"
    }
   ],
   "source": [
    "clf = svm.SVC(kernel='rbf', C=1, gamma=0.001, random_state=1)\n",
    "clf.fit(X_train, y_train)"
   ]
  },
  {
   "cell_type": "code",
   "execution_count": 53,
   "metadata": {},
   "outputs": [
    {
     "name": "stdout",
     "output_type": "stream",
     "text": [
      "Accuracy of Support Vector classifier on test set: 0.92\n"
     ]
    }
   ],
   "source": [
    "y_pred = clf.predict(X_test)\n",
    "print('Accuracy of Support Vector classifier on test set: {:.2f}'.format(clf.score(X_test, y_test)))"
   ]
  },
  {
   "cell_type": "markdown",
   "metadata": {},
   "source": [
    "### Verification of the ML Model\n",
    " - need to build a confusion matrix so that we are not going off of accuracy\n",
    " - then will need to gauge effectiveness by AUC-ROC or AUPRC, or both"
   ]
  },
  {
   "cell_type": "code",
   "execution_count": 54,
   "metadata": {},
   "outputs": [
    {
     "name": "stdout",
     "output_type": "stream",
     "text": [
      "[[381   4]\n",
      " [ 58 345]]\n"
     ]
    }
   ],
   "source": [
    "cfmx = confusion_matrix(y_test, y_pred)\n",
    "print(cfmx)"
   ]
  },
  {
   "cell_type": "code",
   "execution_count": 55,
   "metadata": {},
   "outputs": [
    {
     "name": "stdout",
     "output_type": "stream",
     "text": [
      "              precision    recall  f1-score   support\n",
      "\n",
      "   not_fraud       0.87      0.99      0.92       385\n",
      "       fraud       0.99      0.86      0.92       403\n",
      "\n",
      "   micro avg       0.92      0.92      0.92       788\n",
      "   macro avg       0.93      0.92      0.92       788\n",
      "weighted avg       0.93      0.92      0.92       788\n",
      "\n"
     ]
    }
   ],
   "source": [
    "report = classification_report(y_test, y_pred, target_names=['not_fraud', 'fraud'], output_dict=True)\n",
    "print(classification_report(y_test, y_pred,  target_names=['not_fraud', 'fraud']))"
   ]
  },
  {
   "cell_type": "code",
   "execution_count": 56,
   "metadata": {},
   "outputs": [
    {
     "name": "stdout",
     "output_type": "stream",
     "text": [
      "{'not_fraud_f1-score': 0.9247572815533981, 'not_fraud_precision': 0.8678815489749431, 'not_fraud_recall': 0.9896103896103896, 'fraud_recall': 0.8560794044665012, 'fraud_precision': 0.9885386819484241, 'fraud_f1-score': 0.9175531914893617}\n"
     ]
    }
   ],
   "source": [
    "def flatten(report):\n",
    "    final_dict = {}\n",
    "    for k, v in report.items():\n",
    "        for k2, v2 in v.items():\n",
    "            if k2 in ['precision', 'recall', 'f1-score'] and k in ['not_fraud', 'fraud']:\n",
    "                final_dict[k + '_' +k2] =  v2\n",
    "    \n",
    "    return final_dict\n",
    "\n",
    "print flatten(report)\n",
    "\n",
    "data =dict({\n",
    "        'name': 'support_vector_machine',\n",
    "        'true_positive': cfmx[0,0],\n",
    "        'false_negative': cfmx[0,1],\n",
    "        'false_positive': cfmx[1,0],\n",
    "        'true_negative': cfmx[1,1],\n",
    "    }, **flatten(report))"
   ]
  },
  {
   "cell_type": "code",
   "execution_count": 57,
   "metadata": {},
   "outputs": [],
   "source": [
    "results = results.append([data])"
   ]
  },
  {
   "cell_type": "code",
   "execution_count": 58,
   "metadata": {},
   "outputs": [
    {
     "data": {
      "text/html": [
       "<div>\n",
       "<style scoped>\n",
       "    .dataframe tbody tr th:only-of-type {\n",
       "        vertical-align: middle;\n",
       "    }\n",
       "\n",
       "    .dataframe tbody tr th {\n",
       "        vertical-align: top;\n",
       "    }\n",
       "\n",
       "    .dataframe thead th {\n",
       "        text-align: right;\n",
       "    }\n",
       "</style>\n",
       "<table border=\"1\" class=\"dataframe\">\n",
       "  <thead>\n",
       "    <tr style=\"text-align: right;\">\n",
       "      <th></th>\n",
       "      <th>false_negative</th>\n",
       "      <th>false_positive</th>\n",
       "      <th>fraud_f1-score</th>\n",
       "      <th>fraud_precision</th>\n",
       "      <th>fraud_recall</th>\n",
       "      <th>not_fraud_f1-score</th>\n",
       "      <th>not_fraud_precision</th>\n",
       "      <th>not_fraud_recall</th>\n",
       "      <th>true_negative</th>\n",
       "      <th>true_positive</th>\n",
       "    </tr>\n",
       "    <tr>\n",
       "      <th>name</th>\n",
       "      <th></th>\n",
       "      <th></th>\n",
       "      <th></th>\n",
       "      <th></th>\n",
       "      <th></th>\n",
       "      <th></th>\n",
       "      <th></th>\n",
       "      <th></th>\n",
       "      <th></th>\n",
       "      <th></th>\n",
       "    </tr>\n",
       "  </thead>\n",
       "  <tbody>\n",
       "    <tr>\n",
       "      <th>logistic_regression</th>\n",
       "      <td>17</td>\n",
       "      <td>34</td>\n",
       "      <td>0.935361</td>\n",
       "      <td>0.955959</td>\n",
       "      <td>0.915633</td>\n",
       "      <td>0.935197</td>\n",
       "      <td>0.915423</td>\n",
       "      <td>0.955844</td>\n",
       "      <td>369</td>\n",
       "      <td>368</td>\n",
       "    </tr>\n",
       "    <tr>\n",
       "      <th>linear_discriminant</th>\n",
       "      <td>11</td>\n",
       "      <td>83</td>\n",
       "      <td>0.871935</td>\n",
       "      <td>0.966767</td>\n",
       "      <td>0.794045</td>\n",
       "      <td>0.888361</td>\n",
       "      <td>0.818381</td>\n",
       "      <td>0.971429</td>\n",
       "      <td>320</td>\n",
       "      <td>374</td>\n",
       "    </tr>\n",
       "    <tr>\n",
       "      <th>k_nearest_neighbors</th>\n",
       "      <td>3</td>\n",
       "      <td>53</td>\n",
       "      <td>0.925926</td>\n",
       "      <td>0.991501</td>\n",
       "      <td>0.868486</td>\n",
       "      <td>0.931707</td>\n",
       "      <td>0.878161</td>\n",
       "      <td>0.992208</td>\n",
       "      <td>350</td>\n",
       "      <td>382</td>\n",
       "    </tr>\n",
       "    <tr>\n",
       "      <th>classification_tree</th>\n",
       "      <td>33</td>\n",
       "      <td>40</td>\n",
       "      <td>0.908636</td>\n",
       "      <td>0.916667</td>\n",
       "      <td>0.900744</td>\n",
       "      <td>0.906049</td>\n",
       "      <td>0.897959</td>\n",
       "      <td>0.914286</td>\n",
       "      <td>363</td>\n",
       "      <td>352</td>\n",
       "    </tr>\n",
       "    <tr>\n",
       "      <th>support_vector_machine</th>\n",
       "      <td>4</td>\n",
       "      <td>58</td>\n",
       "      <td>0.917553</td>\n",
       "      <td>0.988539</td>\n",
       "      <td>0.856079</td>\n",
       "      <td>0.924757</td>\n",
       "      <td>0.867882</td>\n",
       "      <td>0.989610</td>\n",
       "      <td>345</td>\n",
       "      <td>381</td>\n",
       "    </tr>\n",
       "  </tbody>\n",
       "</table>\n",
       "</div>"
      ],
      "text/plain": [
       "                        false_negative  false_positive  fraud_f1-score  \\\n",
       "name                                                                     \n",
       "logistic_regression     17              34              0.935361         \n",
       "linear_discriminant     11              83              0.871935         \n",
       "k_nearest_neighbors     3               53              0.925926         \n",
       "classification_tree     33              40              0.908636         \n",
       "support_vector_machine  4               58              0.917553         \n",
       "\n",
       "                        fraud_precision  fraud_recall  not_fraud_f1-score  \\\n",
       "name                                                                        \n",
       "logistic_regression     0.955959         0.915633      0.935197             \n",
       "linear_discriminant     0.966767         0.794045      0.888361             \n",
       "k_nearest_neighbors     0.991501         0.868486      0.931707             \n",
       "classification_tree     0.916667         0.900744      0.906049             \n",
       "support_vector_machine  0.988539         0.856079      0.924757             \n",
       "\n",
       "                        not_fraud_precision  not_fraud_recall  true_negative  \\\n",
       "name                                                                           \n",
       "logistic_regression     0.915423             0.955844          369             \n",
       "linear_discriminant     0.818381             0.971429          320             \n",
       "k_nearest_neighbors     0.878161             0.992208          350             \n",
       "classification_tree     0.897959             0.914286          363             \n",
       "support_vector_machine  0.867882             0.989610          345             \n",
       "\n",
       "                        true_positive  \n",
       "name                                   \n",
       "logistic_regression     368            \n",
       "linear_discriminant     374            \n",
       "k_nearest_neighbors     382            \n",
       "classification_tree     352            \n",
       "support_vector_machine  381            "
      ]
     },
     "execution_count": 58,
     "metadata": {},
     "output_type": "execute_result"
    }
   ],
   "source": [
    "results.set_index('name', inplace=False)"
   ]
  },
  {
   "cell_type": "markdown",
   "metadata": {},
   "source": [
    "## Random Forest Classifier"
   ]
  },
  {
   "cell_type": "code",
   "execution_count": 59,
   "metadata": {},
   "outputs": [],
   "source": [
    "from sklearn.ensemble import RandomForestClassifier"
   ]
  },
  {
   "cell_type": "code",
   "execution_count": 60,
   "metadata": {},
   "outputs": [],
   "source": [
    "rdm = RandomForestClassifier()"
   ]
  },
  {
   "cell_type": "code",
   "execution_count": 61,
   "metadata": {},
   "outputs": [
    {
     "name": "stderr",
     "output_type": "stream",
     "text": [
      "/Users/naveed/scratch/fraud_detection_project/venv/lib/python2.7/site-packages/sklearn/ensemble/forest.py:246: FutureWarning: The default value of n_estimators will change from 10 in version 0.20 to 100 in 0.22.\n",
      "  \"10 in version 0.20 to 100 in 0.22.\", FutureWarning)\n"
     ]
    },
    {
     "data": {
      "text/plain": [
       "RandomForestClassifier(bootstrap=True, class_weight=None, criterion='gini',\n",
       "            max_depth=None, max_features='auto', max_leaf_nodes=None,\n",
       "            min_impurity_decrease=0.0, min_impurity_split=None,\n",
       "            min_samples_leaf=1, min_samples_split=2,\n",
       "            min_weight_fraction_leaf=0.0, n_estimators=10, n_jobs=None,\n",
       "            oob_score=False, random_state=None, verbose=0,\n",
       "            warm_start=False)"
      ]
     },
     "execution_count": 61,
     "metadata": {},
     "output_type": "execute_result"
    }
   ],
   "source": [
    "rdm.fit(X_train, y_train)"
   ]
  },
  {
   "cell_type": "code",
   "execution_count": 62,
   "metadata": {},
   "outputs": [
    {
     "name": "stdout",
     "output_type": "stream",
     "text": [
      "Accuracy of Random Forest Classifier on test set: 0.93\n"
     ]
    }
   ],
   "source": [
    "y_pred = rdm.predict(X_test)\n",
    "print('Accuracy of Random Forest Classifier on test set: {:.2f}'.format(rdm.score(X_test, y_test)))"
   ]
  },
  {
   "cell_type": "markdown",
   "metadata": {},
   "source": [
    "### Verification of the ML Model\n",
    " - need to build a confusion matrix so that we are not going off of accuracy\n",
    " - then will need to gauge effectiveness by AUC-ROC or AUPRC, or both"
   ]
  },
  {
   "cell_type": "code",
   "execution_count": 63,
   "metadata": {},
   "outputs": [
    {
     "name": "stdout",
     "output_type": "stream",
     "text": [
      "[[373  12]\n",
      " [ 47 356]]\n"
     ]
    }
   ],
   "source": [
    "cfmx = confusion_matrix(y_test, y_pred)\n",
    "print(cfmx)"
   ]
  },
  {
   "cell_type": "code",
   "execution_count": 64,
   "metadata": {},
   "outputs": [
    {
     "name": "stdout",
     "output_type": "stream",
     "text": [
      "              precision    recall  f1-score   support\n",
      "\n",
      "           0       0.89      0.97      0.93       385\n",
      "           1       0.97      0.88      0.92       403\n",
      "\n",
      "   micro avg       0.93      0.93      0.93       788\n",
      "   macro avg       0.93      0.93      0.93       788\n",
      "weighted avg       0.93      0.93      0.93       788\n",
      "\n"
     ]
    }
   ],
   "source": [
    "print(classification_report(y_test, y_pred))"
   ]
  },
  {
   "cell_type": "code",
   "execution_count": 65,
   "metadata": {},
   "outputs": [
    {
     "name": "stdout",
     "output_type": "stream",
     "text": [
      "              precision    recall  f1-score   support\n",
      "\n",
      "   not_fraud       0.89      0.97      0.93       385\n",
      "       fraud       0.97      0.88      0.92       403\n",
      "\n",
      "   micro avg       0.93      0.93      0.93       788\n",
      "   macro avg       0.93      0.93      0.93       788\n",
      "weighted avg       0.93      0.93      0.93       788\n",
      "\n"
     ]
    }
   ],
   "source": [
    "report = classification_report(y_test, y_pred, target_names=['not_fraud', 'fraud'], output_dict=True)\n",
    "print(classification_report(y_test, y_pred,  target_names=['not_fraud', 'fraud']))"
   ]
  },
  {
   "cell_type": "code",
   "execution_count": 66,
   "metadata": {},
   "outputs": [
    {
     "name": "stdout",
     "output_type": "stream",
     "text": [
      "{'not_fraud_f1-score': 0.9267080745341615, 'not_fraud_precision': 0.888095238095238, 'not_fraud_recall': 0.9688311688311688, 'fraud_recall': 0.8833746898263027, 'fraud_precision': 0.967391304347826, 'fraud_f1-score': 0.9234760051880674}\n"
     ]
    }
   ],
   "source": [
    "def flatten(report):\n",
    "    final_dict = {}\n",
    "    for k, v in report.items():\n",
    "        for k2, v2 in v.items():\n",
    "            if k2 in ['precision', 'recall', 'f1-score'] and k in ['not_fraud', 'fraud']:\n",
    "                final_dict[k + '_' +k2] =  v2\n",
    "    \n",
    "    return final_dict\n",
    "\n",
    "print flatten(report)\n",
    "\n",
    "data =dict({\n",
    "        'name': 'random_forest',\n",
    "        'true_positive': cfmx[0,0],\n",
    "        'false_negative': cfmx[0,1],\n",
    "        'false_positive': cfmx[1,0],\n",
    "        'true_negative': cfmx[1,1],\n",
    "    }, **flatten(report))"
   ]
  },
  {
   "cell_type": "code",
   "execution_count": 67,
   "metadata": {},
   "outputs": [],
   "source": [
    "results = results.append([data])"
   ]
  },
  {
   "cell_type": "code",
   "execution_count": 68,
   "metadata": {},
   "outputs": [
    {
     "data": {
      "text/html": [
       "<div>\n",
       "<style scoped>\n",
       "    .dataframe tbody tr th:only-of-type {\n",
       "        vertical-align: middle;\n",
       "    }\n",
       "\n",
       "    .dataframe tbody tr th {\n",
       "        vertical-align: top;\n",
       "    }\n",
       "\n",
       "    .dataframe thead th {\n",
       "        text-align: right;\n",
       "    }\n",
       "</style>\n",
       "<table border=\"1\" class=\"dataframe\">\n",
       "  <thead>\n",
       "    <tr style=\"text-align: right;\">\n",
       "      <th></th>\n",
       "      <th>false_negative</th>\n",
       "      <th>false_positive</th>\n",
       "      <th>fraud_f1-score</th>\n",
       "      <th>fraud_precision</th>\n",
       "      <th>fraud_recall</th>\n",
       "      <th>not_fraud_f1-score</th>\n",
       "      <th>not_fraud_precision</th>\n",
       "      <th>not_fraud_recall</th>\n",
       "      <th>true_negative</th>\n",
       "      <th>true_positive</th>\n",
       "    </tr>\n",
       "    <tr>\n",
       "      <th>name</th>\n",
       "      <th></th>\n",
       "      <th></th>\n",
       "      <th></th>\n",
       "      <th></th>\n",
       "      <th></th>\n",
       "      <th></th>\n",
       "      <th></th>\n",
       "      <th></th>\n",
       "      <th></th>\n",
       "      <th></th>\n",
       "    </tr>\n",
       "  </thead>\n",
       "  <tbody>\n",
       "    <tr>\n",
       "      <th>logistic_regression</th>\n",
       "      <td>17</td>\n",
       "      <td>34</td>\n",
       "      <td>0.935361</td>\n",
       "      <td>0.955959</td>\n",
       "      <td>0.915633</td>\n",
       "      <td>0.935197</td>\n",
       "      <td>0.915423</td>\n",
       "      <td>0.955844</td>\n",
       "      <td>369</td>\n",
       "      <td>368</td>\n",
       "    </tr>\n",
       "    <tr>\n",
       "      <th>linear_discriminant</th>\n",
       "      <td>11</td>\n",
       "      <td>83</td>\n",
       "      <td>0.871935</td>\n",
       "      <td>0.966767</td>\n",
       "      <td>0.794045</td>\n",
       "      <td>0.888361</td>\n",
       "      <td>0.818381</td>\n",
       "      <td>0.971429</td>\n",
       "      <td>320</td>\n",
       "      <td>374</td>\n",
       "    </tr>\n",
       "    <tr>\n",
       "      <th>k_nearest_neighbors</th>\n",
       "      <td>3</td>\n",
       "      <td>53</td>\n",
       "      <td>0.925926</td>\n",
       "      <td>0.991501</td>\n",
       "      <td>0.868486</td>\n",
       "      <td>0.931707</td>\n",
       "      <td>0.878161</td>\n",
       "      <td>0.992208</td>\n",
       "      <td>350</td>\n",
       "      <td>382</td>\n",
       "    </tr>\n",
       "    <tr>\n",
       "      <th>classification_tree</th>\n",
       "      <td>33</td>\n",
       "      <td>40</td>\n",
       "      <td>0.908636</td>\n",
       "      <td>0.916667</td>\n",
       "      <td>0.900744</td>\n",
       "      <td>0.906049</td>\n",
       "      <td>0.897959</td>\n",
       "      <td>0.914286</td>\n",
       "      <td>363</td>\n",
       "      <td>352</td>\n",
       "    </tr>\n",
       "    <tr>\n",
       "      <th>support_vector_machine</th>\n",
       "      <td>4</td>\n",
       "      <td>58</td>\n",
       "      <td>0.917553</td>\n",
       "      <td>0.988539</td>\n",
       "      <td>0.856079</td>\n",
       "      <td>0.924757</td>\n",
       "      <td>0.867882</td>\n",
       "      <td>0.989610</td>\n",
       "      <td>345</td>\n",
       "      <td>381</td>\n",
       "    </tr>\n",
       "    <tr>\n",
       "      <th>random_forest</th>\n",
       "      <td>12</td>\n",
       "      <td>47</td>\n",
       "      <td>0.923476</td>\n",
       "      <td>0.967391</td>\n",
       "      <td>0.883375</td>\n",
       "      <td>0.926708</td>\n",
       "      <td>0.888095</td>\n",
       "      <td>0.968831</td>\n",
       "      <td>356</td>\n",
       "      <td>373</td>\n",
       "    </tr>\n",
       "  </tbody>\n",
       "</table>\n",
       "</div>"
      ],
      "text/plain": [
       "                        false_negative  false_positive  fraud_f1-score  \\\n",
       "name                                                                     \n",
       "logistic_regression     17              34              0.935361         \n",
       "linear_discriminant     11              83              0.871935         \n",
       "k_nearest_neighbors     3               53              0.925926         \n",
       "classification_tree     33              40              0.908636         \n",
       "support_vector_machine  4               58              0.917553         \n",
       "random_forest           12              47              0.923476         \n",
       "\n",
       "                        fraud_precision  fraud_recall  not_fraud_f1-score  \\\n",
       "name                                                                        \n",
       "logistic_regression     0.955959         0.915633      0.935197             \n",
       "linear_discriminant     0.966767         0.794045      0.888361             \n",
       "k_nearest_neighbors     0.991501         0.868486      0.931707             \n",
       "classification_tree     0.916667         0.900744      0.906049             \n",
       "support_vector_machine  0.988539         0.856079      0.924757             \n",
       "random_forest           0.967391         0.883375      0.926708             \n",
       "\n",
       "                        not_fraud_precision  not_fraud_recall  true_negative  \\\n",
       "name                                                                           \n",
       "logistic_regression     0.915423             0.955844          369             \n",
       "linear_discriminant     0.818381             0.971429          320             \n",
       "k_nearest_neighbors     0.878161             0.992208          350             \n",
       "classification_tree     0.897959             0.914286          363             \n",
       "support_vector_machine  0.867882             0.989610          345             \n",
       "random_forest           0.888095             0.968831          356             \n",
       "\n",
       "                        true_positive  \n",
       "name                                   \n",
       "logistic_regression     368            \n",
       "linear_discriminant     374            \n",
       "k_nearest_neighbors     382            \n",
       "classification_tree     352            \n",
       "support_vector_machine  381            \n",
       "random_forest           373            "
      ]
     },
     "execution_count": 68,
     "metadata": {},
     "output_type": "execute_result"
    }
   ],
   "source": [
    "results.set_index('name', inplace=False)"
   ]
  },
  {
   "cell_type": "markdown",
   "metadata": {},
   "source": [
    "## XGBoost Classifier"
   ]
  },
  {
   "cell_type": "code",
   "execution_count": 69,
   "metadata": {},
   "outputs": [],
   "source": [
    "from xgboost import XGBClassifier"
   ]
  },
  {
   "cell_type": "code",
   "execution_count": 70,
   "metadata": {},
   "outputs": [
    {
     "data": {
      "text/plain": [
       "XGBClassifier(base_score=0.5, booster='gbtree', colsample_bylevel=1,\n",
       "       colsample_bytree=1, gamma=0, learning_rate=0.1, max_delta_step=0,\n",
       "       max_depth=3, min_child_weight=1, missing=None, n_estimators=100,\n",
       "       n_jobs=1, nthread=None, objective='binary:logistic', random_state=0,\n",
       "       reg_alpha=0, reg_lambda=1, scale_pos_weight=1, seed=None,\n",
       "       silent=True, subsample=1)"
      ]
     },
     "execution_count": 70,
     "metadata": {},
     "output_type": "execute_result"
    }
   ],
   "source": [
    "model = XGBClassifier()\n",
    "model.fit(X_train, y_train)"
   ]
  },
  {
   "cell_type": "code",
   "execution_count": 71,
   "metadata": {},
   "outputs": [
    {
     "name": "stdout",
     "output_type": "stream",
     "text": [
      "Accuracy of XGBoost Classifier on test set: 0.94\n"
     ]
    }
   ],
   "source": [
    "y_pred = model.predict(X_test)\n",
    "print('Accuracy of XGBoost Classifier on test set: {:.2f}'.format(model.score(X_test, y_test)))"
   ]
  },
  {
   "cell_type": "markdown",
   "metadata": {},
   "source": [
    "### Verification of the ML Model\n",
    " - need to build a confusion matrix so that we are not going off of accuracy\n",
    " - then will need to gauge effectiveness by AUC-ROC or AUPRC, or both"
   ]
  },
  {
   "cell_type": "code",
   "execution_count": 72,
   "metadata": {},
   "outputs": [
    {
     "name": "stdout",
     "output_type": "stream",
     "text": [
      "[[377   8]\n",
      " [ 40 363]]\n"
     ]
    }
   ],
   "source": [
    "cfmx = confusion_matrix(y_test, y_pred)\n",
    "print(cfmx)"
   ]
  },
  {
   "cell_type": "code",
   "execution_count": 73,
   "metadata": {},
   "outputs": [
    {
     "name": "stdout",
     "output_type": "stream",
     "text": [
      "              precision    recall  f1-score   support\n",
      "\n",
      "           0       0.90      0.98      0.94       385\n",
      "           1       0.98      0.90      0.94       403\n",
      "\n",
      "   micro avg       0.94      0.94      0.94       788\n",
      "   macro avg       0.94      0.94      0.94       788\n",
      "weighted avg       0.94      0.94      0.94       788\n",
      "\n"
     ]
    }
   ],
   "source": [
    "print(classification_report(y_test, y_pred))"
   ]
  },
  {
   "cell_type": "code",
   "execution_count": 74,
   "metadata": {},
   "outputs": [
    {
     "name": "stdout",
     "output_type": "stream",
     "text": [
      "              precision    recall  f1-score   support\n",
      "\n",
      "   not_fraud       0.90      0.98      0.94       385\n",
      "       fraud       0.98      0.90      0.94       403\n",
      "\n",
      "   micro avg       0.94      0.94      0.94       788\n",
      "   macro avg       0.94      0.94      0.94       788\n",
      "weighted avg       0.94      0.94      0.94       788\n",
      "\n"
     ]
    }
   ],
   "source": [
    "report = classification_report(y_test, y_pred, target_names=['not_fraud', 'fraud'], output_dict=True)\n",
    "print(classification_report(y_test, y_pred,  target_names=['not_fraud', 'fraud']))"
   ]
  },
  {
   "cell_type": "code",
   "execution_count": 75,
   "metadata": {},
   "outputs": [
    {
     "name": "stdout",
     "output_type": "stream",
     "text": [
      "{'not_fraud_f1-score': 0.9401496259351622, 'not_fraud_precision': 0.9040767386091128, 'not_fraud_recall': 0.9792207792207792, 'fraud_recall': 0.9007444168734491, 'fraud_precision': 0.9784366576819407, 'fraud_f1-score': 0.9379844961240309}\n"
     ]
    }
   ],
   "source": [
    "def flatten(report):\n",
    "    final_dict = {}\n",
    "    for k, v in report.items():\n",
    "        for k2, v2 in v.items():\n",
    "            if k2 in ['precision', 'recall', 'f1-score'] and k in ['not_fraud', 'fraud']:\n",
    "                final_dict[k + '_' +k2] =  v2\n",
    "    \n",
    "    return final_dict\n",
    "\n",
    "print flatten(report)\n",
    "\n",
    "data =dict({\n",
    "        'name': 'xg_boost',\n",
    "        'true_positive': cfmx[0,0],\n",
    "        'false_negative': cfmx[0,1],\n",
    "        'false_positive': cfmx[1,0],\n",
    "        'true_negative': cfmx[1,1],\n",
    "    }, **flatten(report))"
   ]
  },
  {
   "cell_type": "code",
   "execution_count": 76,
   "metadata": {},
   "outputs": [],
   "source": [
    "results = results.append([data])"
   ]
  },
  {
   "cell_type": "code",
   "execution_count": 78,
   "metadata": {},
   "outputs": [
    {
     "data": {
      "text/html": [
       "<div>\n",
       "<style scoped>\n",
       "    .dataframe tbody tr th:only-of-type {\n",
       "        vertical-align: middle;\n",
       "    }\n",
       "\n",
       "    .dataframe tbody tr th {\n",
       "        vertical-align: top;\n",
       "    }\n",
       "\n",
       "    .dataframe thead th {\n",
       "        text-align: right;\n",
       "    }\n",
       "</style>\n",
       "<table border=\"1\" class=\"dataframe\">\n",
       "  <thead>\n",
       "    <tr style=\"text-align: right;\">\n",
       "      <th></th>\n",
       "      <th>false_negative</th>\n",
       "      <th>false_positive</th>\n",
       "      <th>true_negative</th>\n",
       "      <th>true_positive</th>\n",
       "      <th>fraud_f1-score</th>\n",
       "      <th>fraud_precision</th>\n",
       "      <th>fraud_recall</th>\n",
       "      <th>not_fraud_f1-score</th>\n",
       "      <th>not_fraud_precision</th>\n",
       "      <th>not_fraud_recall</th>\n",
       "    </tr>\n",
       "    <tr>\n",
       "      <th>name</th>\n",
       "      <th></th>\n",
       "      <th></th>\n",
       "      <th></th>\n",
       "      <th></th>\n",
       "      <th></th>\n",
       "      <th></th>\n",
       "      <th></th>\n",
       "      <th></th>\n",
       "      <th></th>\n",
       "      <th></th>\n",
       "    </tr>\n",
       "  </thead>\n",
       "  <tbody>\n",
       "    <tr>\n",
       "      <th>logistic_regression</th>\n",
       "      <td>17</td>\n",
       "      <td>34</td>\n",
       "      <td>369</td>\n",
       "      <td>368</td>\n",
       "      <td>0.935361</td>\n",
       "      <td>0.955959</td>\n",
       "      <td>0.915633</td>\n",
       "      <td>0.935197</td>\n",
       "      <td>0.915423</td>\n",
       "      <td>0.955844</td>\n",
       "    </tr>\n",
       "    <tr>\n",
       "      <th>linear_discriminant</th>\n",
       "      <td>11</td>\n",
       "      <td>83</td>\n",
       "      <td>320</td>\n",
       "      <td>374</td>\n",
       "      <td>0.871935</td>\n",
       "      <td>0.966767</td>\n",
       "      <td>0.794045</td>\n",
       "      <td>0.888361</td>\n",
       "      <td>0.818381</td>\n",
       "      <td>0.971429</td>\n",
       "    </tr>\n",
       "    <tr>\n",
       "      <th>k_nearest_neighbors</th>\n",
       "      <td>3</td>\n",
       "      <td>53</td>\n",
       "      <td>350</td>\n",
       "      <td>382</td>\n",
       "      <td>0.925926</td>\n",
       "      <td>0.991501</td>\n",
       "      <td>0.868486</td>\n",
       "      <td>0.931707</td>\n",
       "      <td>0.878161</td>\n",
       "      <td>0.992208</td>\n",
       "    </tr>\n",
       "    <tr>\n",
       "      <th>classification_tree</th>\n",
       "      <td>33</td>\n",
       "      <td>40</td>\n",
       "      <td>363</td>\n",
       "      <td>352</td>\n",
       "      <td>0.908636</td>\n",
       "      <td>0.916667</td>\n",
       "      <td>0.900744</td>\n",
       "      <td>0.906049</td>\n",
       "      <td>0.897959</td>\n",
       "      <td>0.914286</td>\n",
       "    </tr>\n",
       "    <tr>\n",
       "      <th>support_vector_machine</th>\n",
       "      <td>4</td>\n",
       "      <td>58</td>\n",
       "      <td>345</td>\n",
       "      <td>381</td>\n",
       "      <td>0.917553</td>\n",
       "      <td>0.988539</td>\n",
       "      <td>0.856079</td>\n",
       "      <td>0.924757</td>\n",
       "      <td>0.867882</td>\n",
       "      <td>0.989610</td>\n",
       "    </tr>\n",
       "    <tr>\n",
       "      <th>random_forest</th>\n",
       "      <td>12</td>\n",
       "      <td>47</td>\n",
       "      <td>356</td>\n",
       "      <td>373</td>\n",
       "      <td>0.923476</td>\n",
       "      <td>0.967391</td>\n",
       "      <td>0.883375</td>\n",
       "      <td>0.926708</td>\n",
       "      <td>0.888095</td>\n",
       "      <td>0.968831</td>\n",
       "    </tr>\n",
       "    <tr>\n",
       "      <th>xg_boost</th>\n",
       "      <td>8</td>\n",
       "      <td>40</td>\n",
       "      <td>363</td>\n",
       "      <td>377</td>\n",
       "      <td>0.937984</td>\n",
       "      <td>0.978437</td>\n",
       "      <td>0.900744</td>\n",
       "      <td>0.940150</td>\n",
       "      <td>0.904077</td>\n",
       "      <td>0.979221</td>\n",
       "    </tr>\n",
       "  </tbody>\n",
       "</table>\n",
       "</div>"
      ],
      "text/plain": [
       "                        false_negative  false_positive  true_negative  \\\n",
       "name                                                                    \n",
       "logistic_regression     17              34              369             \n",
       "linear_discriminant     11              83              320             \n",
       "k_nearest_neighbors     3               53              350             \n",
       "classification_tree     33              40              363             \n",
       "support_vector_machine  4               58              345             \n",
       "random_forest           12              47              356             \n",
       "xg_boost                8               40              363             \n",
       "\n",
       "                        true_positive  fraud_f1-score  fraud_precision  \\\n",
       "name                                                                     \n",
       "logistic_regression     368            0.935361        0.955959          \n",
       "linear_discriminant     374            0.871935        0.966767          \n",
       "k_nearest_neighbors     382            0.925926        0.991501          \n",
       "classification_tree     352            0.908636        0.916667          \n",
       "support_vector_machine  381            0.917553        0.988539          \n",
       "random_forest           373            0.923476        0.967391          \n",
       "xg_boost                377            0.937984        0.978437          \n",
       "\n",
       "                        fraud_recall  not_fraud_f1-score  not_fraud_precision  \\\n",
       "name                                                                            \n",
       "logistic_regression     0.915633      0.935197            0.915423              \n",
       "linear_discriminant     0.794045      0.888361            0.818381              \n",
       "k_nearest_neighbors     0.868486      0.931707            0.878161              \n",
       "classification_tree     0.900744      0.906049            0.897959              \n",
       "support_vector_machine  0.856079      0.924757            0.867882              \n",
       "random_forest           0.883375      0.926708            0.888095              \n",
       "xg_boost                0.900744      0.940150            0.904077              \n",
       "\n",
       "                        not_fraud_recall  \n",
       "name                                      \n",
       "logistic_regression     0.955844          \n",
       "linear_discriminant     0.971429          \n",
       "k_nearest_neighbors     0.992208          \n",
       "classification_tree     0.914286          \n",
       "support_vector_machine  0.989610          \n",
       "random_forest           0.968831          \n",
       "xg_boost                0.979221          "
      ]
     },
     "execution_count": 78,
     "metadata": {},
     "output_type": "execute_result"
    }
   ],
   "source": [
    "results.set_index('name', inplace=False)[['false_negative', 'false_positive', 'true_negative', 'true_positive', 'fraud_f1-score', 'fraud_precision', 'fraud_recall', 'not_fraud_f1-score', 'not_fraud_precision', 'not_fraud_recall']]"
   ]
  },
  {
   "cell_type": "code",
   "execution_count": 93,
   "metadata": {},
   "outputs": [],
   "source": [
    "blah = results.copy()\n",
    "blah.set_index('name', inplace=True)\n",
    "blah['false_negative_normalized'] = normalize(blah['false_negative'])"
   ]
  },
  {
   "cell_type": "code",
   "execution_count": 111,
   "metadata": {},
   "outputs": [
    {
     "data": {
      "image/png": "[encoded data removed]",
      "text/plain": [
       "<matplotlib.figure.Figure at 0x11b24aa10>"
      ]
     },
     "metadata": {},
     "output_type": "display_data"
    }
   ],
   "source": [
    "model_viz = blah[['false_negative_normalized', 'fraud_precision', 'fraud_f1-score']].plot(kind='bar', title='comparison of each ML model', figsize=(10,10))"
   ]
  },
  {
   "cell_type": "markdown",
   "metadata": {},
   "source": [
    "# Helpful Articles\n",
    "\n",
    "- Kaggle Dataset: https://www.kaggle.com/mlg-ulb/creditcardfraud/downloads/creditcardfraud.zip/3\n",
    "- Useful for understanding SMOTE and why we need to oversample on imbalanced datasets: https://towardsdatascience.com/detecting-financial-fraud-using-machine-learning-three-ways-of-winning-the-war-against-imbalanced-a03f8815cce9 \n",
    "- walkthrough of same dataset and analysis of different models: https://towardsdatascience.com/detecting-credit-card-fraud-using-machine-learning-a3d83423d3b8\n",
    "- standardization vs normalization: https://wikidiff.com/standardization/normalization\n",
    "- AUCROC vs AUPRC: https://stats.stackexchange.com/questions/338826/auprc-vs-auc-roc\n",
    "- how to build logistic regression: https://towardsdatascience.com/building-a-logistic-regression-in-python-step-by-step-becd4d56c9c8\n",
    "- using pandas to create training sets for models: https://www.ritchieng.com/pandas-scikit-learn/\n",
    "- SVM in pandas: http://benalexkeen.com/support-vector-classifiers-in-python-using-scikit-learn/\n",
    "- Getting XGBoost to work: https://machinelearningmastery.com/develop-first-xgboost-model-python-scikit-learn/\n",
    "- understanding ML evaluation metrics https://medium.com/x8-the-ai-community/understanding-ml-evaluation-metrics-precision-recall-2b3fb915b666"
   ]
  },
  {
   "cell_type": "code",
   "execution_count": null,
   "metadata": {},
   "outputs": [],
   "source": []
  }
 ],
 "metadata": {
  "kernelspec": {
   "display_name": "Python 2",
   "language": "python",
   "name": "python2"
  },
  "language_info": {
   "codemirror_mode": {
    "name": "ipython",
    "version": 2
   },
   "file_extension": ".py",
   "mimetype": "text/x-python",
   "name": "python",
   "nbconvert_exporter": "python",
   "pygments_lexer": "ipython2",
   "version": "2.7.15"
  }
 },
 "nbformat": 4,
 "nbformat_minor": 2
}
