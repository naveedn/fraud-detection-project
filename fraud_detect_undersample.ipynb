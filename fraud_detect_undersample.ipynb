{
 "cells": [
  {
   "cell_type": "code",
   "execution_count": 1,
   "metadata": {},
   "outputs": [],
   "source": [
    "%matplotlib inline"
   ]
  },
  {
   "cell_type": "code",
   "execution_count": 2,
   "metadata": {},
   "outputs": [],
   "source": [
    "# HACK: needed to manually import sys.path from ipython repl, for some reason it doesn't work on my host otherwise\n",
    "import sys\n",
    "sys.path = ['', '/Users/naveed/scratch/fraud_detection_project/venv/bin', '/Users/naveed/scratch/fraud_detection_project/venv/lib/python27.zip', '/Users/naveed/scratch/fraud_detection_project/venv/lib/python2.7', '/Users/naveed/scratch/fraud_detection_project/venv/lib/python2.7/plat-darwin', '/Users/naveed/scratch/fraud_detection_project/venv/lib/python2.7/plat-mac', '/Users/naveed/scratch/fraud_detection_project/venv/lib/python2.7/plat-mac/lib-scriptpackages', '/Users/naveed/scratch/fraud_detection_project/venv/lib/python2.7/lib-tk', '/Users/naveed/scratch/fraud_detection_project/venv/lib/python2.7/lib-old', '/Users/naveed/scratch/fraud_detection_project/venv/lib/python2.7/lib-dynload', '/Users/naveed/anaconda2/lib/python2.7', '/Users/naveed/anaconda2/lib/python2.7/plat-darwin', '/Users/naveed/anaconda2/lib/python2.7/lib-tk', '/Users/naveed/anaconda2/lib/python2.7/plat-mac', '/Users/naveed/anaconda2/lib/python2.7/plat-mac/lib-scriptpackages', '/Users/naveed/scratch/fraud_detection_project/venv/lib/python2.7/site-packages', '/Users/naveed/scratch/fraud_detection_project/venv/lib/python2.7/site-packages/IPython/extensions', '/Users/naveed/.ipython']"
   ]
  },
  {
   "cell_type": "code",
   "execution_count": 39,
   "metadata": {},
   "outputs": [
    {
     "name": "stdout",
     "output_type": "stream",
     "text": [
      "The autoreload extension is already loaded. To reload it, use:\n",
      "  %reload_ext autoreload\n"
     ]
    },
    {
     "data": {
      "text/plain": [
       "<matplotlib.figure.Figure at 0x112cc1dd0>"
      ]
     },
     "metadata": {},
     "output_type": "display_data"
    }
   ],
   "source": [
    "%load_ext autoreload\n",
    "%autoreload 2\n",
    "\n",
    "import pandas as pd\n",
    "import numpy as np\n",
    "import matplotlib.pyplot as plt\n",
    "\n",
    "plt.figure(figsize=(8,6))\n",
    "\n",
    "from sklearn.preprocessing import normalize\n",
    "from sklearn.model_selection import train_test_split\n",
    "\n",
    "from sklearn import metrics\n",
    "from sklearn.metrics import confusion_matrix\n",
    "from sklearn.metrics import classification_report\n",
    "\n",
    "import xgboost\n",
    "from imblearn_random_sample import RandomUnderSampler"
   ]
  },
  {
   "cell_type": "code",
   "execution_count": 40,
   "metadata": {},
   "outputs": [],
   "source": [
    "pd.set_option('max_colwidth', -1)"
   ]
  },
  {
   "cell_type": "code",
   "execution_count": 41,
   "metadata": {},
   "outputs": [],
   "source": [
    "pdf = pd.read_csv('./creditcard.csv')"
   ]
  },
  {
   "cell_type": "markdown",
   "metadata": {},
   "source": [
    "# Notes:\n",
    " - Reduced FeatureSet: 28 Features determined from prior PCA analysis. Original features were scrubbed for user anonymity\n",
    " - Time & Amount are the only two original features\n",
    " - Total Samples in DataSet: 284,807. Number of Fraudalent transactions: 492 (0.172%) of all transactions. Represented by \"Class\" Feature\n",
    " \n",
    "# Goal:\n",
    " - with the highly imbalanced data set, normalize the data by undersampling / oversampling the data\n",
    " - compare different models and estimate which ones perform better\n",
    " - go back and use some oversampling method to see how the models change with the availability of more data"
   ]
  },
  {
   "cell_type": "code",
   "execution_count": 6,
   "metadata": {},
   "outputs": [],
   "source": [
    "numerical_features_only = sorted(list(set(pdf.columns.tolist()) - set(['Time', 'Amount', 'Class'])), key=lambda x: int(x[1:]))"
   ]
  },
  {
   "cell_type": "markdown",
   "metadata": {},
   "source": [
    "## Data Preparation\n",
    "- Dealing with imbalanced data seems to be a concern here because of the disparity of fraudalent data\n",
    "    - Oversampling — SMOTE\n",
    "    - Undersampling — RandomUnderSampler\n",
    "    - Combined Class Methods — SMOTE + ENN\n",
    "- Outlier Detection & Removal\n",
    "- Dimensionality Reduction"
   ]
  },
  {
   "cell_type": "code",
   "execution_count": 7,
   "metadata": {},
   "outputs": [],
   "source": [
    "def normalize(series):\n",
    "    return (series - series.min()) / (series.max() - series.min())\n",
    "\n",
    "pdf['time_normalized'] = normalize(pdf.Time)\n",
    "pdf['amount_normalized'] = normalize(pdf.Amount)"
   ]
  },
  {
   "cell_type": "markdown",
   "metadata": {},
   "source": [
    "### Split dataset into training / test"
   ]
  },
  {
   "cell_type": "code",
   "execution_count": 10,
   "metadata": {},
   "outputs": [],
   "source": [
    "features = [x for x in pdf.columns.tolist() if x not in ['Class', 'Time', 'Amount']]\n",
    "\n",
    "X = pdf[features]\n",
    "y = pdf.Class\n",
    "\n",
    "rus = RandomUnderSampler(random_state=42)\n",
    "X_res, y_res = rus.fit_resample(X, y)\n",
    "\n",
    "X_train, X_test, y_train, y_test = train_test_split(X_res, y_res, test_size=0.8, random_state=0)"
   ]
  },
  {
   "cell_type": "code",
   "execution_count": 11,
   "metadata": {},
   "outputs": [],
   "source": [
    "results = pd.DataFrame()\n",
    "\n",
    "col_order = ['false_negative', 'false_positive', 'true_negative', 'true_positive', 'fraud_f1-score', 'fraud_precision', 'fraud_recall', 'not_fraud_f1-score', 'not_fraud_precision', 'not_fraud_recall']"
   ]
  },
  {
   "cell_type": "markdown",
   "metadata": {},
   "source": [
    "## Helper methods for model creation"
   ]
  },
  {
   "cell_type": "code",
   "execution_count": 12,
   "metadata": {},
   "outputs": [],
   "source": [
    "def train_model(model, model_name, X_train, X_test, y_train, y_test):\n",
    "    model.fit(X_train, y_train)\n",
    "    y_pred = model.predict(X_test)\n",
    "    print('Accuracy of {model_name} on test set: {accuracy:.2f}'.format(model_name=model_name, accuracy=model.score(X_test, y_test)))\n",
    "    \n",
    "    return y_pred\n",
    "\n",
    "def flatten(report):\n",
    "    \"used to flatten confusion matrix and classification report \"\n",
    "    final_dict = {}\n",
    "    for k, v in report.items():\n",
    "        for k2, v2 in v.items():\n",
    "            if k2 in ['precision', 'recall', 'f1-score'] and k in ['not_fraud', 'fraud']:\n",
    "                final_dict[k + '_' +k2] =  v2\n",
    "    \n",
    "    return final_dict\n",
    "\n",
    "def analyze_model_stats(model, model_name, X_train, X_test, y_train, y_test, y_pred, results_df):\n",
    "    cfmx = confusion_matrix(y_test, y_pred)\n",
    "    report = classification_report(y_test, y_pred, target_names=['not_fraud', 'fraud'], output_dict=True)\n",
    "    \n",
    "    print 'CONFUSION MATRIX:\\n',\n",
    "    print(cfmx)\n",
    "    print\n",
    "    print 'CLASSIFICATION REPORT:'\n",
    "    print(classification_report(y_test, y_pred, target_names=['not_fraud', 'fraud']))\n",
    "        \n",
    "    data = dict({\n",
    "        'name': model_name,\n",
    "        'true_positive': cfmx[0,0],\n",
    "        'false_negative': cfmx[0,1],\n",
    "        'false_positive': cfmx[1,0],\n",
    "        'true_negative': cfmx[1,1],\n",
    "    }, **flatten(report))\n",
    "    \n",
    "    return [data]\n",
    "    \n",
    "def train_and_analyze(model, model_name, X_train, X_test, y_train, y_test, results_df):\n",
    "    y_pred = train_model(model, model_name, X_train, X_test, y_train, y_test)\n",
    "    return analyze_model_stats(model, model_name, X_train, X_test, y_train, y_test, y_pred, results_df)"
   ]
  },
  {
   "cell_type": "markdown",
   "metadata": {},
   "source": [
    "## ML Models to try out\n",
    "- [**DONE**] Logistic Regression\n",
    "- [**DONE**] Linear Discriminant Analysis\n",
    "- [**DONE**] K Nearest Neighbors (KNN)\n",
    "- [**DONE**] Classification Trees (Decision Tree, Random Forest)\n",
    "- [**DONE**]Support Vector Classifier\n",
    "- [**DONE**] Random Forest Classifier\n",
    "- [**DONE**] XGBoost Classifier (could not get this thing to compile -- try again later)"
   ]
  },
  {
   "cell_type": "markdown",
   "metadata": {},
   "source": [
    "## Logistic Regression"
   ]
  },
  {
   "cell_type": "code",
   "execution_count": 13,
   "metadata": {},
   "outputs": [
    {
     "name": "stdout",
     "output_type": "stream",
     "text": [
      "Accuracy of logistic regression on test set: 0.93\n",
      "CONFUSION MATRIX:\n",
      "[[383   9]\n",
      " [ 49 347]]\n",
      "\n",
      "CLASSIFICATION REPORT:\n",
      "              precision    recall  f1-score   support\n",
      "\n",
      "   not_fraud       0.89      0.98      0.93       392\n",
      "       fraud       0.97      0.88      0.92       396\n",
      "\n",
      "   micro avg       0.93      0.93      0.93       788\n",
      "   macro avg       0.93      0.93      0.93       788\n",
      "weighted avg       0.93      0.93      0.93       788\n",
      "\n"
     ]
    },
    {
     "name": "stderr",
     "output_type": "stream",
     "text": [
      "/Users/naveed/scratch/fraud_detection_project/venv/lib/python2.7/site-packages/sklearn/linear_model/logistic.py:433: FutureWarning: Default solver will be changed to 'lbfgs' in 0.22. Specify a solver to silence this warning.\n",
      "  FutureWarning)\n"
     ]
    }
   ],
   "source": [
    "from sklearn.linear_model import LogisticRegression\n",
    "\n",
    "logreg = LogisticRegression()\n",
    "results = results.append(train_and_analyze(logreg, 'logistic regression', X_train, X_test, y_train, y_test, results))"
   ]
  },
  {
   "cell_type": "code",
   "execution_count": 14,
   "metadata": {},
   "outputs": [
    {
     "data": {
      "text/html": [
       "<div>\n",
       "<style scoped>\n",
       "    .dataframe tbody tr th:only-of-type {\n",
       "        vertical-align: middle;\n",
       "    }\n",
       "\n",
       "    .dataframe tbody tr th {\n",
       "        vertical-align: top;\n",
       "    }\n",
       "\n",
       "    .dataframe thead th {\n",
       "        text-align: right;\n",
       "    }\n",
       "</style>\n",
       "<table border=\"1\" class=\"dataframe\">\n",
       "  <thead>\n",
       "    <tr style=\"text-align: right;\">\n",
       "      <th></th>\n",
       "      <th>false_negative</th>\n",
       "      <th>false_positive</th>\n",
       "      <th>true_negative</th>\n",
       "      <th>true_positive</th>\n",
       "      <th>fraud_f1-score</th>\n",
       "      <th>fraud_precision</th>\n",
       "      <th>fraud_recall</th>\n",
       "      <th>not_fraud_f1-score</th>\n",
       "      <th>not_fraud_precision</th>\n",
       "      <th>not_fraud_recall</th>\n",
       "    </tr>\n",
       "    <tr>\n",
       "      <th>name</th>\n",
       "      <th></th>\n",
       "      <th></th>\n",
       "      <th></th>\n",
       "      <th></th>\n",
       "      <th></th>\n",
       "      <th></th>\n",
       "      <th></th>\n",
       "      <th></th>\n",
       "      <th></th>\n",
       "      <th></th>\n",
       "    </tr>\n",
       "  </thead>\n",
       "  <tbody>\n",
       "    <tr>\n",
       "      <th>logistic regression</th>\n",
       "      <td>9</td>\n",
       "      <td>49</td>\n",
       "      <td>347</td>\n",
       "      <td>383</td>\n",
       "      <td>0.922872</td>\n",
       "      <td>0.974719</td>\n",
       "      <td>0.876263</td>\n",
       "      <td>0.929612</td>\n",
       "      <td>0.886574</td>\n",
       "      <td>0.977041</td>\n",
       "    </tr>\n",
       "  </tbody>\n",
       "</table>\n",
       "</div>"
      ],
      "text/plain": [
       "                     false_negative  false_positive  true_negative  \\\n",
       "name                                                                 \n",
       "logistic regression  9               49              347             \n",
       "\n",
       "                     true_positive  fraud_f1-score  fraud_precision  \\\n",
       "name                                                                  \n",
       "logistic regression  383            0.922872        0.974719          \n",
       "\n",
       "                     fraud_recall  not_fraud_f1-score  not_fraud_precision  \\\n",
       "name                                                                         \n",
       "logistic regression  0.876263      0.929612            0.886574              \n",
       "\n",
       "                     not_fraud_recall  \n",
       "name                                   \n",
       "logistic regression  0.977041          "
      ]
     },
     "execution_count": 14,
     "metadata": {},
     "output_type": "execute_result"
    }
   ],
   "source": [
    "results.set_index('name', inplace=False)[col_order]"
   ]
  },
  {
   "cell_type": "markdown",
   "metadata": {},
   "source": [
    "## Linear Discriminant Analysis"
   ]
  },
  {
   "cell_type": "code",
   "execution_count": 15,
   "metadata": {},
   "outputs": [],
   "source": [
    "from sklearn.discriminant_analysis import LinearDiscriminantAnalysis"
   ]
  },
  {
   "cell_type": "code",
   "execution_count": 16,
   "metadata": {},
   "outputs": [
    {
     "name": "stdout",
     "output_type": "stream",
     "text": [
      "Accuracy of linear discriminant on test set: 0.88\n",
      "CONFUSION MATRIX:\n",
      "[[376  16]\n",
      " [ 80 316]]\n",
      "\n",
      "CLASSIFICATION REPORT:\n",
      "              precision    recall  f1-score   support\n",
      "\n",
      "   not_fraud       0.82      0.96      0.89       392\n",
      "       fraud       0.95      0.80      0.87       396\n",
      "\n",
      "   micro avg       0.88      0.88      0.88       788\n",
      "   macro avg       0.89      0.88      0.88       788\n",
      "weighted avg       0.89      0.88      0.88       788\n",
      "\n"
     ]
    }
   ],
   "source": [
    "lindisc = LinearDiscriminantAnalysis()\n",
    "results = results.append(train_and_analyze(lindisc, 'linear discriminant', X_train, X_test, y_train, y_test, results))"
   ]
  },
  {
   "cell_type": "code",
   "execution_count": 17,
   "metadata": {},
   "outputs": [
    {
     "data": {
      "text/html": [
       "<div>\n",
       "<style scoped>\n",
       "    .dataframe tbody tr th:only-of-type {\n",
       "        vertical-align: middle;\n",
       "    }\n",
       "\n",
       "    .dataframe tbody tr th {\n",
       "        vertical-align: top;\n",
       "    }\n",
       "\n",
       "    .dataframe thead th {\n",
       "        text-align: right;\n",
       "    }\n",
       "</style>\n",
       "<table border=\"1\" class=\"dataframe\">\n",
       "  <thead>\n",
       "    <tr style=\"text-align: right;\">\n",
       "      <th></th>\n",
       "      <th>false_negative</th>\n",
       "      <th>false_positive</th>\n",
       "      <th>true_negative</th>\n",
       "      <th>true_positive</th>\n",
       "      <th>fraud_f1-score</th>\n",
       "      <th>fraud_precision</th>\n",
       "      <th>fraud_recall</th>\n",
       "      <th>not_fraud_f1-score</th>\n",
       "      <th>not_fraud_precision</th>\n",
       "      <th>not_fraud_recall</th>\n",
       "    </tr>\n",
       "    <tr>\n",
       "      <th>name</th>\n",
       "      <th></th>\n",
       "      <th></th>\n",
       "      <th></th>\n",
       "      <th></th>\n",
       "      <th></th>\n",
       "      <th></th>\n",
       "      <th></th>\n",
       "      <th></th>\n",
       "      <th></th>\n",
       "      <th></th>\n",
       "    </tr>\n",
       "  </thead>\n",
       "  <tbody>\n",
       "    <tr>\n",
       "      <th>logistic regression</th>\n",
       "      <td>9</td>\n",
       "      <td>49</td>\n",
       "      <td>347</td>\n",
       "      <td>383</td>\n",
       "      <td>0.922872</td>\n",
       "      <td>0.974719</td>\n",
       "      <td>0.876263</td>\n",
       "      <td>0.929612</td>\n",
       "      <td>0.886574</td>\n",
       "      <td>0.977041</td>\n",
       "    </tr>\n",
       "    <tr>\n",
       "      <th>linear discriminant</th>\n",
       "      <td>16</td>\n",
       "      <td>80</td>\n",
       "      <td>316</td>\n",
       "      <td>376</td>\n",
       "      <td>0.868132</td>\n",
       "      <td>0.951807</td>\n",
       "      <td>0.797980</td>\n",
       "      <td>0.886792</td>\n",
       "      <td>0.824561</td>\n",
       "      <td>0.959184</td>\n",
       "    </tr>\n",
       "  </tbody>\n",
       "</table>\n",
       "</div>"
      ],
      "text/plain": [
       "                     false_negative  false_positive  true_negative  \\\n",
       "name                                                                 \n",
       "logistic regression  9               49              347             \n",
       "linear discriminant  16              80              316             \n",
       "\n",
       "                     true_positive  fraud_f1-score  fraud_precision  \\\n",
       "name                                                                  \n",
       "logistic regression  383            0.922872        0.974719          \n",
       "linear discriminant  376            0.868132        0.951807          \n",
       "\n",
       "                     fraud_recall  not_fraud_f1-score  not_fraud_precision  \\\n",
       "name                                                                         \n",
       "logistic regression  0.876263      0.929612            0.886574              \n",
       "linear discriminant  0.797980      0.886792            0.824561              \n",
       "\n",
       "                     not_fraud_recall  \n",
       "name                                   \n",
       "logistic regression  0.977041          \n",
       "linear discriminant  0.959184          "
      ]
     },
     "execution_count": 17,
     "metadata": {},
     "output_type": "execute_result"
    }
   ],
   "source": [
    "results.set_index('name', inplace=False)[col_order]"
   ]
  },
  {
   "cell_type": "markdown",
   "metadata": {},
   "source": [
    "## K Nearest Neighbors (KNN)"
   ]
  },
  {
   "cell_type": "code",
   "execution_count": 18,
   "metadata": {},
   "outputs": [],
   "source": [
    "from sklearn.neighbors import KNeighborsClassifier"
   ]
  },
  {
   "cell_type": "code",
   "execution_count": 19,
   "metadata": {},
   "outputs": [
    {
     "name": "stdout",
     "output_type": "stream",
     "text": [
      "Accuracy of k nearest neighbors on test set: 0.90\n",
      "CONFUSION MATRIX:\n",
      "[[392   0]\n",
      " [ 78 318]]\n",
      "\n",
      "CLASSIFICATION REPORT:\n",
      "              precision    recall  f1-score   support\n",
      "\n",
      "   not_fraud       0.83      1.00      0.91       392\n",
      "       fraud       1.00      0.80      0.89       396\n",
      "\n",
      "   micro avg       0.90      0.90      0.90       788\n",
      "   macro avg       0.92      0.90      0.90       788\n",
      "weighted avg       0.92      0.90      0.90       788\n",
      "\n"
     ]
    }
   ],
   "source": [
    "neigh = KNeighborsClassifier(n_neighbors=2)\n",
    "results = results.append(train_and_analyze(neigh, 'k nearest neighbors', X_train, X_test, y_train, y_test, results))"
   ]
  },
  {
   "cell_type": "code",
   "execution_count": 20,
   "metadata": {},
   "outputs": [
    {
     "data": {
      "text/html": [
       "<div>\n",
       "<style scoped>\n",
       "    .dataframe tbody tr th:only-of-type {\n",
       "        vertical-align: middle;\n",
       "    }\n",
       "\n",
       "    .dataframe tbody tr th {\n",
       "        vertical-align: top;\n",
       "    }\n",
       "\n",
       "    .dataframe thead th {\n",
       "        text-align: right;\n",
       "    }\n",
       "</style>\n",
       "<table border=\"1\" class=\"dataframe\">\n",
       "  <thead>\n",
       "    <tr style=\"text-align: right;\">\n",
       "      <th></th>\n",
       "      <th>false_negative</th>\n",
       "      <th>false_positive</th>\n",
       "      <th>true_negative</th>\n",
       "      <th>true_positive</th>\n",
       "      <th>fraud_f1-score</th>\n",
       "      <th>fraud_precision</th>\n",
       "      <th>fraud_recall</th>\n",
       "      <th>not_fraud_f1-score</th>\n",
       "      <th>not_fraud_precision</th>\n",
       "      <th>not_fraud_recall</th>\n",
       "    </tr>\n",
       "    <tr>\n",
       "      <th>name</th>\n",
       "      <th></th>\n",
       "      <th></th>\n",
       "      <th></th>\n",
       "      <th></th>\n",
       "      <th></th>\n",
       "      <th></th>\n",
       "      <th></th>\n",
       "      <th></th>\n",
       "      <th></th>\n",
       "      <th></th>\n",
       "    </tr>\n",
       "  </thead>\n",
       "  <tbody>\n",
       "    <tr>\n",
       "      <th>logistic regression</th>\n",
       "      <td>9</td>\n",
       "      <td>49</td>\n",
       "      <td>347</td>\n",
       "      <td>383</td>\n",
       "      <td>0.922872</td>\n",
       "      <td>0.974719</td>\n",
       "      <td>0.876263</td>\n",
       "      <td>0.929612</td>\n",
       "      <td>0.886574</td>\n",
       "      <td>0.977041</td>\n",
       "    </tr>\n",
       "    <tr>\n",
       "      <th>linear discriminant</th>\n",
       "      <td>16</td>\n",
       "      <td>80</td>\n",
       "      <td>316</td>\n",
       "      <td>376</td>\n",
       "      <td>0.868132</td>\n",
       "      <td>0.951807</td>\n",
       "      <td>0.797980</td>\n",
       "      <td>0.886792</td>\n",
       "      <td>0.824561</td>\n",
       "      <td>0.959184</td>\n",
       "    </tr>\n",
       "    <tr>\n",
       "      <th>k nearest neighbors</th>\n",
       "      <td>0</td>\n",
       "      <td>78</td>\n",
       "      <td>318</td>\n",
       "      <td>392</td>\n",
       "      <td>0.890756</td>\n",
       "      <td>1.000000</td>\n",
       "      <td>0.803030</td>\n",
       "      <td>0.909513</td>\n",
       "      <td>0.834043</td>\n",
       "      <td>1.000000</td>\n",
       "    </tr>\n",
       "  </tbody>\n",
       "</table>\n",
       "</div>"
      ],
      "text/plain": [
       "                     false_negative  false_positive  true_negative  \\\n",
       "name                                                                 \n",
       "logistic regression  9               49              347             \n",
       "linear discriminant  16              80              316             \n",
       "k nearest neighbors  0               78              318             \n",
       "\n",
       "                     true_positive  fraud_f1-score  fraud_precision  \\\n",
       "name                                                                  \n",
       "logistic regression  383            0.922872        0.974719          \n",
       "linear discriminant  376            0.868132        0.951807          \n",
       "k nearest neighbors  392            0.890756        1.000000          \n",
       "\n",
       "                     fraud_recall  not_fraud_f1-score  not_fraud_precision  \\\n",
       "name                                                                         \n",
       "logistic regression  0.876263      0.929612            0.886574              \n",
       "linear discriminant  0.797980      0.886792            0.824561              \n",
       "k nearest neighbors  0.803030      0.909513            0.834043              \n",
       "\n",
       "                     not_fraud_recall  \n",
       "name                                   \n",
       "logistic regression  0.977041          \n",
       "linear discriminant  0.959184          \n",
       "k nearest neighbors  1.000000          "
      ]
     },
     "execution_count": 20,
     "metadata": {},
     "output_type": "execute_result"
    }
   ],
   "source": [
    "results.set_index('name', inplace=False)[col_order]"
   ]
  },
  {
   "cell_type": "markdown",
   "metadata": {},
   "source": [
    "## Classification Trees"
   ]
  },
  {
   "cell_type": "code",
   "execution_count": 21,
   "metadata": {},
   "outputs": [],
   "source": [
    "from sklearn.tree import DecisionTreeClassifier"
   ]
  },
  {
   "cell_type": "code",
   "execution_count": 22,
   "metadata": {},
   "outputs": [
    {
     "name": "stdout",
     "output_type": "stream",
     "text": [
      "Accuracy of decision tree on test set: 0.88\n",
      "CONFUSION MATRIX:\n",
      "[[370  22]\n",
      " [ 69 327]]\n",
      "\n",
      "CLASSIFICATION REPORT:\n",
      "              precision    recall  f1-score   support\n",
      "\n",
      "   not_fraud       0.84      0.94      0.89       392\n",
      "       fraud       0.94      0.83      0.88       396\n",
      "\n",
      "   micro avg       0.88      0.88      0.88       788\n",
      "   macro avg       0.89      0.88      0.88       788\n",
      "weighted avg       0.89      0.88      0.88       788\n",
      "\n"
     ]
    }
   ],
   "source": [
    "dectree = DecisionTreeClassifier()\n",
    "results = results.append(train_and_analyze(dectree, 'decision tree', X_train, X_test, y_train, y_test, results))"
   ]
  },
  {
   "cell_type": "code",
   "execution_count": 23,
   "metadata": {},
   "outputs": [
    {
     "data": {
      "text/html": [
       "<div>\n",
       "<style scoped>\n",
       "    .dataframe tbody tr th:only-of-type {\n",
       "        vertical-align: middle;\n",
       "    }\n",
       "\n",
       "    .dataframe tbody tr th {\n",
       "        vertical-align: top;\n",
       "    }\n",
       "\n",
       "    .dataframe thead th {\n",
       "        text-align: right;\n",
       "    }\n",
       "</style>\n",
       "<table border=\"1\" class=\"dataframe\">\n",
       "  <thead>\n",
       "    <tr style=\"text-align: right;\">\n",
       "      <th></th>\n",
       "      <th>false_negative</th>\n",
       "      <th>false_positive</th>\n",
       "      <th>true_negative</th>\n",
       "      <th>true_positive</th>\n",
       "      <th>fraud_f1-score</th>\n",
       "      <th>fraud_precision</th>\n",
       "      <th>fraud_recall</th>\n",
       "      <th>not_fraud_f1-score</th>\n",
       "      <th>not_fraud_precision</th>\n",
       "      <th>not_fraud_recall</th>\n",
       "    </tr>\n",
       "    <tr>\n",
       "      <th>name</th>\n",
       "      <th></th>\n",
       "      <th></th>\n",
       "      <th></th>\n",
       "      <th></th>\n",
       "      <th></th>\n",
       "      <th></th>\n",
       "      <th></th>\n",
       "      <th></th>\n",
       "      <th></th>\n",
       "      <th></th>\n",
       "    </tr>\n",
       "  </thead>\n",
       "  <tbody>\n",
       "    <tr>\n",
       "      <th>logistic regression</th>\n",
       "      <td>9</td>\n",
       "      <td>49</td>\n",
       "      <td>347</td>\n",
       "      <td>383</td>\n",
       "      <td>0.922872</td>\n",
       "      <td>0.974719</td>\n",
       "      <td>0.876263</td>\n",
       "      <td>0.929612</td>\n",
       "      <td>0.886574</td>\n",
       "      <td>0.977041</td>\n",
       "    </tr>\n",
       "    <tr>\n",
       "      <th>linear discriminant</th>\n",
       "      <td>16</td>\n",
       "      <td>80</td>\n",
       "      <td>316</td>\n",
       "      <td>376</td>\n",
       "      <td>0.868132</td>\n",
       "      <td>0.951807</td>\n",
       "      <td>0.797980</td>\n",
       "      <td>0.886792</td>\n",
       "      <td>0.824561</td>\n",
       "      <td>0.959184</td>\n",
       "    </tr>\n",
       "    <tr>\n",
       "      <th>k nearest neighbors</th>\n",
       "      <td>0</td>\n",
       "      <td>78</td>\n",
       "      <td>318</td>\n",
       "      <td>392</td>\n",
       "      <td>0.890756</td>\n",
       "      <td>1.000000</td>\n",
       "      <td>0.803030</td>\n",
       "      <td>0.909513</td>\n",
       "      <td>0.834043</td>\n",
       "      <td>1.000000</td>\n",
       "    </tr>\n",
       "    <tr>\n",
       "      <th>decision tree</th>\n",
       "      <td>22</td>\n",
       "      <td>69</td>\n",
       "      <td>327</td>\n",
       "      <td>370</td>\n",
       "      <td>0.877852</td>\n",
       "      <td>0.936963</td>\n",
       "      <td>0.825758</td>\n",
       "      <td>0.890493</td>\n",
       "      <td>0.842825</td>\n",
       "      <td>0.943878</td>\n",
       "    </tr>\n",
       "  </tbody>\n",
       "</table>\n",
       "</div>"
      ],
      "text/plain": [
       "                     false_negative  false_positive  true_negative  \\\n",
       "name                                                                 \n",
       "logistic regression  9               49              347             \n",
       "linear discriminant  16              80              316             \n",
       "k nearest neighbors  0               78              318             \n",
       "decision tree        22              69              327             \n",
       "\n",
       "                     true_positive  fraud_f1-score  fraud_precision  \\\n",
       "name                                                                  \n",
       "logistic regression  383            0.922872        0.974719          \n",
       "linear discriminant  376            0.868132        0.951807          \n",
       "k nearest neighbors  392            0.890756        1.000000          \n",
       "decision tree        370            0.877852        0.936963          \n",
       "\n",
       "                     fraud_recall  not_fraud_f1-score  not_fraud_precision  \\\n",
       "name                                                                         \n",
       "logistic regression  0.876263      0.929612            0.886574              \n",
       "linear discriminant  0.797980      0.886792            0.824561              \n",
       "k nearest neighbors  0.803030      0.909513            0.834043              \n",
       "decision tree        0.825758      0.890493            0.842825              \n",
       "\n",
       "                     not_fraud_recall  \n",
       "name                                   \n",
       "logistic regression  0.977041          \n",
       "linear discriminant  0.959184          \n",
       "k nearest neighbors  1.000000          \n",
       "decision tree        0.943878          "
      ]
     },
     "execution_count": 23,
     "metadata": {},
     "output_type": "execute_result"
    }
   ],
   "source": [
    "results.set_index('name', inplace=False)[col_order]"
   ]
  },
  {
   "cell_type": "markdown",
   "metadata": {},
   "source": [
    "## Support Vector Classification"
   ]
  },
  {
   "cell_type": "code",
   "execution_count": 24,
   "metadata": {},
   "outputs": [],
   "source": [
    "from sklearn import svm"
   ]
  },
  {
   "cell_type": "code",
   "execution_count": 25,
   "metadata": {},
   "outputs": [
    {
     "name": "stdout",
     "output_type": "stream",
     "text": [
      "Accuracy of support vectors on test set: 0.91\n",
      "CONFUSION MATRIX:\n",
      "[[392   0]\n",
      " [ 74 322]]\n",
      "\n",
      "CLASSIFICATION REPORT:\n",
      "              precision    recall  f1-score   support\n",
      "\n",
      "   not_fraud       0.84      1.00      0.91       392\n",
      "       fraud       1.00      0.81      0.90       396\n",
      "\n",
      "   micro avg       0.91      0.91      0.91       788\n",
      "   macro avg       0.92      0.91      0.91       788\n",
      "weighted avg       0.92      0.91      0.91       788\n",
      "\n"
     ]
    }
   ],
   "source": [
    "clf = svm.SVC(kernel='rbf', C=1, gamma=0.001, random_state=1)\n",
    "results = results.append(train_and_analyze(clf, 'support vectors', X_train, X_test, y_train, y_test, results))"
   ]
  },
  {
   "cell_type": "code",
   "execution_count": 26,
   "metadata": {},
   "outputs": [
    {
     "data": {
      "text/html": [
       "<div>\n",
       "<style scoped>\n",
       "    .dataframe tbody tr th:only-of-type {\n",
       "        vertical-align: middle;\n",
       "    }\n",
       "\n",
       "    .dataframe tbody tr th {\n",
       "        vertical-align: top;\n",
       "    }\n",
       "\n",
       "    .dataframe thead th {\n",
       "        text-align: right;\n",
       "    }\n",
       "</style>\n",
       "<table border=\"1\" class=\"dataframe\">\n",
       "  <thead>\n",
       "    <tr style=\"text-align: right;\">\n",
       "      <th></th>\n",
       "      <th>false_negative</th>\n",
       "      <th>false_positive</th>\n",
       "      <th>true_negative</th>\n",
       "      <th>true_positive</th>\n",
       "      <th>fraud_f1-score</th>\n",
       "      <th>fraud_precision</th>\n",
       "      <th>fraud_recall</th>\n",
       "      <th>not_fraud_f1-score</th>\n",
       "      <th>not_fraud_precision</th>\n",
       "      <th>not_fraud_recall</th>\n",
       "    </tr>\n",
       "    <tr>\n",
       "      <th>name</th>\n",
       "      <th></th>\n",
       "      <th></th>\n",
       "      <th></th>\n",
       "      <th></th>\n",
       "      <th></th>\n",
       "      <th></th>\n",
       "      <th></th>\n",
       "      <th></th>\n",
       "      <th></th>\n",
       "      <th></th>\n",
       "    </tr>\n",
       "  </thead>\n",
       "  <tbody>\n",
       "    <tr>\n",
       "      <th>logistic regression</th>\n",
       "      <td>9</td>\n",
       "      <td>49</td>\n",
       "      <td>347</td>\n",
       "      <td>383</td>\n",
       "      <td>0.922872</td>\n",
       "      <td>0.974719</td>\n",
       "      <td>0.876263</td>\n",
       "      <td>0.929612</td>\n",
       "      <td>0.886574</td>\n",
       "      <td>0.977041</td>\n",
       "    </tr>\n",
       "    <tr>\n",
       "      <th>linear discriminant</th>\n",
       "      <td>16</td>\n",
       "      <td>80</td>\n",
       "      <td>316</td>\n",
       "      <td>376</td>\n",
       "      <td>0.868132</td>\n",
       "      <td>0.951807</td>\n",
       "      <td>0.797980</td>\n",
       "      <td>0.886792</td>\n",
       "      <td>0.824561</td>\n",
       "      <td>0.959184</td>\n",
       "    </tr>\n",
       "    <tr>\n",
       "      <th>k nearest neighbors</th>\n",
       "      <td>0</td>\n",
       "      <td>78</td>\n",
       "      <td>318</td>\n",
       "      <td>392</td>\n",
       "      <td>0.890756</td>\n",
       "      <td>1.000000</td>\n",
       "      <td>0.803030</td>\n",
       "      <td>0.909513</td>\n",
       "      <td>0.834043</td>\n",
       "      <td>1.000000</td>\n",
       "    </tr>\n",
       "    <tr>\n",
       "      <th>decision tree</th>\n",
       "      <td>22</td>\n",
       "      <td>69</td>\n",
       "      <td>327</td>\n",
       "      <td>370</td>\n",
       "      <td>0.877852</td>\n",
       "      <td>0.936963</td>\n",
       "      <td>0.825758</td>\n",
       "      <td>0.890493</td>\n",
       "      <td>0.842825</td>\n",
       "      <td>0.943878</td>\n",
       "    </tr>\n",
       "    <tr>\n",
       "      <th>support vectors</th>\n",
       "      <td>0</td>\n",
       "      <td>74</td>\n",
       "      <td>322</td>\n",
       "      <td>392</td>\n",
       "      <td>0.896936</td>\n",
       "      <td>1.000000</td>\n",
       "      <td>0.813131</td>\n",
       "      <td>0.913753</td>\n",
       "      <td>0.841202</td>\n",
       "      <td>1.000000</td>\n",
       "    </tr>\n",
       "  </tbody>\n",
       "</table>\n",
       "</div>"
      ],
      "text/plain": [
       "                     false_negative  false_positive  true_negative  \\\n",
       "name                                                                 \n",
       "logistic regression  9               49              347             \n",
       "linear discriminant  16              80              316             \n",
       "k nearest neighbors  0               78              318             \n",
       "decision tree        22              69              327             \n",
       "support vectors      0               74              322             \n",
       "\n",
       "                     true_positive  fraud_f1-score  fraud_precision  \\\n",
       "name                                                                  \n",
       "logistic regression  383            0.922872        0.974719          \n",
       "linear discriminant  376            0.868132        0.951807          \n",
       "k nearest neighbors  392            0.890756        1.000000          \n",
       "decision tree        370            0.877852        0.936963          \n",
       "support vectors      392            0.896936        1.000000          \n",
       "\n",
       "                     fraud_recall  not_fraud_f1-score  not_fraud_precision  \\\n",
       "name                                                                         \n",
       "logistic regression  0.876263      0.929612            0.886574              \n",
       "linear discriminant  0.797980      0.886792            0.824561              \n",
       "k nearest neighbors  0.803030      0.909513            0.834043              \n",
       "decision tree        0.825758      0.890493            0.842825              \n",
       "support vectors      0.813131      0.913753            0.841202              \n",
       "\n",
       "                     not_fraud_recall  \n",
       "name                                   \n",
       "logistic regression  0.977041          \n",
       "linear discriminant  0.959184          \n",
       "k nearest neighbors  1.000000          \n",
       "decision tree        0.943878          \n",
       "support vectors      1.000000          "
      ]
     },
     "execution_count": 26,
     "metadata": {},
     "output_type": "execute_result"
    }
   ],
   "source": [
    "results.set_index('name', inplace=False)[col_order]"
   ]
  },
  {
   "cell_type": "markdown",
   "metadata": {},
   "source": [
    "## Random Forest Classifier"
   ]
  },
  {
   "cell_type": "code",
   "execution_count": 27,
   "metadata": {},
   "outputs": [],
   "source": [
    "from sklearn.ensemble import RandomForestClassifier"
   ]
  },
  {
   "cell_type": "code",
   "execution_count": 28,
   "metadata": {},
   "outputs": [
    {
     "name": "stdout",
     "output_type": "stream",
     "text": [
      "Accuracy of random forest on test set: 0.91\n",
      "CONFUSION MATRIX:\n",
      "[[386   6]\n",
      " [ 63 333]]\n",
      "\n",
      "CLASSIFICATION REPORT:\n",
      "              precision    recall  f1-score   support\n",
      "\n",
      "   not_fraud       0.86      0.98      0.92       392\n",
      "       fraud       0.98      0.84      0.91       396\n",
      "\n",
      "   micro avg       0.91      0.91      0.91       788\n",
      "   macro avg       0.92      0.91      0.91       788\n",
      "weighted avg       0.92      0.91      0.91       788\n",
      "\n"
     ]
    },
    {
     "name": "stderr",
     "output_type": "stream",
     "text": [
      "/Users/naveed/scratch/fraud_detection_project/venv/lib/python2.7/site-packages/sklearn/ensemble/forest.py:246: FutureWarning: The default value of n_estimators will change from 10 in version 0.20 to 100 in 0.22.\n",
      "  \"10 in version 0.20 to 100 in 0.22.\", FutureWarning)\n"
     ]
    }
   ],
   "source": [
    "rdm = RandomForestClassifier()\n",
    "results = results.append(train_and_analyze(rdm, 'random forest', X_train, X_test, y_train, y_test, results))"
   ]
  },
  {
   "cell_type": "code",
   "execution_count": 29,
   "metadata": {},
   "outputs": [
    {
     "data": {
      "text/html": [
       "<div>\n",
       "<style scoped>\n",
       "    .dataframe tbody tr th:only-of-type {\n",
       "        vertical-align: middle;\n",
       "    }\n",
       "\n",
       "    .dataframe tbody tr th {\n",
       "        vertical-align: top;\n",
       "    }\n",
       "\n",
       "    .dataframe thead th {\n",
       "        text-align: right;\n",
       "    }\n",
       "</style>\n",
       "<table border=\"1\" class=\"dataframe\">\n",
       "  <thead>\n",
       "    <tr style=\"text-align: right;\">\n",
       "      <th></th>\n",
       "      <th>false_negative</th>\n",
       "      <th>false_positive</th>\n",
       "      <th>true_negative</th>\n",
       "      <th>true_positive</th>\n",
       "      <th>fraud_f1-score</th>\n",
       "      <th>fraud_precision</th>\n",
       "      <th>fraud_recall</th>\n",
       "      <th>not_fraud_f1-score</th>\n",
       "      <th>not_fraud_precision</th>\n",
       "      <th>not_fraud_recall</th>\n",
       "    </tr>\n",
       "    <tr>\n",
       "      <th>name</th>\n",
       "      <th></th>\n",
       "      <th></th>\n",
       "      <th></th>\n",
       "      <th></th>\n",
       "      <th></th>\n",
       "      <th></th>\n",
       "      <th></th>\n",
       "      <th></th>\n",
       "      <th></th>\n",
       "      <th></th>\n",
       "    </tr>\n",
       "  </thead>\n",
       "  <tbody>\n",
       "    <tr>\n",
       "      <th>logistic regression</th>\n",
       "      <td>9</td>\n",
       "      <td>49</td>\n",
       "      <td>347</td>\n",
       "      <td>383</td>\n",
       "      <td>0.922872</td>\n",
       "      <td>0.974719</td>\n",
       "      <td>0.876263</td>\n",
       "      <td>0.929612</td>\n",
       "      <td>0.886574</td>\n",
       "      <td>0.977041</td>\n",
       "    </tr>\n",
       "    <tr>\n",
       "      <th>linear discriminant</th>\n",
       "      <td>16</td>\n",
       "      <td>80</td>\n",
       "      <td>316</td>\n",
       "      <td>376</td>\n",
       "      <td>0.868132</td>\n",
       "      <td>0.951807</td>\n",
       "      <td>0.797980</td>\n",
       "      <td>0.886792</td>\n",
       "      <td>0.824561</td>\n",
       "      <td>0.959184</td>\n",
       "    </tr>\n",
       "    <tr>\n",
       "      <th>k nearest neighbors</th>\n",
       "      <td>0</td>\n",
       "      <td>78</td>\n",
       "      <td>318</td>\n",
       "      <td>392</td>\n",
       "      <td>0.890756</td>\n",
       "      <td>1.000000</td>\n",
       "      <td>0.803030</td>\n",
       "      <td>0.909513</td>\n",
       "      <td>0.834043</td>\n",
       "      <td>1.000000</td>\n",
       "    </tr>\n",
       "    <tr>\n",
       "      <th>decision tree</th>\n",
       "      <td>22</td>\n",
       "      <td>69</td>\n",
       "      <td>327</td>\n",
       "      <td>370</td>\n",
       "      <td>0.877852</td>\n",
       "      <td>0.936963</td>\n",
       "      <td>0.825758</td>\n",
       "      <td>0.890493</td>\n",
       "      <td>0.842825</td>\n",
       "      <td>0.943878</td>\n",
       "    </tr>\n",
       "    <tr>\n",
       "      <th>support vectors</th>\n",
       "      <td>0</td>\n",
       "      <td>74</td>\n",
       "      <td>322</td>\n",
       "      <td>392</td>\n",
       "      <td>0.896936</td>\n",
       "      <td>1.000000</td>\n",
       "      <td>0.813131</td>\n",
       "      <td>0.913753</td>\n",
       "      <td>0.841202</td>\n",
       "      <td>1.000000</td>\n",
       "    </tr>\n",
       "    <tr>\n",
       "      <th>random forest</th>\n",
       "      <td>6</td>\n",
       "      <td>63</td>\n",
       "      <td>333</td>\n",
       "      <td>386</td>\n",
       "      <td>0.906122</td>\n",
       "      <td>0.982301</td>\n",
       "      <td>0.840909</td>\n",
       "      <td>0.917955</td>\n",
       "      <td>0.859688</td>\n",
       "      <td>0.984694</td>\n",
       "    </tr>\n",
       "  </tbody>\n",
       "</table>\n",
       "</div>"
      ],
      "text/plain": [
       "                     false_negative  false_positive  true_negative  \\\n",
       "name                                                                 \n",
       "logistic regression  9               49              347             \n",
       "linear discriminant  16              80              316             \n",
       "k nearest neighbors  0               78              318             \n",
       "decision tree        22              69              327             \n",
       "support vectors      0               74              322             \n",
       "random forest        6               63              333             \n",
       "\n",
       "                     true_positive  fraud_f1-score  fraud_precision  \\\n",
       "name                                                                  \n",
       "logistic regression  383            0.922872        0.974719          \n",
       "linear discriminant  376            0.868132        0.951807          \n",
       "k nearest neighbors  392            0.890756        1.000000          \n",
       "decision tree        370            0.877852        0.936963          \n",
       "support vectors      392            0.896936        1.000000          \n",
       "random forest        386            0.906122        0.982301          \n",
       "\n",
       "                     fraud_recall  not_fraud_f1-score  not_fraud_precision  \\\n",
       "name                                                                         \n",
       "logistic regression  0.876263      0.929612            0.886574              \n",
       "linear discriminant  0.797980      0.886792            0.824561              \n",
       "k nearest neighbors  0.803030      0.909513            0.834043              \n",
       "decision tree        0.825758      0.890493            0.842825              \n",
       "support vectors      0.813131      0.913753            0.841202              \n",
       "random forest        0.840909      0.917955            0.859688              \n",
       "\n",
       "                     not_fraud_recall  \n",
       "name                                   \n",
       "logistic regression  0.977041          \n",
       "linear discriminant  0.959184          \n",
       "k nearest neighbors  1.000000          \n",
       "decision tree        0.943878          \n",
       "support vectors      1.000000          \n",
       "random forest        0.984694          "
      ]
     },
     "execution_count": 29,
     "metadata": {},
     "output_type": "execute_result"
    }
   ],
   "source": [
    "results.set_index('name', inplace=False)[col_order]"
   ]
  },
  {
   "cell_type": "markdown",
   "metadata": {},
   "source": [
    "## XGBoost Classifier"
   ]
  },
  {
   "cell_type": "code",
   "execution_count": 30,
   "metadata": {},
   "outputs": [],
   "source": [
    "from xgboost import XGBClassifier"
   ]
  },
  {
   "cell_type": "code",
   "execution_count": 31,
   "metadata": {},
   "outputs": [
    {
     "name": "stdout",
     "output_type": "stream",
     "text": [
      "Accuracy of XGBoost on test set: 0.91\n",
      "CONFUSION MATRIX:\n",
      "[[383   9]\n",
      " [ 58 338]]\n",
      "\n",
      "CLASSIFICATION REPORT:\n",
      "              precision    recall  f1-score   support\n",
      "\n",
      "   not_fraud       0.87      0.98      0.92       392\n",
      "       fraud       0.97      0.85      0.91       396\n",
      "\n",
      "   micro avg       0.91      0.91      0.91       788\n",
      "   macro avg       0.92      0.92      0.91       788\n",
      "weighted avg       0.92      0.91      0.91       788\n",
      "\n"
     ]
    }
   ],
   "source": [
    "xgb = XGBClassifier()\n",
    "results = results.append(train_and_analyze(xgb, 'XGBoost', X_train, X_test, y_train, y_test, results))"
   ]
  },
  {
   "cell_type": "code",
   "execution_count": 32,
   "metadata": {},
   "outputs": [
    {
     "data": {
      "text/html": [
       "<div>\n",
       "<style scoped>\n",
       "    .dataframe tbody tr th:only-of-type {\n",
       "        vertical-align: middle;\n",
       "    }\n",
       "\n",
       "    .dataframe tbody tr th {\n",
       "        vertical-align: top;\n",
       "    }\n",
       "\n",
       "    .dataframe thead th {\n",
       "        text-align: right;\n",
       "    }\n",
       "</style>\n",
       "<table border=\"1\" class=\"dataframe\">\n",
       "  <thead>\n",
       "    <tr style=\"text-align: right;\">\n",
       "      <th></th>\n",
       "      <th>false_negative</th>\n",
       "      <th>false_positive</th>\n",
       "      <th>true_negative</th>\n",
       "      <th>true_positive</th>\n",
       "      <th>fraud_f1-score</th>\n",
       "      <th>fraud_precision</th>\n",
       "      <th>fraud_recall</th>\n",
       "      <th>not_fraud_f1-score</th>\n",
       "      <th>not_fraud_precision</th>\n",
       "      <th>not_fraud_recall</th>\n",
       "    </tr>\n",
       "    <tr>\n",
       "      <th>name</th>\n",
       "      <th></th>\n",
       "      <th></th>\n",
       "      <th></th>\n",
       "      <th></th>\n",
       "      <th></th>\n",
       "      <th></th>\n",
       "      <th></th>\n",
       "      <th></th>\n",
       "      <th></th>\n",
       "      <th></th>\n",
       "    </tr>\n",
       "  </thead>\n",
       "  <tbody>\n",
       "    <tr>\n",
       "      <th>logistic regression</th>\n",
       "      <td>9</td>\n",
       "      <td>49</td>\n",
       "      <td>347</td>\n",
       "      <td>383</td>\n",
       "      <td>0.922872</td>\n",
       "      <td>0.974719</td>\n",
       "      <td>0.876263</td>\n",
       "      <td>0.929612</td>\n",
       "      <td>0.886574</td>\n",
       "      <td>0.977041</td>\n",
       "    </tr>\n",
       "    <tr>\n",
       "      <th>linear discriminant</th>\n",
       "      <td>16</td>\n",
       "      <td>80</td>\n",
       "      <td>316</td>\n",
       "      <td>376</td>\n",
       "      <td>0.868132</td>\n",
       "      <td>0.951807</td>\n",
       "      <td>0.797980</td>\n",
       "      <td>0.886792</td>\n",
       "      <td>0.824561</td>\n",
       "      <td>0.959184</td>\n",
       "    </tr>\n",
       "    <tr>\n",
       "      <th>k nearest neighbors</th>\n",
       "      <td>0</td>\n",
       "      <td>78</td>\n",
       "      <td>318</td>\n",
       "      <td>392</td>\n",
       "      <td>0.890756</td>\n",
       "      <td>1.000000</td>\n",
       "      <td>0.803030</td>\n",
       "      <td>0.909513</td>\n",
       "      <td>0.834043</td>\n",
       "      <td>1.000000</td>\n",
       "    </tr>\n",
       "    <tr>\n",
       "      <th>decision tree</th>\n",
       "      <td>22</td>\n",
       "      <td>69</td>\n",
       "      <td>327</td>\n",
       "      <td>370</td>\n",
       "      <td>0.877852</td>\n",
       "      <td>0.936963</td>\n",
       "      <td>0.825758</td>\n",
       "      <td>0.890493</td>\n",
       "      <td>0.842825</td>\n",
       "      <td>0.943878</td>\n",
       "    </tr>\n",
       "    <tr>\n",
       "      <th>support vectors</th>\n",
       "      <td>0</td>\n",
       "      <td>74</td>\n",
       "      <td>322</td>\n",
       "      <td>392</td>\n",
       "      <td>0.896936</td>\n",
       "      <td>1.000000</td>\n",
       "      <td>0.813131</td>\n",
       "      <td>0.913753</td>\n",
       "      <td>0.841202</td>\n",
       "      <td>1.000000</td>\n",
       "    </tr>\n",
       "    <tr>\n",
       "      <th>random forest</th>\n",
       "      <td>6</td>\n",
       "      <td>63</td>\n",
       "      <td>333</td>\n",
       "      <td>386</td>\n",
       "      <td>0.906122</td>\n",
       "      <td>0.982301</td>\n",
       "      <td>0.840909</td>\n",
       "      <td>0.917955</td>\n",
       "      <td>0.859688</td>\n",
       "      <td>0.984694</td>\n",
       "    </tr>\n",
       "    <tr>\n",
       "      <th>XGBoost</th>\n",
       "      <td>9</td>\n",
       "      <td>58</td>\n",
       "      <td>338</td>\n",
       "      <td>383</td>\n",
       "      <td>0.909825</td>\n",
       "      <td>0.974063</td>\n",
       "      <td>0.853535</td>\n",
       "      <td>0.919568</td>\n",
       "      <td>0.868481</td>\n",
       "      <td>0.977041</td>\n",
       "    </tr>\n",
       "  </tbody>\n",
       "</table>\n",
       "</div>"
      ],
      "text/plain": [
       "                     false_negative  false_positive  true_negative  \\\n",
       "name                                                                 \n",
       "logistic regression  9               49              347             \n",
       "linear discriminant  16              80              316             \n",
       "k nearest neighbors  0               78              318             \n",
       "decision tree        22              69              327             \n",
       "support vectors      0               74              322             \n",
       "random forest        6               63              333             \n",
       "XGBoost              9               58              338             \n",
       "\n",
       "                     true_positive  fraud_f1-score  fraud_precision  \\\n",
       "name                                                                  \n",
       "logistic regression  383            0.922872        0.974719          \n",
       "linear discriminant  376            0.868132        0.951807          \n",
       "k nearest neighbors  392            0.890756        1.000000          \n",
       "decision tree        370            0.877852        0.936963          \n",
       "support vectors      392            0.896936        1.000000          \n",
       "random forest        386            0.906122        0.982301          \n",
       "XGBoost              383            0.909825        0.974063          \n",
       "\n",
       "                     fraud_recall  not_fraud_f1-score  not_fraud_precision  \\\n",
       "name                                                                         \n",
       "logistic regression  0.876263      0.929612            0.886574              \n",
       "linear discriminant  0.797980      0.886792            0.824561              \n",
       "k nearest neighbors  0.803030      0.909513            0.834043              \n",
       "decision tree        0.825758      0.890493            0.842825              \n",
       "support vectors      0.813131      0.913753            0.841202              \n",
       "random forest        0.840909      0.917955            0.859688              \n",
       "XGBoost              0.853535      0.919568            0.868481              \n",
       "\n",
       "                     not_fraud_recall  \n",
       "name                                   \n",
       "logistic regression  0.977041          \n",
       "linear discriminant  0.959184          \n",
       "k nearest neighbors  1.000000          \n",
       "decision tree        0.943878          \n",
       "support vectors      1.000000          \n",
       "random forest        0.984694          \n",
       "XGBoost              0.977041          "
      ]
     },
     "execution_count": 32,
     "metadata": {},
     "output_type": "execute_result"
    }
   ],
   "source": [
    "results.set_index('name', inplace=False)[col_order]"
   ]
  },
  {
   "cell_type": "code",
   "execution_count": 33,
   "metadata": {},
   "outputs": [],
   "source": [
    "blah = results.copy()\n",
    "blah.set_index('name', inplace=True)\n",
    "blah['false_negative_normalized'] = normalize(blah['false_negative'])"
   ]
  },
  {
   "cell_type": "code",
   "execution_count": 34,
   "metadata": {},
   "outputs": [
    {
     "data": {
      "image/png": "[encoded data removed]",
      "text/plain": [
       "<matplotlib.figure.Figure at 0x108976050>"
      ]
     },
     "metadata": {},
     "output_type": "display_data"
    }
   ],
   "source": [
    "model_viz = blah[['false_negative_normalized', 'fraud_precision', 'fraud_f1-score']].plot(kind='bar', title='comparison of each ML model', figsize=(10,10))"
   ]
  },
  {
   "cell_type": "code",
   "execution_count": 35,
   "metadata": {},
   "outputs": [
    {
     "data": {
      "image/png": "[encoded data removed]",
      "text/plain": [
       "<matplotlib.figure.Figure at 0x108b46390>"
      ]
     },
     "metadata": {},
     "output_type": "display_data"
    }
   ],
   "source": [
    "model_viz = blah[['fraud_precision', 'fraud_recall', 'fraud_f1-score']].plot(kind='bar', title='comparison of each ML model', figsize=(10,10))"
   ]
  },
  {
   "cell_type": "code",
   "execution_count": 43,
   "metadata": {},
   "outputs": [
    {
     "data": {
      "text/html": [
       "<div>\n",
       "<style scoped>\n",
       "    .dataframe tbody tr th:only-of-type {\n",
       "        vertical-align: middle;\n",
       "    }\n",
       "\n",
       "    .dataframe tbody tr th {\n",
       "        vertical-align: top;\n",
       "    }\n",
       "\n",
       "    .dataframe thead th {\n",
       "        text-align: right;\n",
       "    }\n",
       "</style>\n",
       "<table border=\"1\" class=\"dataframe\">\n",
       "  <thead>\n",
       "    <tr style=\"text-align: right;\">\n",
       "      <th></th>\n",
       "      <th>fraud_precision</th>\n",
       "      <th>fraud_recall</th>\n",
       "      <th>fraud_f1-score</th>\n",
       "    </tr>\n",
       "    <tr>\n",
       "      <th>name</th>\n",
       "      <th></th>\n",
       "      <th></th>\n",
       "      <th></th>\n",
       "    </tr>\n",
       "  </thead>\n",
       "  <tbody>\n",
       "    <tr>\n",
       "      <th>k nearest neighbors</th>\n",
       "      <td>1.000000</td>\n",
       "      <td>0.803030</td>\n",
       "      <td>0.890756</td>\n",
       "    </tr>\n",
       "    <tr>\n",
       "      <th>support vectors</th>\n",
       "      <td>1.000000</td>\n",
       "      <td>0.813131</td>\n",
       "      <td>0.896936</td>\n",
       "    </tr>\n",
       "    <tr>\n",
       "      <th>random forest</th>\n",
       "      <td>0.982301</td>\n",
       "      <td>0.840909</td>\n",
       "      <td>0.906122</td>\n",
       "    </tr>\n",
       "    <tr>\n",
       "      <th>logistic regression</th>\n",
       "      <td>0.974719</td>\n",
       "      <td>0.876263</td>\n",
       "      <td>0.922872</td>\n",
       "    </tr>\n",
       "    <tr>\n",
       "      <th>XGBoost</th>\n",
       "      <td>0.974063</td>\n",
       "      <td>0.853535</td>\n",
       "      <td>0.909825</td>\n",
       "    </tr>\n",
       "    <tr>\n",
       "      <th>linear discriminant</th>\n",
       "      <td>0.951807</td>\n",
       "      <td>0.797980</td>\n",
       "      <td>0.868132</td>\n",
       "    </tr>\n",
       "    <tr>\n",
       "      <th>decision tree</th>\n",
       "      <td>0.936963</td>\n",
       "      <td>0.825758</td>\n",
       "      <td>0.877852</td>\n",
       "    </tr>\n",
       "  </tbody>\n",
       "</table>\n",
       "</div>"
      ],
      "text/plain": [
       "                     fraud_precision  fraud_recall  fraud_f1-score\n",
       "name                                                              \n",
       "k nearest neighbors  1.000000         0.803030      0.890756      \n",
       "support vectors      1.000000         0.813131      0.896936      \n",
       "random forest        0.982301         0.840909      0.906122      \n",
       "logistic regression  0.974719         0.876263      0.922872      \n",
       "XGBoost              0.974063         0.853535      0.909825      \n",
       "linear discriminant  0.951807         0.797980      0.868132      \n",
       "decision tree        0.936963         0.825758      0.877852      "
      ]
     },
     "execution_count": 43,
     "metadata": {},
     "output_type": "execute_result"
    }
   ],
   "source": [
    "blah[['fraud_precision', 'fraud_recall', 'fraud_f1-score']].sort_values('fraud_precision', ascending=False)"
   ]
  },
  {
   "cell_type": "code",
   "execution_count": 37,
   "metadata": {},
   "outputs": [],
   "source": [
    "results.to_pickle('./results/undersample.pkl')"
   ]
  },
  {
   "cell_type": "markdown",
   "metadata": {},
   "source": [
    "## Undersampling write-up "
   ]
  },
  {
   "cell_type": "code",
   "execution_count": null,
   "metadata": {},
   "outputs": [],
   "source": []
  }
 ],
 "metadata": {
  "kernelspec": {
   "display_name": "Python 2",
   "language": "python",
   "name": "python2"
  },
  "language_info": {
   "codemirror_mode": {
    "name": "ipython",
    "version": 2
   },
   "file_extension": ".py",
   "mimetype": "text/x-python",
   "name": "python",
   "nbconvert_exporter": "python",
   "pygments_lexer": "ipython2",
   "version": "2.7.15"
  }
 },
 "nbformat": 4,
 "nbformat_minor": 2
}
